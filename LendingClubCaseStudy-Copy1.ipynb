{
 "cells": [
  {
   "cell_type": "markdown",
   "id": "ee964c14-d2d9-47c0-9d24-73d6ed2e5ec0",
   "metadata": {},
   "source": [
    "# Lending Club Case Study\n",
    "### by Ayush and Nivedita"
   ]
  },
  {
   "cell_type": "markdown",
   "id": "51aab928-2c59-4eec-8bab-8a2a0edd15f9",
   "metadata": {},
   "source": [
    "## Imports"
   ]
  },
  {
   "cell_type": "code",
   "execution_count": null,
   "id": "18cb8ea5-85e4-4f76-80c1-8fd2d1c8706b",
   "metadata": {},
   "outputs": [],
   "source": [
    "import pandas as pd\n",
    "import numpy as np\n",
    "import matplotlib.pyplot as plt\n",
    "import seaborn as sns"
   ]
  },
  {
   "cell_type": "markdown",
   "id": "1cc9522b-e340-40b3-b244-ea85d750e06f",
   "metadata": {},
   "source": [
    "## Loading Data"
   ]
  },
  {
   "cell_type": "code",
   "execution_count": null,
   "id": "127f73cb-9330-4ce6-b7f6-83db0224e099",
   "metadata": {},
   "outputs": [],
   "source": [
    "loan_df = pd.read_csv('loan.csv', low_memory=False)"
   ]
  },
  {
   "cell_type": "code",
   "execution_count": null,
   "id": "269cb159-05fd-4458-9f54-0b5d14f09627",
   "metadata": {},
   "outputs": [],
   "source": [
    "loan_df.head()"
   ]
  },
  {
   "cell_type": "code",
   "execution_count": null,
   "id": "cd5e5b39-6a6f-4393-8a86-d9ffa79ff87b",
   "metadata": {},
   "outputs": [],
   "source": [
    "loan_df.shape"
   ]
  },
  {
   "cell_type": "markdown",
   "id": "36d589f1-30e7-4460-86f0-8edc3aeada39",
   "metadata": {},
   "source": [
    "- Observation: There are 39k+ rows and 100+ columns"
   ]
  },
  {
   "cell_type": "code",
   "execution_count": null,
   "id": "8e90e3e8-0aed-4288-ae52-d44c1ca8cb80",
   "metadata": {},
   "outputs": [],
   "source": [
    "loan_df.info()"
   ]
  },
  {
   "cell_type": "code",
   "execution_count": null,
   "id": "8c67eef8-f860-442d-9f4f-00ecf51c68ed",
   "metadata": {},
   "outputs": [],
   "source": [
    "loan_df.describe()"
   ]
  },
  {
   "cell_type": "markdown",
   "id": "c699e968-2280-4fc2-a90b-4523f62dd41f",
   "metadata": {},
   "source": [
    "Observation \n",
    "- There seem to be columns which have most values missing\n",
    "- These can be dropped"
   ]
  },
  {
   "cell_type": "markdown",
   "id": "72faf7b5-10e7-4332-8eb2-5c60b6065cda",
   "metadata": {},
   "source": [
    "---"
   ]
  },
  {
   "cell_type": "markdown",
   "id": "9d0ee444-e902-4a5b-94fd-f7baddc06e62",
   "metadata": {},
   "source": [
    "## Feature Extraction\n",
    "- We will choose the required columns for anlysis and drop the rest\n",
    "- We will also drop columns with more than 90% missing values"
   ]
  },
  {
   "cell_type": "markdown",
   "id": "3511e34a-71b8-4d8e-9a37-58eb5ef6229b",
   "metadata": {},
   "source": [
    "### Null Value Analysis\n",
    "- Choosing between imputing or dropping values based on threshold"
   ]
  },
  {
   "cell_type": "code",
   "execution_count": null,
   "id": "d9b7e955-caa3-434d-a847-63e76e39dec1",
   "metadata": {},
   "outputs": [],
   "source": [
    "# ?loan_df.dropna"
   ]
  },
  {
   "cell_type": "markdown",
   "id": "729a95e1-1957-4a36-a5bc-917282093bda",
   "metadata": {},
   "source": [
    "#### Columns - Null Value Analysis"
   ]
  },
  {
   "cell_type": "markdown",
   "id": "476ed137-f55e-4105-823e-2236a597ccc9",
   "metadata": {},
   "source": [
    "##### Dropping columns where all values are missing"
   ]
  },
  {
   "cell_type": "code",
   "execution_count": null,
   "id": "00fe3403-13e1-44f6-9f59-3cecea58f81b",
   "metadata": {},
   "outputs": [],
   "source": [
    "loan_df.dropna(how='all', axis=1, inplace=True)"
   ]
  },
  {
   "cell_type": "code",
   "execution_count": null,
   "id": "664872a3-35d5-4572-9afc-1be286ca931d",
   "metadata": {},
   "outputs": [],
   "source": [
    "loan_df.shape"
   ]
  },
  {
   "cell_type": "code",
   "execution_count": null,
   "id": "98204e10-6df5-43cc-9651-2a0bccaf3385",
   "metadata": {},
   "outputs": [],
   "source": [
    "df_checkpoint = loan_df.copy()"
   ]
  },
  {
   "cell_type": "code",
   "execution_count": null,
   "id": "b83c6d87-4513-43cc-acbb-87aae8271b8d",
   "metadata": {},
   "outputs": [],
   "source": [
    "loan_df.shape"
   ]
  },
  {
   "cell_type": "markdown",
   "id": "07be9fd2-9c29-4140-b56e-ca0d937ea6f9",
   "metadata": {},
   "source": [
    "##### Dropping columns which only have one type of value\n",
    "- they won't provide any relevants insights (they have only value throughout the column)"
   ]
  },
  {
   "cell_type": "code",
   "execution_count": null,
   "id": "93b2ad21-954a-477f-bd8b-6faf3799bc4f",
   "metadata": {},
   "outputs": [],
   "source": [
    "for col in loan_df.columns:\n",
    "    if len(loan_df[col].unique()) == 1:\n",
    "        print(\"dropping:\", col, \"which contained:\", loan_df[col].unique(), 'as the only value')\n",
    "        loan_df.drop(col, inplace=True, axis=1)"
   ]
  },
  {
   "cell_type": "code",
   "execution_count": null,
   "id": "e2b68112-cc37-43f2-922d-3662f806133a",
   "metadata": {},
   "outputs": [],
   "source": [
    "loan_df.shape"
   ]
  },
  {
   "cell_type": "code",
   "execution_count": null,
   "id": "50b9ff56-96fd-4d7c-9b55-f794e1e97f01",
   "metadata": {},
   "outputs": [],
   "source": [
    "col_checkpoint = loan_df.copy()"
   ]
  },
  {
   "cell_type": "code",
   "execution_count": null,
   "id": "1d2d87ba-01f5-486a-bb93-26f0da87de86",
   "metadata": {},
   "outputs": [],
   "source": [
    "loan_df.shape"
   ]
  },
  {
   "cell_type": "markdown",
   "id": "838a8996-f136-4863-a3e4-d6b7f27cae2f",
   "metadata": {},
   "source": [
    "##### Checking percentage of missing values in all columns"
   ]
  },
  {
   "cell_type": "code",
   "execution_count": null,
   "id": "8882a71e-3e0e-49e7-9a88-edea5c9f2f50",
   "metadata": {},
   "outputs": [],
   "source": [
    "miss_percentage = round(100*(loan_df.isnull().sum()/len(loan_df.id)), 2)"
   ]
  },
  {
   "cell_type": "code",
   "execution_count": null,
   "id": "0b185008-1e21-4fa2-965f-ec1c8d890380",
   "metadata": {},
   "outputs": [],
   "source": [
    "# list of columns which have missing values\n",
    "miss_percentage.loc[miss_percentage > 0]"
   ]
  },
  {
   "cell_type": "markdown",
   "id": "358886b2-1458-4195-ad80-a9ca84694d94",
   "metadata": {},
   "source": [
    "###### Observation: We can see that there are 2 columns with more than 90% missing values and one column with more than 60% missing values."
   ]
  },
  {
   "cell_type": "markdown",
   "id": "db6f92eb-6d9c-474e-a659-9cfcf761572c",
   "metadata": {},
   "source": [
    "- First, we remove the columns with more than 90% missing values"
   ]
  },
  {
   "cell_type": "code",
   "execution_count": null,
   "id": "9d08e74c-4943-444f-82ab-250c214e41af",
   "metadata": {},
   "outputs": [],
   "source": [
    "loan_df.drop(list(miss_percentage[miss_percentage >= 90].index), axis=1, inplace=True)"
   ]
  },
  {
   "cell_type": "markdown",
   "id": "61094df3-f650-46d7-8e2b-34f89acf8be6",
   "metadata": {},
   "source": [
    "- Next, we check what kind of values does mths_since_last_delinq has."
   ]
  },
  {
   "cell_type": "code",
   "execution_count": null,
   "id": "81078fa1-f41a-4dba-973f-a3a0197fd294",
   "metadata": {},
   "outputs": [],
   "source": [
    "loan_df.mths_since_last_delinq.describe()"
   ]
  },
  {
   "cell_type": "code",
   "execution_count": null,
   "id": "2a68088a-5082-4d1e-a94c-8cdb7c0615fa",
   "metadata": {},
   "outputs": [],
   "source": [
    "loan_df.mths_since_last_delinq.value_counts()"
   ]
  },
  {
   "cell_type": "code",
   "execution_count": null,
   "id": "370879fa-0063-4825-8ac4-a07c8753d4cd",
   "metadata": {},
   "outputs": [],
   "source": [
    "fig, (ax1, ax2) = plt.subplots(1, 2, figsize=(15,6))\n",
    "\n",
    "loan_df.mths_since_last_delinq.value_counts().plot(kind='hist', ax=ax1)\n",
    "loan_df.mths_since_last_delinq.value_counts()[0:10].plot(kind='bar', ax=ax2)\n",
    "\n",
    "plt.show()"
   ]
  },
  {
   "cell_type": "code",
   "execution_count": null,
   "id": "1e5b93dd-0bba-44eb-adde-09f96f23259f",
   "metadata": {},
   "outputs": [],
   "source": [
    "sns.boxplot(x='mths_since_last_delinq', data=loan_df)\n",
    "plt.show()"
   ]
  },
  {
   "cell_type": "markdown",
   "id": "6feba459-0ede-4ac8-b576-7c7e7248f3e9",
   "metadata": {},
   "source": [
    "#### Note:\n",
    "\n",
    "This column lets us know the number of months since the borrower's last delinquency.  \n",
    "Since this is an important metric for loan application, we will be keeping this value.  \n",
    "However, we are not be imputing the values in this phase. We will do so later if required"
   ]
  },
  {
   "cell_type": "code",
   "execution_count": null,
   "id": "60f79e8d-7475-4ebf-9049-bf95cd92b3ee",
   "metadata": {},
   "outputs": [],
   "source": [
    "loan_df.shape"
   ]
  },
  {
   "cell_type": "markdown",
   "id": "6b573b03-ba2d-47c4-ac8a-f1ae0a8b3425",
   "metadata": {},
   "source": [
    "###### Observation: about 55% of the columns had no relevant information, and have beend dropped"
   ]
  },
  {
   "cell_type": "markdown",
   "id": "d6cd4c04-50f1-4d2c-8f45-2a0498f8cb3e",
   "metadata": {},
   "source": [
    "---"
   ]
  },
  {
   "cell_type": "markdown",
   "id": "de878dec-7069-408e-8f63-e6eb01eb6ca7",
   "metadata": {},
   "source": [
    "#### Rows - Null Value Analysis"
   ]
  },
  {
   "cell_type": "code",
   "execution_count": null,
   "id": "eb41da9e-4240-40a2-9b0d-c5ad42a078fb",
   "metadata": {},
   "outputs": [],
   "source": [
    "loan_df.dropna(how='all', axis=0).shape"
   ]
  },
  {
   "cell_type": "markdown",
   "id": "c61530fb-7319-4509-baab-6b3b12e71b22",
   "metadata": {},
   "source": [
    "##### Observation: There are no rows where all values are missing"
   ]
  },
  {
   "cell_type": "code",
   "execution_count": null,
   "id": "884f34e6-f89c-498b-9508-271fab4a16c3",
   "metadata": {},
   "outputs": [],
   "source": [
    "loan_df.dropna().shape"
   ]
  },
  {
   "cell_type": "code",
   "execution_count": null,
   "id": "7ee4ff91-5424-4f57-bb59-2eb16d9a9083",
   "metadata": {},
   "outputs": [],
   "source": [
    "len(loan_df[loan_df.isnull().sum(axis=1) <= 3])"
   ]
  },
  {
   "cell_type": "markdown",
   "id": "479bb157-11a7-429c-ad79-78f214a9676e",
   "metadata": {},
   "source": [
    "##### Observation: There are no rows with more than 3 missing values, hence no rows need to be dropped"
   ]
  },
  {
   "cell_type": "markdown",
   "id": "82a3b7fa-d193-45bc-abba-643ba0812e04",
   "metadata": {},
   "source": [
    "---"
   ]
  },
  {
   "cell_type": "markdown",
   "id": "d8eb2f2e-df4f-4be4-b26a-fba487059ca6",
   "metadata": {},
   "source": [
    "### Feature Extraction\n",
    "- We will analyze the columns and description and decide whether they are relevant for our analysis or not"
   ]
  },
  {
   "cell_type": "code",
   "execution_count": null,
   "id": "6e8c6ff9-e7a6-4a56-8667-6828adf1c708",
   "metadata": {},
   "outputs": [],
   "source": [
    "loan_df.columns"
   ]
  },
  {
   "cell_type": "markdown",
   "id": "3f14487e-614e-497a-8786-ca57ac36ee9e",
   "metadata": {},
   "source": [
    "##### Dropping customer behavior columns which are not present at the time of loan application"
   ]
  },
  {
   "cell_type": "code",
   "execution_count": null,
   "id": "3f8234ea-bbb7-4a63-8d73-0350d3ae3e1a",
   "metadata": {},
   "outputs": [],
   "source": [
    "all_cust_behav_col = ['collection_recovery_fee','delinq_2yrs','earliest_cr_line','inq_last_6mths','last_credit_pull_d','last_pymnt_amnt','last_pymnt_d','open_acc','out_prncp','out_prncp_inv','pub_rec','recoveries','revol_bal','revol_util','total_acc','total_pymnt','total_pymnt_inv','total_rec_int','total_rec_late_fee','total_rec_prncp']\n",
    "loan_df.drop(all_cust_behav_col, axis=1, inplace=True)"
   ]
  },
  {
   "cell_type": "markdown",
   "id": "50513cb8-02d6-4b5c-aff7-1525cc121752",
   "metadata": {},
   "source": [
    "##### After analyzing the column description we have decided to drop some columns"
   ]
  },
  {
   "cell_type": "markdown",
   "id": "bbb5387a-e9d4-420a-8998-2931c554edea",
   "metadata": {},
   "source": [
    "| Column          | Reason                                |\n",
    "|-----------------|---------------------------------------|\n",
    "| member_id       | similar to id                         |\n",
    "| funded_amnt     | Data Unavailable when loan is applied |\n",
    "| funded_amnt_inv | Data Unavailable when loan is applied |\n",
    "| url             | not required for analysis             |\n",
    "| desc            | not important for reducing risk       |\n",
    "| title           | similar to purpose                    |\n"
   ]
  },
  {
   "cell_type": "code",
   "execution_count": null,
   "id": "95f61856-fb00-4b59-9f58-d7694181dedf",
   "metadata": {},
   "outputs": [],
   "source": [
    "loan_df.drop(['member_id', 'funded_amnt', 'funded_amnt_inv', 'url', 'desc', 'title'], axis=1, inplace=True)"
   ]
  },
  {
   "cell_type": "code",
   "execution_count": null,
   "id": "15f99ebe-ac10-409e-b497-e50a867b246c",
   "metadata": {},
   "outputs": [],
   "source": [
    "loan_df.shape"
   ]
  },
  {
   "cell_type": "code",
   "execution_count": null,
   "id": "e4c98ca7-cc5e-4447-9c54-22802e74daf7",
   "metadata": {},
   "outputs": [],
   "source": [
    "loan_df.columns"
   ]
  },
  {
   "cell_type": "markdown",
   "id": "42faa6e0-3dbd-4fc7-a50c-208e9dddc663",
   "metadata": {},
   "source": [
    "##### For the analysis, there is no particular relevance of the `id` column, hence dropping it"
   ]
  },
  {
   "cell_type": "code",
   "execution_count": null,
   "id": "aedb6668-2fef-4f15-bb49-bd1b4925e8b7",
   "metadata": {},
   "outputs": [],
   "source": [
    "loan_df.drop(['id'], axis=1, inplace=True)"
   ]
  },
  {
   "cell_type": "markdown",
   "id": "db727b69-6e0b-41e6-a16c-6495bbf463f4",
   "metadata": {},
   "source": [
    "##### Looking closely at the data, some of the columns are filled with one value or NaN, so we will drop these as well"
   ]
  },
  {
   "cell_type": "code",
   "execution_count": null,
   "id": "3671c4b5-a6bc-4603-8635-b2dc6ac9108d",
   "metadata": {},
   "outputs": [],
   "source": [
    "loan_df.collections_12_mths_ex_med.unique()"
   ]
  },
  {
   "cell_type": "code",
   "execution_count": null,
   "id": "d00e6d9d-85e6-4017-8b9c-1c43e236b5e3",
   "metadata": {},
   "outputs": [],
   "source": [
    "loan_df.chargeoff_within_12_mths.unique()"
   ]
  },
  {
   "cell_type": "code",
   "execution_count": null,
   "id": "523e6bc7-7eaa-4459-88c2-a4706abca374",
   "metadata": {},
   "outputs": [],
   "source": [
    "loan_df.tax_liens.unique()"
   ]
  },
  {
   "cell_type": "code",
   "execution_count": null,
   "id": "121ac90f-805f-43f1-a0c2-b2e4cd436849",
   "metadata": {},
   "outputs": [],
   "source": [
    "loan_df.drop(['collections_12_mths_ex_med', 'chargeoff_within_12_mths', 'tax_liens'], axis=1, inplace=True)"
   ]
  },
  {
   "cell_type": "code",
   "execution_count": null,
   "id": "8a935d02-3b5b-4d2c-bb93-d5570e775e71",
   "metadata": {},
   "outputs": [],
   "source": [
    "loan_df.shape"
   ]
  },
  {
   "cell_type": "markdown",
   "id": "0c3e8f42-c42a-4684-b51d-c34e4ba7597f",
   "metadata": {},
   "source": [
    "###### Observation: ~17% columns remain after feature selection"
   ]
  },
  {
   "cell_type": "markdown",
   "id": "be10e6e0-6141-4fcd-b5f5-c8cf5072c0ad",
   "metadata": {},
   "source": [
    "##### As a final step we check for correlation between the numeric columns"
   ]
  },
  {
   "cell_type": "code",
   "execution_count": null,
   "id": "29b78db9-a280-449e-9d10-26891d1b8bc1",
   "metadata": {},
   "outputs": [],
   "source": [
    "loan_df.corr()"
   ]
  },
  {
   "cell_type": "code",
   "execution_count": null,
   "id": "084f3d21-8e12-45ff-931a-624b69c36c70",
   "metadata": {},
   "outputs": [],
   "source": [
    "ax = sns.heatmap(\n",
    "    loan_df.corr(), \n",
    "    vmin=-1, vmax=1, center=0,\n",
    "    cmap=sns.diverging_palette(20, 220, n=200),\n",
    "    square=True\n",
    ")\n",
    "ax.set_xticklabels(\n",
    "    ax.get_xticklabels(),\n",
    "    rotation=45,\n",
    "    horizontalalignment='right'\n",
    ");"
   ]
  },
  {
   "cell_type": "markdown",
   "id": "b8a53909-6b3b-4b41-8cf9-9ade5e05df23",
   "metadata": {},
   "source": [
    "#### Observation: \n",
    "- Installament and Loan Amount are positively correlated (strong)\n",
    "- dti and annual income are negatively correlated (weak)"
   ]
  },
  {
   "cell_type": "code",
   "execution_count": null,
   "id": "b215cd2f-890a-4be6-9ca3-341942ed9f04",
   "metadata": {},
   "outputs": [],
   "source": [
    "loan_df.head()"
   ]
  },
  {
   "cell_type": "code",
   "execution_count": null,
   "id": "0252a146-e448-4efc-8ed3-f2fab37e8c0a",
   "metadata": {},
   "outputs": [],
   "source": [
    "loan_df.loan_status.unique()"
   ]
  },
  {
   "cell_type": "code",
   "execution_count": null,
   "id": "72d8684d-6b61-43b7-a23f-8db5dd8ae2aa",
   "metadata": {},
   "outputs": [],
   "source": [
    "loan_df[loan_df.loan_status == 'Current'].shape"
   ]
  },
  {
   "cell_type": "markdown",
   "id": "7b99617b-d588-4af4-863d-68e46d011537",
   "metadata": {},
   "source": [
    "##### Note: We know that loan applications whose loan_status is Current are not relevant as these applicants cannot be classified as defaulters / non-defaulters as of now and hence these rows can be dropped"
   ]
  },
  {
   "cell_type": "code",
   "execution_count": null,
   "id": "253f59f8-a2ae-4ab5-8a3f-90dc7df31dc5",
   "metadata": {},
   "outputs": [],
   "source": [
    "loan_df = loan_df[~(loan_df.loan_status == 'Current')]"
   ]
  },
  {
   "cell_type": "code",
   "execution_count": null,
   "id": "d6b83a5e-e023-41eb-ae76-a98792fe251f",
   "metadata": {},
   "outputs": [],
   "source": [
    "loan_df.head()"
   ]
  },
  {
   "cell_type": "code",
   "execution_count": null,
   "id": "b4519451-1b0a-499b-bea7-3c83250d561d",
   "metadata": {},
   "outputs": [],
   "source": [
    "loan_df.shape"
   ]
  },
  {
   "cell_type": "markdown",
   "id": "68cf4c34-72b4-40ee-9307-5bc4a838beab",
   "metadata": {},
   "source": [
    "###### Observation: Approximately 2.8% rows have been dropped from the data set"
   ]
  },
  {
   "cell_type": "markdown",
   "id": "2200a06f-6a17-4666-a1bd-788692b3cdbe",
   "metadata": {},
   "source": [
    "---"
   ]
  },
  {
   "cell_type": "markdown",
   "id": "eeae6038-a4bc-4afb-8183-4ad051b0c7b6",
   "metadata": {},
   "source": [
    "### Imputing Missing Values"
   ]
  },
  {
   "cell_type": "code",
   "execution_count": null,
   "id": "2b130431-48d3-471d-abb0-2bb56b6154a4",
   "metadata": {},
   "outputs": [],
   "source": [
    "miss_percentage = round(100*(loan_df.isnull().sum()/len(loan_df)), 2)"
   ]
  },
  {
   "cell_type": "markdown",
   "id": "8cc4bbc7-4b10-4d00-b6f8-46a3f38290c7",
   "metadata": {},
   "source": [
    "##### The following columns have missing values which can be imputed"
   ]
  },
  {
   "cell_type": "code",
   "execution_count": null,
   "id": "98c44a7f-2bbc-4b5b-8d8b-41447652f26c",
   "metadata": {},
   "outputs": [],
   "source": [
    "miss_percentage.loc[miss_percentage > 0].index.to_list()"
   ]
  },
  {
   "cell_type": "code",
   "execution_count": null,
   "id": "07db6575-b354-46a0-b805-55a16123aab1",
   "metadata": {},
   "outputs": [],
   "source": [
    "miss_percentage.loc[miss_percentage > 0]"
   ]
  },
  {
   "cell_type": "markdown",
   "id": "c0f41979-0fa7-48f4-a773-5415a4a7868c",
   "metadata": {},
   "source": [
    "#### Employee Title"
   ]
  },
  {
   "cell_type": "code",
   "execution_count": null,
   "id": "e816fc8f-3c06-4edc-a420-f90eff4e5c93",
   "metadata": {},
   "outputs": [],
   "source": [
    "loan_df.emp_title.value_counts()"
   ]
  },
  {
   "cell_type": "code",
   "execution_count": null,
   "id": "f13399b1-7f17-4348-9362-c4ed3e6e193d",
   "metadata": {},
   "outputs": [],
   "source": [
    "loan_df.emp_title.value_counts()[0:10].plot(kind='bar')\n",
    "plt.show()"
   ]
  },
  {
   "cell_type": "code",
   "execution_count": null,
   "id": "826132f0-e2de-41a6-9638-07e7126e9a06",
   "metadata": {},
   "outputs": [],
   "source": [
    "loan_df.emp_title.mode()"
   ]
  },
  {
   "cell_type": "markdown",
   "id": "e9682ada-fe06-411c-b5ef-4c4d8a3ed565",
   "metadata": {},
   "source": [
    "##### Note: Dropping emp_title\n",
    "6% of the data (~1800 entries) is missing in emp_title, however, the most frequenty occuring emp_title (US Army) is ~0.44% (134 entries), hence filling this column with mode will skew the data.   \n",
    "Moreover, many of the emp_titles are in small numbers, so it may not be fruitful to analyze this column."
   ]
  },
  {
   "cell_type": "code",
   "execution_count": null,
   "id": "ff1b56ec-216f-4de0-ad87-1ddae71318bf",
   "metadata": {},
   "outputs": [],
   "source": [
    "loan_df.drop(['emp_title'], axis=1, inplace=True)"
   ]
  },
  {
   "cell_type": "code",
   "execution_count": null,
   "id": "0cab46a4-ac0e-4e81-a83c-856539e58b83",
   "metadata": {},
   "outputs": [],
   "source": [
    "loan_df.shape"
   ]
  },
  {
   "cell_type": "markdown",
   "id": "fb1e08fa-57bc-4ec2-adea-9d5a21409a46",
   "metadata": {},
   "source": [
    "---"
   ]
  },
  {
   "cell_type": "markdown",
   "id": "a50719b4-09a9-4b40-b660-ddbcc677d2e0",
   "metadata": {},
   "source": [
    "#### Employee Length (length of employment)"
   ]
  },
  {
   "cell_type": "code",
   "execution_count": null,
   "id": "dd062803-7a4f-4835-820b-2e9e68d7cf46",
   "metadata": {},
   "outputs": [],
   "source": [
    "loan_df.emp_length.value_counts()"
   ]
  },
  {
   "cell_type": "markdown",
   "id": "68a4c8d3-90a7-46ce-9d09-32870765ffb0",
   "metadata": {},
   "source": [
    "##### Normalizing Employee Length\n",
    "- Remove years\n",
    "- Remove year\n",
    "- Replace < 1 with 0\n",
    "- Replace 10+ with 10\n",
    "- convert to numeric data"
   ]
  },
  {
   "cell_type": "code",
   "execution_count": null,
   "id": "4800d3eb-78f2-4cf0-b919-1757c970ec12",
   "metadata": {},
   "outputs": [],
   "source": [
    "def clean_up(x):\n",
    "    str_x = str(x)\n",
    "    if str(x) == 'nan':\n",
    "        return x\n",
    "    else:\n",
    "        normalized = str_x.replace('years', '').replace('year', '').replace('< 1', '0').replace('10+', '10')\n",
    "        return int(normalized)"
   ]
  },
  {
   "cell_type": "code",
   "execution_count": null,
   "id": "81a6a6a3-74c5-4781-9d67-924b2f481547",
   "metadata": {},
   "outputs": [],
   "source": [
    "loan_df.emp_length = loan_df.emp_length.apply(clean_up)"
   ]
  },
  {
   "cell_type": "code",
   "execution_count": null,
   "id": "614724e2-500c-42b2-a68e-0f9ea4c0151e",
   "metadata": {},
   "outputs": [],
   "source": [
    "loan_df.emp_length.value_counts()"
   ]
  },
  {
   "cell_type": "code",
   "execution_count": null,
   "id": "2c14a5ab-8762-4471-8f92-e2930e35795b",
   "metadata": {},
   "outputs": [],
   "source": [
    "100*loan_df.emp_length.value_counts()/sum(loan_df.emp_length.value_counts())"
   ]
  },
  {
   "cell_type": "code",
   "execution_count": null,
   "id": "bdea4549-7775-40b4-9fb8-fc0c7f4271f4",
   "metadata": {},
   "outputs": [],
   "source": [
    "loan_df.emp_length.isnull().sum()"
   ]
  },
  {
   "cell_type": "code",
   "execution_count": null,
   "id": "7fc2bab5-51c1-4697-8eb2-3f986f855b23",
   "metadata": {},
   "outputs": [],
   "source": [
    "loan_df.emp_length.describe()"
   ]
  },
  {
   "cell_type": "code",
   "execution_count": null,
   "id": "a19b42e1-c24e-46a1-8606-29bc37222e21",
   "metadata": {},
   "outputs": [],
   "source": [
    "fig, (ax1, ax2, ax3) = plt.subplots(1, 3, figsize=(20,6))\n",
    "\n",
    "loan_df.emp_length.value_counts().plot(kind='bar', ax=ax1)\n",
    "sns.boxplot(x='emp_length', data=loan_df, ax=ax2)\n",
    "# sns.kdeplot(x='emp_length', data=loan_df, ax=ax3)\n",
    "loan_df.emp_length.plot(kind='kde', ax=ax3)\n",
    "\n",
    "plt.show()"
   ]
  },
  {
   "cell_type": "markdown",
   "id": "ec6c9ceb-348b-48e4-b168-21409fce4503",
   "metadata": {},
   "source": [
    "##### Imputing null values of emp_length with mode\n",
    "- Looking at the plots, it is more likely that the missing values will be filled with 10 (mode)\n",
    "- This was originally categorical data, which is usually filled with mode"
   ]
  },
  {
   "cell_type": "code",
   "execution_count": null,
   "id": "1c0432da-e71e-42c2-a3c2-91d079b263fe",
   "metadata": {},
   "outputs": [],
   "source": [
    "loan_df.emp_length.fillna(loan_df.emp_length.mode()[0], inplace=True)"
   ]
  },
  {
   "cell_type": "code",
   "execution_count": null,
   "id": "dd8d898e-e03d-49f8-a5ec-5c5264dc38dd",
   "metadata": {},
   "outputs": [],
   "source": [
    "loan_df.emp_length.isnull().sum()"
   ]
  },
  {
   "cell_type": "code",
   "execution_count": null,
   "id": "50b83cd1-a35a-4951-b25f-42fb53e90081",
   "metadata": {},
   "outputs": [],
   "source": [
    "loan_df.emp_length.value_counts()"
   ]
  },
  {
   "cell_type": "markdown",
   "id": "bb23a17e-c282-4a60-a8c2-2dc68d3fc8d6",
   "metadata": {},
   "source": [
    "##### Checking impact of imputing with mode via plots"
   ]
  },
  {
   "cell_type": "code",
   "execution_count": null,
   "id": "718db47c-7b5d-48be-97f8-f401e8d2e46e",
   "metadata": {},
   "outputs": [],
   "source": [
    "fig, (ax1, ax2, ax3) = plt.subplots(1, 3, figsize=(20,6))\n",
    "\n",
    "loan_df.emp_length.value_counts().plot(kind='bar', ax=ax1)\n",
    "sns.boxplot(x='emp_length', data=loan_df, ax=ax2)\n",
    "# sns.kdeplot(x='emp_length', data=loan_df, ax=ax3)\n",
    "loan_df.emp_length.plot(kind='kde', ax=ax3)\n",
    "\n",
    "plt.show()"
   ]
  },
  {
   "cell_type": "markdown",
   "id": "e4fdc550-88db-4259-934d-5d3e883b8be3",
   "metadata": {},
   "source": [
    "##### Observation: The plots look similar before and after imputation, hence filling with mode is a good approach."
   ]
  },
  {
   "cell_type": "markdown",
   "id": "acb5582e-6fd9-4a8a-8a33-eed3da41c5cf",
   "metadata": {},
   "source": [
    "---"
   ]
  },
  {
   "cell_type": "markdown",
   "id": "42bd7def-dc11-42b9-a016-46467b1bfe43",
   "metadata": {},
   "source": [
    "#### Public Bankruptcies"
   ]
  },
  {
   "cell_type": "code",
   "execution_count": null,
   "id": "64444c7d-dcb4-4903-9798-5acfe858c930",
   "metadata": {},
   "outputs": [],
   "source": [
    "loan_df.pub_rec_bankruptcies.value_counts()"
   ]
  },
  {
   "cell_type": "code",
   "execution_count": null,
   "id": "c09bae06-3965-4333-bab1-b5ca00e6aa41",
   "metadata": {},
   "outputs": [],
   "source": [
    "loan_df.pub_rec_bankruptcies.isnull().sum()"
   ]
  },
  {
   "cell_type": "markdown",
   "id": "0d7719ff-68b0-4cba-8291-245071f785f1",
   "metadata": {},
   "source": [
    "##### Imputing the missing values for public bankruptcies with 0 (mode) as out of 38k+ records 36k+ records are filled with 0"
   ]
  },
  {
   "cell_type": "code",
   "execution_count": null,
   "id": "8a8e40be-e281-4742-8775-df4b223bf113",
   "metadata": {},
   "outputs": [],
   "source": [
    "loan_df.pub_rec_bankruptcies.fillna(loan_df.pub_rec_bankruptcies.mode()[0], inplace=True)"
   ]
  },
  {
   "cell_type": "code",
   "execution_count": null,
   "id": "e74cef04-4798-49d3-9c57-758a68c35778",
   "metadata": {},
   "outputs": [],
   "source": [
    "loan_df.pub_rec_bankruptcies.isnull().sum()"
   ]
  },
  {
   "cell_type": "code",
   "execution_count": null,
   "id": "9751565a-e10f-402f-9659-c968b5e959d0",
   "metadata": {},
   "outputs": [],
   "source": [
    "loan_df.pub_rec_bankruptcies.value_counts()"
   ]
  },
  {
   "cell_type": "markdown",
   "id": "1afa95cc-cc38-4e2f-9805-a94bdc0c8405",
   "metadata": {},
   "source": [
    "---"
   ]
  },
  {
   "cell_type": "code",
   "execution_count": null,
   "id": "4581fce9-cd4d-4719-8953-9b287ffc3f21",
   "metadata": {},
   "outputs": [],
   "source": [
    "loan_df.info()"
   ]
  },
  {
   "cell_type": "markdown",
   "id": "a65ff726-efdb-412e-a8d9-292590da54ee",
   "metadata": {},
   "source": [
    "##### Observation: \n",
    "- There are total 38577 records in the data\n",
    "- All null values have been imputed except for mths_since_last_delinq"
   ]
  },
  {
   "cell_type": "markdown",
   "id": "df289140-24b5-44db-8a3b-abe28d9c754d",
   "metadata": {},
   "source": [
    "---\n"
   ]
  },
  {
   "cell_type": "markdown",
   "id": "c33bfbf4-a965-4c46-a853-cf2f3d79512b",
   "metadata": {},
   "source": [
    "### Derived Columns"
   ]
  },
  {
   "cell_type": "markdown",
   "id": "ba64c55c-88a6-4a6d-a8e6-ffb53650badb",
   "metadata": {},
   "source": [
    "#### Converting issue_d column to Date Time format\n",
    "- this will help in adding month and year columns"
   ]
  },
  {
   "cell_type": "code",
   "execution_count": null,
   "id": "4ccf9353-917d-4432-97b7-bb7c86d4bcb7",
   "metadata": {},
   "outputs": [],
   "source": [
    "loan_df.issue_d.head()"
   ]
  },
  {
   "cell_type": "code",
   "execution_count": null,
   "id": "88d8f813-0507-4dc4-b89c-39bf87f131d4",
   "metadata": {},
   "outputs": [],
   "source": [
    "loan_df.issue_d = pd.to_datetime(loan_df.issue_d, format=\"%b-%y\")"
   ]
  },
  {
   "cell_type": "code",
   "execution_count": null,
   "id": "2d78aa7d-c308-41d9-a8bd-0fcce2accd3e",
   "metadata": {},
   "outputs": [],
   "source": [
    "loan_df['month'] = pd.DatetimeIndex(loan_df.issue_d).month"
   ]
  },
  {
   "cell_type": "code",
   "execution_count": null,
   "id": "ebc7c1f4-447a-4150-95cf-cec24715c53c",
   "metadata": {},
   "outputs": [],
   "source": [
    "loan_df['year'] = pd.DatetimeIndex(loan_df.issue_d).year"
   ]
  },
  {
   "cell_type": "code",
   "execution_count": null,
   "id": "b7942626-3281-4b34-bcb8-c3abd35a250f",
   "metadata": {},
   "outputs": [],
   "source": [
    "loan_df.head()"
   ]
  },
  {
   "cell_type": "markdown",
   "id": "50d3c170-6033-4703-afe4-601bb3161b68",
   "metadata": {},
   "source": [
    "### Normalizing Data"
   ]
  },
  {
   "cell_type": "code",
   "execution_count": null,
   "id": "b2fa9fb8-6f5e-4dd7-b2ee-05b066a81fff",
   "metadata": {},
   "outputs": [],
   "source": [
    "loan_df.info()"
   ]
  },
  {
   "cell_type": "markdown",
   "id": "471a52bd-8558-4408-8bcc-d9cd50642e2b",
   "metadata": {},
   "source": [
    "#### Let's look at columns which have \"object\" as dtype (see [here](https://pandas.pydata.org/docs/reference/api/pandas.DataFrame.select_dtypes.html))"
   ]
  },
  {
   "cell_type": "code",
   "execution_count": null,
   "id": "0cf89ab9-cb6f-433f-871d-5b3237bfa473",
   "metadata": {},
   "outputs": [],
   "source": [
    "loan_df.select_dtypes('object')"
   ]
  },
  {
   "cell_type": "markdown",
   "id": "f3331064-e000-4dc3-bd1d-24d600d89ae7",
   "metadata": {},
   "source": [
    "##### term - 36 months / 60 months\n",
    "- convert to 0/1 where \n",
    "- 0 represents smaller term length (36 months) & \n",
    "- 1 represents larger term length of 60 months"
   ]
  },
  {
   "cell_type": "code",
   "execution_count": null,
   "id": "3b0a4a86-84ac-4289-b99a-21f6a170f60a",
   "metadata": {},
   "outputs": [],
   "source": [
    "loan_df.term.value_counts()"
   ]
  },
  {
   "cell_type": "code",
   "execution_count": null,
   "id": "307db7b0-e630-4b37-a15e-93745deb366b",
   "metadata": {},
   "outputs": [],
   "source": [
    "# loan_df.term = loan_df.term.apply(lambda x: float(x.replace('36 months', 0).replace('60 months', 1)))"
   ]
  },
  {
   "cell_type": "code",
   "execution_count": null,
   "id": "b52a98a9-82d7-4d64-bbf9-a4a9eae8e8dd",
   "metadata": {},
   "outputs": [],
   "source": [
    "loan_df.term.head()"
   ]
  },
  {
   "cell_type": "markdown",
   "id": "b6522091-c748-439b-8cfb-0f871c723acb",
   "metadata": {},
   "source": [
    "---"
   ]
  },
  {
   "cell_type": "markdown",
   "id": "3a202df4-5533-4cca-9f21-34cf25e3b5f9",
   "metadata": {},
   "source": [
    "##### interest rate\n",
    "- convert to numeric by dropping percentage"
   ]
  },
  {
   "cell_type": "code",
   "execution_count": null,
   "id": "0284e4ff-19a2-4d40-975c-4b4c7565c31b",
   "metadata": {},
   "outputs": [],
   "source": [
    "loan_df.int_rate.value_counts().head()"
   ]
  },
  {
   "cell_type": "code",
   "execution_count": null,
   "id": "4dcd2dd0-bbd7-4805-8262-0f601df6ed0a",
   "metadata": {},
   "outputs": [],
   "source": [
    "loan_df.int_rate = loan_df.int_rate.apply(lambda x: float(x.replace('%', '')))"
   ]
  },
  {
   "cell_type": "code",
   "execution_count": null,
   "id": "357a3625-513c-4c1e-8bce-9a27b183c0b3",
   "metadata": {},
   "outputs": [],
   "source": [
    "loan_df.int_rate.value_counts().head()"
   ]
  },
  {
   "cell_type": "markdown",
   "id": "86f9f67c-b771-4d50-afb7-bd8b15864ca3",
   "metadata": {},
   "source": [
    "---"
   ]
  },
  {
   "cell_type": "markdown",
   "id": "d7317577-0d8b-44c4-99fa-5d4eef6d9d6c",
   "metadata": {},
   "source": [
    "##### Home Ownersip\n",
    "- replace NONE with RENT"
   ]
  },
  {
   "cell_type": "code",
   "execution_count": null,
   "id": "d0227c6b-d55e-4fbc-b757-ea70436841d5",
   "metadata": {},
   "outputs": [],
   "source": [
    "loan_df.home_ownership.value_counts()"
   ]
  },
  {
   "cell_type": "markdown",
   "id": "0cd776b4-96f6-4fa1-8d26-6e94696e55a8",
   "metadata": {},
   "source": [
    "###### Imputing NONE with mode (i.e. RENT)"
   ]
  },
  {
   "cell_type": "code",
   "execution_count": null,
   "id": "655e7cf0-2da4-4f39-93b3-c53296af6add",
   "metadata": {},
   "outputs": [],
   "source": [
    "loan_df.home_ownership = loan_df.home_ownership.apply(lambda x: x.replace('NONE', 'RENT'))"
   ]
  },
  {
   "cell_type": "code",
   "execution_count": null,
   "id": "412e131e-2798-4c78-80c9-96a40e9b8063",
   "metadata": {},
   "outputs": [],
   "source": [
    "loan_df.home_ownership.value_counts()"
   ]
  },
  {
   "cell_type": "markdown",
   "id": "827a217f-e03f-42c6-8a29-f41e3e966fa8",
   "metadata": {},
   "source": [
    "---"
   ]
  },
  {
   "cell_type": "markdown",
   "id": "9afcdad1-24cf-4551-a5aa-fe0a215b241c",
   "metadata": {},
   "source": [
    "##### Verification Status"
   ]
  },
  {
   "cell_type": "code",
   "execution_count": null,
   "id": "16cb4cca-ba8e-4db0-913c-bc434ea2478d",
   "metadata": {},
   "outputs": [],
   "source": [
    "loan_df.verification_status.value_counts()"
   ]
  },
  {
   "cell_type": "markdown",
   "id": "f252da3f-0ee1-462a-9706-fbd39b2552ff",
   "metadata": {},
   "source": [
    "---"
   ]
  },
  {
   "cell_type": "markdown",
   "id": "c193fbe0-5590-4692-b1a7-1d7879f42549",
   "metadata": {},
   "source": [
    "##### Loan Status\n",
    "Since there are two types of categorical values, we can convert them to a numeric type for better analysis\n",
    "- charged off => 0\n",
    "- paid => 1"
   ]
  },
  {
   "cell_type": "code",
   "execution_count": null,
   "id": "18985cf1-9cc4-4922-a720-632cf26c9977",
   "metadata": {},
   "outputs": [],
   "source": [
    "loan_df.loan_status.value_counts()"
   ]
  },
  {
   "cell_type": "code",
   "execution_count": null,
   "id": "7742be3b-5406-4ef3-a127-86ad88e586c4",
   "metadata": {},
   "outputs": [],
   "source": [
    "loan_df.loan_status = loan_df.loan_status.apply(lambda x: int(x.replace('Fully Paid', '1').replace('Charged Off', '0')))"
   ]
  },
  {
   "cell_type": "code",
   "execution_count": null,
   "id": "98792a25-cdf0-467e-affe-931f58801942",
   "metadata": {},
   "outputs": [],
   "source": [
    "loan_df.loan_status.value_counts()"
   ]
  },
  {
   "cell_type": "markdown",
   "id": "cb3cf154-ac2c-4abf-82d1-0af37bab4f7f",
   "metadata": {},
   "source": [
    "---"
   ]
  },
  {
   "cell_type": "markdown",
   "id": "8ca86a46-89d3-462a-a530-3a1ef58fb835",
   "metadata": {},
   "source": [
    "##### Purpose"
   ]
  },
  {
   "cell_type": "code",
   "execution_count": null,
   "id": "50ee6332-e726-4762-ae7d-196f36449617",
   "metadata": {},
   "outputs": [],
   "source": [
    "loan_df.purpose.value_counts()"
   ]
  },
  {
   "cell_type": "markdown",
   "id": "48b7bfaf-eeb2-4279-ac94-022db7979bf9",
   "metadata": {},
   "source": [
    "---"
   ]
  },
  {
   "cell_type": "markdown",
   "id": "8fc013bd-daa7-4356-93db-0f50fb9feb58",
   "metadata": {},
   "source": [
    "##### Zip Code\n",
    "- convert to numeric by removing xx"
   ]
  },
  {
   "cell_type": "code",
   "execution_count": null,
   "id": "b4799418-b0cd-4e8f-b1b6-dab6d2966230",
   "metadata": {},
   "outputs": [],
   "source": [
    "loan_df.zip_code.value_counts().head()"
   ]
  },
  {
   "cell_type": "code",
   "execution_count": null,
   "id": "e455fe50-32fd-426d-8535-4106d1795bae",
   "metadata": {},
   "outputs": [],
   "source": [
    "loan_df.zip_code = loan_df.zip_code.apply(lambda x: int(x.replace('xx', '')))"
   ]
  },
  {
   "cell_type": "code",
   "execution_count": null,
   "id": "2407db0e-9a27-451b-b8ed-28de7c381634",
   "metadata": {},
   "outputs": [],
   "source": [
    "loan_df.zip_code.value_counts().head()"
   ]
  },
  {
   "cell_type": "markdown",
   "id": "56b70cf2-9164-4b23-9ccc-196f143df636",
   "metadata": {},
   "source": [
    "---"
   ]
  },
  {
   "cell_type": "markdown",
   "id": "ec0409f6-4b06-4297-9516-f4cae63df373",
   "metadata": {},
   "source": [
    "##### State (Address State - US)"
   ]
  },
  {
   "cell_type": "code",
   "execution_count": null,
   "id": "3ee81442-d8c2-472b-a3b9-4953bd9da810",
   "metadata": {},
   "outputs": [],
   "source": [
    "loan_df.addr_state.value_counts().head()"
   ]
  },
  {
   "cell_type": "markdown",
   "id": "38e58849-117b-44dc-8e3f-b2b9b04fc57c",
   "metadata": {},
   "source": [
    "---"
   ]
  },
  {
   "cell_type": "markdown",
   "id": "5cc910f9-a7c8-48ce-b8aa-e1a185d57c8e",
   "metadata": {},
   "source": [
    "##### Grade - convert to numeric for correlation / other analysis?"
   ]
  },
  {
   "cell_type": "code",
   "execution_count": null,
   "id": "31edbc5e-94a5-4b08-8f9a-e6aa3a692b52",
   "metadata": {},
   "outputs": [],
   "source": [
    "loan_df.grade.value_counts()"
   ]
  },
  {
   "cell_type": "markdown",
   "id": "9ecca20c-755f-4e44-b8c5-8ddb132ea0c0",
   "metadata": {},
   "source": [
    "---"
   ]
  },
  {
   "cell_type": "markdown",
   "id": "7bdd459c-1381-45d5-b0f1-385eabe77aed",
   "metadata": {},
   "source": [
    "##### Sub Grade - convert to numeric?"
   ]
  },
  {
   "cell_type": "code",
   "execution_count": null,
   "id": "7b6b4d83-a9f5-451d-9619-1b96659098d4",
   "metadata": {},
   "outputs": [],
   "source": [
    "loan_df.sub_grade.value_counts().head()"
   ]
  },
  {
   "cell_type": "markdown",
   "id": "77e6ba98-e14b-421b-90ce-ed777652bddd",
   "metadata": {},
   "source": [
    "###### Observation: Subgrade contains grade information as well"
   ]
  },
  {
   "cell_type": "code",
   "execution_count": null,
   "id": "8638ad7c-e67b-4df6-adca-bb6e8db1606b",
   "metadata": {},
   "outputs": [],
   "source": [
    "loan_df.loc[:,['grade', 'sub_grade']]"
   ]
  },
  {
   "cell_type": "code",
   "execution_count": null,
   "id": "bace1e2f-bdf3-432d-865b-bd5f0e16513f",
   "metadata": {},
   "outputs": [],
   "source": [
    "#loan_df['sub_grade_num'] = loan_df.sub_grade.apply(lambda x: x[1])"
   ]
  },
  {
   "cell_type": "code",
   "execution_count": null,
   "id": "956aead5-790c-45ba-9a47-55709149cc9c",
   "metadata": {},
   "outputs": [],
   "source": [
    "#loan_df.loc[:,['grade', 'sub_grade', 'sub_grade_num']]"
   ]
  },
  {
   "cell_type": "code",
   "execution_count": null,
   "id": "d22ace1b-33d1-4202-9744-98800af78d30",
   "metadata": {},
   "outputs": [],
   "source": [
    "loan_df.select_dtypes('object')"
   ]
  },
  {
   "cell_type": "code",
   "execution_count": null,
   "id": "90499197-c430-433c-b8ae-439c72f4a495",
   "metadata": {},
   "outputs": [],
   "source": [
    "loan_df.corr()"
   ]
  },
  {
   "cell_type": "code",
   "execution_count": null,
   "id": "ca20e0b0-4661-4a7a-85e8-c111e9f9faed",
   "metadata": {},
   "outputs": [],
   "source": [
    "plt.figure(figsize=(10,8))\n",
    "\n",
    "ax = sns.heatmap(\n",
    "    loan_df.corr(), \n",
    "    vmin=-1, vmax=1, center=0,\n",
    "    cmap=sns.diverging_palette(20, 220, n=200),\n",
    "    square=True\n",
    ")\n",
    "ax.set_xticklabels(\n",
    "    ax.get_xticklabels(),\n",
    "    rotation=45,\n",
    "    horizontalalignment='right'\n",
    ");"
   ]
  },
  {
   "cell_type": "markdown",
   "id": "41b3250a-03e4-4cf3-863b-cb979b13ad32",
   "metadata": {},
   "source": [
    "---"
   ]
  },
  {
   "cell_type": "markdown",
   "id": "55fbeb55-2e66-483e-b63a-8c690333b212",
   "metadata": {},
   "source": [
    "## Univariate Analysis\n",
    "- Perform univariate analysis on each of the columns"
   ]
  },
  {
   "cell_type": "code",
   "execution_count": null,
   "id": "3c074cee-3c9d-402e-9b22-ce8c7544dd78",
   "metadata": {},
   "outputs": [],
   "source": [
    "loan_df.info()"
   ]
  },
  {
   "cell_type": "markdown",
   "id": "0daa0384-ac01-48a0-84fb-f92296980699",
   "metadata": {},
   "source": [
    "##### Loan Amount"
   ]
  },
  {
   "cell_type": "code",
   "execution_count": null,
   "id": "0ef3176e-4973-4196-84ed-89adc2f246a3",
   "metadata": {},
   "outputs": [],
   "source": [
    "loan_df.loan_amnt.describe()"
   ]
  },
  {
   "cell_type": "markdown",
   "id": "6d1da3fd-955b-4627-9614-923402ee8b74",
   "metadata": {},
   "source": [
    "##### Observation: The minimum loan applied is 500USD and maximum loan applied is 35000 USD"
   ]
  },
  {
   "cell_type": "code",
   "execution_count": null,
   "id": "99f6472f-ba15-4d4b-abc1-205cf1d212ed",
   "metadata": {},
   "outputs": [],
   "source": [
    "fig, (ax1, ax2) = plt.subplots(1, 2, figsize=(15,6))\n",
    "\n",
    "plt.suptitle('Loan Amount Distribution')\n",
    "sns.histplot(loan_df.loan_amnt, bins=7, ax=ax1)\n",
    "loan_df.loan_amnt.value_counts()[0:10].plot(kind='bar', ax=ax2)\n",
    "ax2.set_xticklabels(ax2.get_xticklabels(), rotation=0)\n",
    "ax2.set_xlabel('Loan Amount (Top 10)')\n",
    "ax2.set_ylabel('Number of Applicants')\n",
    "ax1.set_xlabel('Loan Amount (Range)')\n",
    "ax1.set_ylabel('Number of Applicants')\n",
    "plt.show()"
   ]
  },
  {
   "cell_type": "markdown",
   "id": "45554ad2-a5b6-4562-b6b9-300b7ba075fc",
   "metadata": {},
   "source": [
    "Observations:\n",
    "- Most people are applying for a loan within a range of 5000 - 10000 USD"
   ]
  },
  {
   "cell_type": "markdown",
   "id": "ccfaff20-a738-4930-a480-e388e977c81f",
   "metadata": {},
   "source": [
    "---\n"
   ]
  },
  {
   "cell_type": "markdown",
   "id": "e4baa5bd-5b3e-4335-9688-ff03080e3cdc",
   "metadata": {},
   "source": [
    "##### Term"
   ]
  },
  {
   "cell_type": "code",
   "execution_count": null,
   "id": "a57a14b9-76e3-4a16-8509-90777fa7c6b8",
   "metadata": {},
   "outputs": [],
   "source": [
    "loan_df.term.describe()"
   ]
  },
  {
   "cell_type": "code",
   "execution_count": null,
   "id": "8ca79a14-927c-465d-9db4-7bfa4ff5a4e3",
   "metadata": {},
   "outputs": [],
   "source": [
    "# loan_df.term = loan_df.term.apply(lambda x: float(str(x).replace('36', '0').replace('60', '1')))"
   ]
  },
  {
   "cell_type": "code",
   "execution_count": null,
   "id": "71120415-fe57-43cc-98c4-c86a10f3a2d0",
   "metadata": {},
   "outputs": [],
   "source": [
    "loan_df.term.value_counts()"
   ]
  },
  {
   "cell_type": "code",
   "execution_count": null,
   "id": "8ed52ff3-de1e-4732-bb1f-4534c841effc",
   "metadata": {},
   "outputs": [],
   "source": [
    "\n",
    "fig, (ax1) = plt.subplots(1, 1, figsize=(5,5))\n",
    "\n",
    "loan_df.term.value_counts().plot(kind='bar', ax=ax1)\n",
    "ax1.set_xticklabels(ax1.get_xticklabels(), rotation=0)\n",
    "plt.show()\n"
   ]
  },
  {
   "cell_type": "markdown",
   "id": "e6612657-27e2-4d87-8344-fead421dc7df",
   "metadata": {},
   "source": [
    "##### Most people choose 36 months term loan"
   ]
  },
  {
   "cell_type": "markdown",
   "id": "85926a6c-b633-488f-bd8e-a65d788e4897",
   "metadata": {},
   "source": [
    "---"
   ]
  },
  {
   "cell_type": "code",
   "execution_count": null,
   "id": "48eeddcf-7ab3-44dd-95ab-f644a1365665",
   "metadata": {},
   "outputs": [],
   "source": [
    "fig, (ax1, ax2) = plt.subplots(1, 2, figsize=(15,6))\n",
    "\n",
    "plt.suptitle('Loan Amount Distribution')\n",
    "sns.histplot(loan_df.loan_amnt, bins=7, ax=ax1)\n",
    "loan_df.loan_amnt.value_counts()[0:10].plot(kind='bar', ax=ax2)\n",
    "ax2.set_xticklabels(ax2.get_xticklabels(), rotation=0)\n",
    "ax2.set_xlabel('Loan Amount (Top 10)')\n",
    "ax2.set_ylabel('Number of Applicants')\n",
    "ax1.set_xlabel('Loan Amount (Range)')\n",
    "ax1.set_ylabel('Number of Applicants')\n",
    "plt.show()"
   ]
  },
  {
   "cell_type": "code",
   "execution_count": null,
   "id": "86f060fb-7885-4998-836a-e4ad42d76e99",
   "metadata": {},
   "outputs": [],
   "source": [
    "col_continous = []\n",
    "for col in loan_df:\n",
    "    if len(loan_df[col].unique()) > 10:\n",
    "        print(col, ':',len(loan_df[col].unique()))\n",
    "        col_continous.append(col)\n",
    "print(col_continous)"
   ]
  },
  {
   "cell_type": "code",
   "execution_count": null,
   "id": "0c7afe7c-d03e-4bf0-b062-bf31d146e839",
   "metadata": {},
   "outputs": [],
   "source": [
    "def plot_continous(loan_df, column):\n",
    "    fig, (ax1, ax2, ax3) = plt.subplots(1, 3, figsize=(15,5))\n",
    "\n",
    "#     plt.suptitle('Loan Amount Distribution')\n",
    "    try:\n",
    "        sns.histplot(loan_df[column], bins=7, ax=ax1)\n",
    "    except:\n",
    "        pass\n",
    "    try:\n",
    "        loan_df[column].value_counts()[0:10].plot(kind='bar', ax=ax2)\n",
    "#         ax2.set_xticklabels(ax2.get_xticklabels(), rotation=0)\n",
    "    except:\n",
    "        pass\n",
    "    try:\n",
    "        sns.boxplot(x=column, data=loan_df, ax=ax3)\n",
    "    except:\n",
    "        pass\n",
    "#     ax2.set_xlabel('Loan Amount (Top 10)')\n",
    "#     ax2.set_ylabel('Number of Applicants')\n",
    "#     ax1.set_xlabel('Loan Amount (Range)')\n",
    "#     ax1.set_ylabel('Number of Applicants')\n",
    "    plt.show()"
   ]
  },
  {
   "cell_type": "code",
   "execution_count": 157,
   "id": "f568ee84-8110-4ca9-b82e-dacde79bc69f",
   "metadata": {},
   "outputs": [
    {
     "data": {
      "image/png": "[encoded data removed]",
      "text/plain": [
       "<Figure size 1080x360 with 3 Axes>"
      ]
     },
     "metadata": {
      "needs_background": "light"
     },
     "output_type": "display_data"
    },
    {
     "data": {
      "image/png": "[encoded data removed]",
      "text/plain": [
       "<Figure size 1080x360 with 3 Axes>"
      ]
     },
     "metadata": {
      "needs_background": "light"
     },
     "output_type": "display_data"
    },
    {
     "data": {
      "image/png": "[encoded data removed]",
      "text/plain": [
       "<Figure size 1080x360 with 3 Axes>"
      ]
     },
     "metadata": {
      "needs_background": "light"
     },
     "output_type": "display_data"
    },
    {
     "data": {
      "image/png": "[encoded data removed]",
      "text/plain": [
       "<Figure size 1080x360 with 3 Axes>"
      ]
     },
     "metadata": {
      "needs_background": "light"
     },
     "output_type": "display_data"
    },
    {
     "data": {
      "image/png": "[encoded data removed]",
      "text/plain": [
       "<Figure size 1080x360 with 3 Axes>"
      ]
     },
     "metadata": {
      "needs_background": "light"
     },
     "output_type": "display_data"
    },
    {
     "data": {
      "image/png": "[encoded data removed]",
      "text/plain": [
       "<Figure size 1080x360 with 3 Axes>"
      ]
     },
     "metadata": {
      "needs_background": "light"
     },
     "output_type": "display_data"
    },
    {
     "data": {
      "image/png": "[encoded data removed]",
      "text/plain": [
       "<Figure size 1080x360 with 3 Axes>"
      ]
     },
     "metadata": {
      "needs_background": "light"
     },
     "output_type": "display_data"
    },
    {
     "data": {
      "image/png": "[encoded data removed]",
      "text/plain": [
       "<Figure size 1080x360 with 3 Axes>"
      ]
     },
     "metadata": {
      "needs_background": "light"
     },
     "output_type": "display_data"
    },
    {
     "data": {
      "image/png": "[encoded data removed]",
      "text/plain": [
       "<Figure size 1080x360 with 3 Axes>"
      ]
     },
     "metadata": {
      "needs_background": "light"
     },
     "output_type": "display_data"
    },
    {
     "data": {
      "image/png": "[encoded data removed]",
      "text/plain": [
       "<Figure size 1080x360 with 3 Axes>"
      ]
     },
     "metadata": {
      "needs_background": "light"
     },
     "output_type": "display_data"
    },
    {
     "data": {
      "image/png": "[encoded data removed]",
      "text/plain": [
       "<Figure size 1080x360 with 3 Axes>"
      ]
     },
     "metadata": {
      "needs_background": "light"
     },
     "output_type": "display_data"
    },
    {
     "data": {
      "image/png": "[encoded data removed]",
      "text/plain": [
       "<Figure size 1080x360 with 3 Axes>"
      ]
     },
     "metadata": {
      "needs_background": "light"
     },
     "output_type": "display_data"
    },
    {
     "data": {
      "image/png": "[encoded data removed]",
      "text/plain": [
       "<Figure size 1080x360 with 3 Axes>"
      ]
     },
     "metadata": {
      "needs_background": "light"
     },
     "output_type": "display_data"
    }
   ],
   "source": [
    "import traceback\n",
    "\n",
    "for i in col_continous:\n",
    "    try:\n",
    "        plot_continous(loan_df, i)\n",
    "    except:\n",
    "        print('cannot plot for', i)\n",
    "#         print(traceback.format_exc())"
   ]
  },
  {
   "cell_type": "code",
   "execution_count": null,
   "id": "46c49449-941d-4289-be87-2598d5a85da2",
   "metadata": {
    "scrolled": false
   },
   "outputs": [],
   "source": [
    "for i in col_continous:\n",
    "    try:\n",
    "        sns.boxplot(x=i, data=loan_df)\n",
    "        plt.show()\n",
    "    except:\n",
    "        print('issue in', i)"
   ]
  },
  {
   "cell_type": "code",
   "execution_count": null,
   "id": "5268eb95",
   "metadata": {
    "scrolled": true
   },
   "outputs": [],
   "source": [
    "loan_df.annual_inc.value_counts()"
   ]
  },
  {
   "cell_type": "code",
   "execution_count": null,
   "id": "98c8fd8a",
   "metadata": {},
   "outputs": [],
   "source": [
    "loan_df.annual_inc.describe()"
   ]
  },
  {
   "cell_type": "code",
   "execution_count": null,
   "id": "4097375e",
   "metadata": {
    "scrolled": true
   },
   "outputs": [],
   "source": [
    "sns.histplot(loan_df['annual_inc'], bins=1000)\n",
    "plt.show()"
   ]
  },
  {
   "cell_type": "code",
   "execution_count": null,
   "id": "b50d484f",
   "metadata": {
    "scrolled": false
   },
   "outputs": [],
   "source": [
    "loan_df.annual_inc.min()"
   ]
  },
  {
   "cell_type": "code",
   "execution_count": null,
   "id": "e7c6d1eb",
   "metadata": {},
   "outputs": [],
   "source": [
    "loan_df.info()"
   ]
  },
  {
   "cell_type": "markdown",
   "id": "9b50287a",
   "metadata": {},
   "source": [
    "\n",
    "    \n",
    "### Plotting for columns which are having value types less than 10\n"
   ]
  },
  {
   "cell_type": "code",
   "execution_count": 147,
   "id": "2e1ba9a3",
   "metadata": {},
   "outputs": [
    {
     "name": "stdout",
     "output_type": "stream",
     "text": [
      "term : 2\n",
      "grade : 7\n",
      "home_ownership : 4\n",
      "verification_status : 3\n",
      "loan_status : 2\n",
      "pub_rec_bankruptcies : 3\n",
      "year : 5\n",
      "['term', 'grade', 'home_ownership', 'verification_status', 'loan_status', 'pub_rec_bankruptcies', 'year']\n"
     ]
    }
   ],
   "source": [
    "col_continous_small = []\n",
    "for col in loan_df:\n",
    "    if len(loan_df[col].unique()) < 10:\n",
    "        print(col, ':',len(loan_df[col].unique()))\n",
    "        col_continous_small.append(col)\n",
    "print(col_continous_small)"
   ]
  },
  {
   "cell_type": "code",
   "execution_count": 156,
   "id": "cd6b0a05",
   "metadata": {
    "scrolled": false
   },
   "outputs": [
    {
     "data": {
      "image/png": "[encoded data removed]",
      "text/plain": [
       "<Figure size 360x360 with 1 Axes>"
      ]
     },
     "metadata": {
      "needs_background": "light"
     },
     "output_type": "display_data"
    },
    {
     "data": {
      "image/png": "[encoded data removed]",
      "text/plain": [
       "<Figure size 360x360 with 1 Axes>"
      ]
     },
     "metadata": {
      "needs_background": "light"
     },
     "output_type": "display_data"
    },
    {
     "data": {
      "image/png": "[encoded data removed]",
      "text/plain": [
       "<Figure size 360x360 with 1 Axes>"
      ]
     },
     "metadata": {
      "needs_background": "light"
     },
     "output_type": "display_data"
    },
    {
     "data": {
      "image/png": "[encoded data removed]",
      "text/plain": [
       "<Figure size 360x360 with 1 Axes>"
      ]
     },
     "metadata": {
      "needs_background": "light"
     },
     "output_type": "display_data"
    },
    {
     "data": {
      "image/png": "[encoded data removed]",
      "text/plain": [
       "<Figure size 360x360 with 1 Axes>"
      ]
     },
     "metadata": {
      "needs_background": "light"
     },
     "output_type": "display_data"
    },
    {
     "data": {
      "image/png": "[encoded data removed]",
      "text/plain": [
       "<Figure size 360x360 with 1 Axes>"
      ]
     },
     "metadata": {
      "needs_background": "light"
     },
     "output_type": "display_data"
    },
    {
     "data": {
      "image/png": "[encoded data removed]",
      "text/plain": [
       "<Figure size 360x360 with 1 Axes>"
      ]
     },
     "metadata": {
      "needs_background": "light"
     },
     "output_type": "display_data"
    }
   ],
   "source": [
    "def plot_small(loan_df,i):\n",
    "    fig, (ax1) = plt.subplots(1, 1, figsize=(5,5))\n",
    "    loan_df[i].value_counts().plot(kind='bar')\n",
    "    plt.suptitle(i)\n",
    "    ax1.set_xticklabels(ax1.get_xticklabels(), rotation=0)\n",
    "    plt.show()\n",
    "\n",
    "import traceback\n",
    "\n",
    "for i in col_continous_small:\n",
    "    try:\n",
    "        plot_small(loan_df, i)\n",
    "    except:\n",
    "        print('cannot plot for', i)\n",
    "        \n"
   ]
  },
  {
   "cell_type": "markdown",
   "id": "e1a5fd03",
   "metadata": {},
   "source": [
    "Change lables for loan status"
   ]
  },
  {
   "cell_type": "code",
   "execution_count": 160,
   "id": "6227a69d",
   "metadata": {
    "scrolled": false
   },
   "outputs": [
    {
     "name": "stderr",
     "output_type": "stream",
     "text": [
      "C:\\Users\\91808\\anaconda3\\lib\\site-packages\\seaborn\\distributions.py:2557: FutureWarning: `distplot` is a deprecated function and will be removed in a future version. Please adapt your code to use either `displot` (a figure-level function with similar flexibility) or `histplot` (an axes-level function for histograms).\n",
      "  warnings.warn(msg, FutureWarning)\n"
     ]
    },
    {
     "data": {
      "text/plain": [
       "<AxesSubplot:xlabel='loan_amnt', ylabel='Density'>"
      ]
     },
     "execution_count": 160,
     "metadata": {},
     "output_type": "execute_result"
    },
    {
     "data": {
      "image/png": "[encoded data removed]",
      "text/plain": [
       "<Figure size 432x288 with 1 Axes>"
      ]
     },
     "metadata": {
      "needs_background": "light"
     },
     "output_type": "display_data"
    }
   ],
   "source": [
    "sns.distplot(loan_df['loan_amnt'])"
   ]
  },
  {
   "cell_type": "markdown",
   "id": "8611714d",
   "metadata": {},
   "source": [
    "# Bivariate:"
   ]
  },
  {
   "cell_type": "code",
   "execution_count": 161,
   "id": "ea7debb9",
   "metadata": {},
   "outputs": [
    {
     "data": {
      "text/html": [
       "<div>\n",
       "<style scoped>\n",
       "    .dataframe tbody tr th:only-of-type {\n",
       "        vertical-align: middle;\n",
       "    }\n",
       "\n",
       "    .dataframe tbody tr th {\n",
       "        vertical-align: top;\n",
       "    }\n",
       "\n",
       "    .dataframe thead th {\n",
       "        text-align: right;\n",
       "    }\n",
       "</style>\n",
       "<table border=\"1\" class=\"dataframe\">\n",
       "  <thead>\n",
       "    <tr style=\"text-align: right;\">\n",
       "      <th></th>\n",
       "      <th>loan_amnt</th>\n",
       "      <th>term</th>\n",
       "      <th>int_rate</th>\n",
       "      <th>installment</th>\n",
       "      <th>grade</th>\n",
       "      <th>sub_grade</th>\n",
       "      <th>emp_length</th>\n",
       "      <th>home_ownership</th>\n",
       "      <th>annual_inc</th>\n",
       "      <th>verification_status</th>\n",
       "      <th>issue_d</th>\n",
       "      <th>loan_status</th>\n",
       "      <th>purpose</th>\n",
       "      <th>zip_code</th>\n",
       "      <th>addr_state</th>\n",
       "      <th>dti</th>\n",
       "      <th>mths_since_last_delinq</th>\n",
       "      <th>pub_rec_bankruptcies</th>\n",
       "      <th>month</th>\n",
       "      <th>year</th>\n",
       "    </tr>\n",
       "  </thead>\n",
       "  <tbody>\n",
       "    <tr>\n",
       "      <th>0</th>\n",
       "      <td>5000</td>\n",
       "      <td>36 months</td>\n",
       "      <td>10.65</td>\n",
       "      <td>162.87</td>\n",
       "      <td>B</td>\n",
       "      <td>B2</td>\n",
       "      <td>10.0</td>\n",
       "      <td>RENT</td>\n",
       "      <td>24000.0</td>\n",
       "      <td>Verified</td>\n",
       "      <td>2011-12-01</td>\n",
       "      <td>1</td>\n",
       "      <td>credit_card</td>\n",
       "      <td>860</td>\n",
       "      <td>AZ</td>\n",
       "      <td>27.65</td>\n",
       "      <td>NaN</td>\n",
       "      <td>0.0</td>\n",
       "      <td>12</td>\n",
       "      <td>2011</td>\n",
       "    </tr>\n",
       "    <tr>\n",
       "      <th>1</th>\n",
       "      <td>2500</td>\n",
       "      <td>60 months</td>\n",
       "      <td>15.27</td>\n",
       "      <td>59.83</td>\n",
       "      <td>C</td>\n",
       "      <td>C4</td>\n",
       "      <td>0.0</td>\n",
       "      <td>RENT</td>\n",
       "      <td>30000.0</td>\n",
       "      <td>Source Verified</td>\n",
       "      <td>2011-12-01</td>\n",
       "      <td>0</td>\n",
       "      <td>car</td>\n",
       "      <td>309</td>\n",
       "      <td>GA</td>\n",
       "      <td>1.00</td>\n",
       "      <td>NaN</td>\n",
       "      <td>0.0</td>\n",
       "      <td>12</td>\n",
       "      <td>2011</td>\n",
       "    </tr>\n",
       "    <tr>\n",
       "      <th>2</th>\n",
       "      <td>2400</td>\n",
       "      <td>36 months</td>\n",
       "      <td>15.96</td>\n",
       "      <td>84.33</td>\n",
       "      <td>C</td>\n",
       "      <td>C5</td>\n",
       "      <td>10.0</td>\n",
       "      <td>RENT</td>\n",
       "      <td>12252.0</td>\n",
       "      <td>Not Verified</td>\n",
       "      <td>2011-12-01</td>\n",
       "      <td>1</td>\n",
       "      <td>small_business</td>\n",
       "      <td>606</td>\n",
       "      <td>IL</td>\n",
       "      <td>8.72</td>\n",
       "      <td>NaN</td>\n",
       "      <td>0.0</td>\n",
       "      <td>12</td>\n",
       "      <td>2011</td>\n",
       "    </tr>\n",
       "    <tr>\n",
       "      <th>3</th>\n",
       "      <td>10000</td>\n",
       "      <td>36 months</td>\n",
       "      <td>13.49</td>\n",
       "      <td>339.31</td>\n",
       "      <td>C</td>\n",
       "      <td>C1</td>\n",
       "      <td>10.0</td>\n",
       "      <td>RENT</td>\n",
       "      <td>49200.0</td>\n",
       "      <td>Source Verified</td>\n",
       "      <td>2011-12-01</td>\n",
       "      <td>1</td>\n",
       "      <td>other</td>\n",
       "      <td>917</td>\n",
       "      <td>CA</td>\n",
       "      <td>20.00</td>\n",
       "      <td>35.0</td>\n",
       "      <td>0.0</td>\n",
       "      <td>12</td>\n",
       "      <td>2011</td>\n",
       "    </tr>\n",
       "    <tr>\n",
       "      <th>5</th>\n",
       "      <td>5000</td>\n",
       "      <td>36 months</td>\n",
       "      <td>7.90</td>\n",
       "      <td>156.46</td>\n",
       "      <td>A</td>\n",
       "      <td>A4</td>\n",
       "      <td>3.0</td>\n",
       "      <td>RENT</td>\n",
       "      <td>36000.0</td>\n",
       "      <td>Source Verified</td>\n",
       "      <td>2011-12-01</td>\n",
       "      <td>1</td>\n",
       "      <td>wedding</td>\n",
       "      <td>852</td>\n",
       "      <td>AZ</td>\n",
       "      <td>11.20</td>\n",
       "      <td>NaN</td>\n",
       "      <td>0.0</td>\n",
       "      <td>12</td>\n",
       "      <td>2011</td>\n",
       "    </tr>\n",
       "  </tbody>\n",
       "</table>\n",
       "</div>"
      ],
      "text/plain": [
       "   loan_amnt        term  int_rate  installment grade sub_grade  emp_length  \\\n",
       "0       5000   36 months     10.65       162.87     B        B2        10.0   \n",
       "1       2500   60 months     15.27        59.83     C        C4         0.0   \n",
       "2       2400   36 months     15.96        84.33     C        C5        10.0   \n",
       "3      10000   36 months     13.49       339.31     C        C1        10.0   \n",
       "5       5000   36 months      7.90       156.46     A        A4         3.0   \n",
       "\n",
       "  home_ownership  annual_inc verification_status    issue_d  loan_status  \\\n",
       "0           RENT     24000.0            Verified 2011-12-01            1   \n",
       "1           RENT     30000.0     Source Verified 2011-12-01            0   \n",
       "2           RENT     12252.0        Not Verified 2011-12-01            1   \n",
       "3           RENT     49200.0     Source Verified 2011-12-01            1   \n",
       "5           RENT     36000.0     Source Verified 2011-12-01            1   \n",
       "\n",
       "          purpose  zip_code addr_state    dti  mths_since_last_delinq  \\\n",
       "0     credit_card       860         AZ  27.65                     NaN   \n",
       "1             car       309         GA   1.00                     NaN   \n",
       "2  small_business       606         IL   8.72                     NaN   \n",
       "3           other       917         CA  20.00                    35.0   \n",
       "5         wedding       852         AZ  11.20                     NaN   \n",
       "\n",
       "   pub_rec_bankruptcies  month  year  \n",
       "0                   0.0     12  2011  \n",
       "1                   0.0     12  2011  \n",
       "2                   0.0     12  2011  \n",
       "3                   0.0     12  2011  \n",
       "5                   0.0     12  2011  "
      ]
     },
     "execution_count": 161,
     "metadata": {},
     "output_type": "execute_result"
    }
   ],
   "source": [
    "loan_df.head()"
   ]
  },
  {
   "cell_type": "markdown",
   "id": "79b32d74",
   "metadata": {},
   "source": [
    "### Loan amount take over years"
   ]
  },
  {
   "cell_type": "code",
   "execution_count": 163,
   "id": "e7160c3b",
   "metadata": {
    "scrolled": false
   },
   "outputs": [
    {
     "data": {
      "image/png": "[encoded data removed]",
      "text/plain": [
       "<Figure size 720x360 with 1 Axes>"
      ]
     },
     "metadata": {
      "needs_background": "light"
     },
     "output_type": "display_data"
    }
   ],
   "source": [
    "plt.figure(figsize=(10,5))\n",
    "loan_df.groupby('year').loan_amnt.count().plot(kind='bar', fontsize=7)\n",
    "plt.show()"
   ]
  },
  {
   "cell_type": "markdown",
   "id": "c6fe44ee",
   "metadata": {},
   "source": [
    "Loan amount vs annual income"
   ]
  },
  {
   "cell_type": "code",
   "execution_count": 169,
   "id": "0329ae0f",
   "metadata": {},
   "outputs": [
    {
     "data": {
      "text/plain": [
       "count    3.857700e+04\n",
       "mean     6.877797e+04\n",
       "std      6.421868e+04\n",
       "min      4.000000e+03\n",
       "25%      4.000000e+04\n",
       "50%      5.886800e+04\n",
       "75%      8.200000e+04\n",
       "max      6.000000e+06\n",
       "Name: annual_inc, dtype: float64"
      ]
     },
     "execution_count": 169,
     "metadata": {},
     "output_type": "execute_result"
    }
   ],
   "source": [
    "loan_df.annual_inc.describe()"
   ]
  },
  {
   "cell_type": "code",
   "execution_count": 171,
   "id": "2e3aa24f",
   "metadata": {
    "scrolled": true
   },
   "outputs": [
    {
     "name": "stderr",
     "output_type": "stream",
     "text": [
      "C:\\Users\\91808\\anaconda3\\lib\\site-packages\\seaborn\\_decorators.py:36: FutureWarning: Pass the following variables as keyword args: x, y, data. From version 0.12, the only valid positional argument will be `data`, and passing other arguments without an explicit keyword will result in an error or misinterpretation.\n",
      "  warnings.warn(\n"
     ]
    },
    {
     "data": {
      "image/png": "[encoded data removed]",
      "text/plain": [
       "<Figure size 432x432 with 3 Axes>"
      ]
     },
     "metadata": {
      "needs_background": "light"
     },
     "output_type": "display_data"
    }
   ],
   "source": [
    "sns.jointplot('annual_inc', 'loan_amnt', loan_df[loan_df['annual_inc']<82000])\n",
    "plt.show()"
   ]
  },
  {
   "cell_type": "markdown",
   "id": "d2468f87",
   "metadata": {},
   "source": [
    "---"
   ]
  },
  {
   "cell_type": "markdown",
   "id": "68605f14",
   "metadata": {},
   "source": [
    "Loan amount vs grade"
   ]
  },
  {
   "cell_type": "code",
   "execution_count": 176,
   "id": "2e47e340",
   "metadata": {
    "scrolled": false
   },
   "outputs": [
    {
     "data": {
      "image/png": "[encoded data removed]",
      "text/plain": [
       "<Figure size 360x360 with 1 Axes>"
      ]
     },
     "metadata": {
      "needs_background": "light"
     },
     "output_type": "display_data"
    }
   ],
   "source": [
    "fig, (ax1) = plt.subplots(1, 1, figsize=(5,5))\n",
    "loan_df.groupby('grade').loan_amnt.count().plot(kind='bar', fontsize=7)\n",
    "ax1.set_xticklabels(ax1.get_xticklabels(), rotation=0)\n",
    "plt.show()"
   ]
  },
  {
   "cell_type": "markdown",
   "id": "b7d602a5",
   "metadata": {},
   "source": [
    "Loan amount vs employee length of service"
   ]
  },
  {
   "cell_type": "code",
   "execution_count": 183,
   "id": "5019f6b2",
   "metadata": {
    "scrolled": false
   },
   "outputs": [
    {
     "data": {
      "image/png": "[encoded data removed]",
      "text/plain": [
       "<Figure size 432x288 with 1 Axes>"
      ]
     },
     "metadata": {
      "needs_background": "light"
     },
     "output_type": "display_data"
    },
    {
     "data": {
      "image/png": "[encoded data removed]",
      "text/plain": [
       "<Figure size 432x288 with 1 Axes>"
      ]
     },
     "metadata": {
      "needs_background": "light"
     },
     "output_type": "display_data"
    }
   ],
   "source": [
    "#fig, (ax1,ax2) = plt.subplots(1, 2, figsize=(10,5))\n",
    "loan_df.groupby('emp_length').loan_amnt.count().plot(kind='bar', fontsize=5)\n",
    "plt.show()\n",
    "loan_df.groupby('emp_length').loan_amnt.mean().plot(kind='bar', fontsize=5)\n",
    "\n",
    "#ax1.set_xticklabels(ax1.get_xticklabels(), rotation=0)\n",
    "#ax2.set_xticklabels(ax2.get_xticklabels(), rotation=0)\n",
    "plt.show()"
   ]
  },
  {
   "cell_type": "code",
   "execution_count": null,
   "id": "31420747",
   "metadata": {},
   "outputs": [],
   "source": []
  },
  {
   "cell_type": "code",
   "execution_count": null,
   "id": "94398d07",
   "metadata": {},
   "outputs": [],
   "source": []
  },
  {
   "cell_type": "code",
   "execution_count": null,
   "id": "1636ffbf",
   "metadata": {},
   "outputs": [],
   "source": []
  },
  {
   "cell_type": "code",
   "execution_count": null,
   "id": "0bf3c76c",
   "metadata": {},
   "outputs": [],
   "source": []
  },
  {
   "cell_type": "code",
   "execution_count": null,
   "id": "461e0efd",
   "metadata": {},
   "outputs": [],
   "source": []
  },
  {
   "cell_type": "code",
   "execution_count": null,
   "id": "a251e28f",
   "metadata": {},
   "outputs": [],
   "source": []
  },
  {
   "cell_type": "markdown",
   "id": "ae6a0385-85a8-4f4e-b0c6-e36abe5f157c",
   "metadata": {},
   "source": [
    "# References\n",
    "- https://seaborn.pydata.org/generated/seaborn.kdeplot.html\n",
    "- https://www.geeksforgeeks.org/convert-the-column-type-from-string-to-datetime-format-in-pandas-dataframe/\n",
    "- https://www.w3schools.com/python/python_datetime.asp\n",
    "- https://www.codegrepper.com/code-examples/python/extract+month+from+datetime+pandas\n",
    "- https://pandas.pydata.org/docs/reference/api/pandas.DataFrame.select_dtypes.html"
   ]
  }
 ],
 "metadata": {
  "kernelspec": {
   "display_name": "Python 3",
   "language": "python",
   "name": "python3"
  },
  "language_info": {
   "codemirror_mode": {
    "name": "ipython",
    "version": 3
   },
   "file_extension": ".py",
   "mimetype": "text/x-python",
   "name": "python",
   "nbconvert_exporter": "python",
   "pygments_lexer": "ipython3",
   "version": "3.8.8"
  }
 },
 "nbformat": 4,
 "nbformat_minor": 5
}
