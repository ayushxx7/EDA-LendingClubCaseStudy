{
 "cells": [
  {
   "cell_type": "markdown",
   "id": "ee964c14-d2d9-47c0-9d24-73d6ed2e5ec0",
   "metadata": {},
   "source": [
    "# Lending Club Case Study\n",
    "### by Ayush and Nivedita"
   ]
  },
  {
   "cell_type": "markdown",
   "id": "51aab928-2c59-4eec-8bab-8a2a0edd15f9",
   "metadata": {},
   "source": [
    "## Imports"
   ]
  },
  {
   "cell_type": "code",
   "execution_count": 295,
   "id": "18cb8ea5-85e4-4f76-80c1-8fd2d1c8706b",
   "metadata": {},
   "outputs": [],
   "source": [
    "import pandas as pd\n",
    "import numpy as np\n",
    "import matplotlib.pyplot as plt\n",
    "import seaborn as sns"
   ]
  },
  {
   "cell_type": "markdown",
   "id": "1cc9522b-e340-40b3-b244-ea85d750e06f",
   "metadata": {},
   "source": [
    "## Loading Data"
   ]
  },
  {
   "cell_type": "code",
   "execution_count": 296,
   "id": "127f73cb-9330-4ce6-b7f6-83db0224e099",
   "metadata": {},
   "outputs": [],
   "source": [
    "loan_df = pd.read_csv('loan.csv', low_memory=False)"
   ]
  },
  {
   "cell_type": "code",
   "execution_count": 297,
   "id": "269cb159-05fd-4458-9f54-0b5d14f09627",
   "metadata": {},
   "outputs": [
    {
     "data": {
      "text/html": [
       "<div>\n",
       "<style scoped>\n",
       "    .dataframe tbody tr th:only-of-type {\n",
       "        vertical-align: middle;\n",
       "    }\n",
       "\n",
       "    .dataframe tbody tr th {\n",
       "        vertical-align: top;\n",
       "    }\n",
       "\n",
       "    .dataframe thead th {\n",
       "        text-align: right;\n",
       "    }\n",
       "</style>\n",
       "<table border=\"1\" class=\"dataframe\">\n",
       "  <thead>\n",
       "    <tr style=\"text-align: right;\">\n",
       "      <th></th>\n",
       "      <th>id</th>\n",
       "      <th>member_id</th>\n",
       "      <th>loan_amnt</th>\n",
       "      <th>funded_amnt</th>\n",
       "      <th>funded_amnt_inv</th>\n",
       "      <th>term</th>\n",
       "      <th>int_rate</th>\n",
       "      <th>installment</th>\n",
       "      <th>grade</th>\n",
       "      <th>sub_grade</th>\n",
       "      <th>...</th>\n",
       "      <th>num_tl_90g_dpd_24m</th>\n",
       "      <th>num_tl_op_past_12m</th>\n",
       "      <th>pct_tl_nvr_dlq</th>\n",
       "      <th>percent_bc_gt_75</th>\n",
       "      <th>pub_rec_bankruptcies</th>\n",
       "      <th>tax_liens</th>\n",
       "      <th>tot_hi_cred_lim</th>\n",
       "      <th>total_bal_ex_mort</th>\n",
       "      <th>total_bc_limit</th>\n",
       "      <th>total_il_high_credit_limit</th>\n",
       "    </tr>\n",
       "  </thead>\n",
       "  <tbody>\n",
       "    <tr>\n",
       "      <th>0</th>\n",
       "      <td>1077501</td>\n",
       "      <td>1296599</td>\n",
       "      <td>5000</td>\n",
       "      <td>5000</td>\n",
       "      <td>4975.0</td>\n",
       "      <td>36 months</td>\n",
       "      <td>10.65%</td>\n",
       "      <td>162.87</td>\n",
       "      <td>B</td>\n",
       "      <td>B2</td>\n",
       "      <td>...</td>\n",
       "      <td>NaN</td>\n",
       "      <td>NaN</td>\n",
       "      <td>NaN</td>\n",
       "      <td>NaN</td>\n",
       "      <td>0.0</td>\n",
       "      <td>0.0</td>\n",
       "      <td>NaN</td>\n",
       "      <td>NaN</td>\n",
       "      <td>NaN</td>\n",
       "      <td>NaN</td>\n",
       "    </tr>\n",
       "    <tr>\n",
       "      <th>1</th>\n",
       "      <td>1077430</td>\n",
       "      <td>1314167</td>\n",
       "      <td>2500</td>\n",
       "      <td>2500</td>\n",
       "      <td>2500.0</td>\n",
       "      <td>60 months</td>\n",
       "      <td>15.27%</td>\n",
       "      <td>59.83</td>\n",
       "      <td>C</td>\n",
       "      <td>C4</td>\n",
       "      <td>...</td>\n",
       "      <td>NaN</td>\n",
       "      <td>NaN</td>\n",
       "      <td>NaN</td>\n",
       "      <td>NaN</td>\n",
       "      <td>0.0</td>\n",
       "      <td>0.0</td>\n",
       "      <td>NaN</td>\n",
       "      <td>NaN</td>\n",
       "      <td>NaN</td>\n",
       "      <td>NaN</td>\n",
       "    </tr>\n",
       "    <tr>\n",
       "      <th>2</th>\n",
       "      <td>1077175</td>\n",
       "      <td>1313524</td>\n",
       "      <td>2400</td>\n",
       "      <td>2400</td>\n",
       "      <td>2400.0</td>\n",
       "      <td>36 months</td>\n",
       "      <td>15.96%</td>\n",
       "      <td>84.33</td>\n",
       "      <td>C</td>\n",
       "      <td>C5</td>\n",
       "      <td>...</td>\n",
       "      <td>NaN</td>\n",
       "      <td>NaN</td>\n",
       "      <td>NaN</td>\n",
       "      <td>NaN</td>\n",
       "      <td>0.0</td>\n",
       "      <td>0.0</td>\n",
       "      <td>NaN</td>\n",
       "      <td>NaN</td>\n",
       "      <td>NaN</td>\n",
       "      <td>NaN</td>\n",
       "    </tr>\n",
       "    <tr>\n",
       "      <th>3</th>\n",
       "      <td>1076863</td>\n",
       "      <td>1277178</td>\n",
       "      <td>10000</td>\n",
       "      <td>10000</td>\n",
       "      <td>10000.0</td>\n",
       "      <td>36 months</td>\n",
       "      <td>13.49%</td>\n",
       "      <td>339.31</td>\n",
       "      <td>C</td>\n",
       "      <td>C1</td>\n",
       "      <td>...</td>\n",
       "      <td>NaN</td>\n",
       "      <td>NaN</td>\n",
       "      <td>NaN</td>\n",
       "      <td>NaN</td>\n",
       "      <td>0.0</td>\n",
       "      <td>0.0</td>\n",
       "      <td>NaN</td>\n",
       "      <td>NaN</td>\n",
       "      <td>NaN</td>\n",
       "      <td>NaN</td>\n",
       "    </tr>\n",
       "    <tr>\n",
       "      <th>4</th>\n",
       "      <td>1075358</td>\n",
       "      <td>1311748</td>\n",
       "      <td>3000</td>\n",
       "      <td>3000</td>\n",
       "      <td>3000.0</td>\n",
       "      <td>60 months</td>\n",
       "      <td>12.69%</td>\n",
       "      <td>67.79</td>\n",
       "      <td>B</td>\n",
       "      <td>B5</td>\n",
       "      <td>...</td>\n",
       "      <td>NaN</td>\n",
       "      <td>NaN</td>\n",
       "      <td>NaN</td>\n",
       "      <td>NaN</td>\n",
       "      <td>0.0</td>\n",
       "      <td>0.0</td>\n",
       "      <td>NaN</td>\n",
       "      <td>NaN</td>\n",
       "      <td>NaN</td>\n",
       "      <td>NaN</td>\n",
       "    </tr>\n",
       "  </tbody>\n",
       "</table>\n",
       "<p>5 rows × 111 columns</p>\n",
       "</div>"
      ],
      "text/plain": [
       "        id  member_id  loan_amnt  funded_amnt  funded_amnt_inv        term  \\\n",
       "0  1077501    1296599       5000         5000           4975.0   36 months   \n",
       "1  1077430    1314167       2500         2500           2500.0   60 months   \n",
       "2  1077175    1313524       2400         2400           2400.0   36 months   \n",
       "3  1076863    1277178      10000        10000          10000.0   36 months   \n",
       "4  1075358    1311748       3000         3000           3000.0   60 months   \n",
       "\n",
       "  int_rate  installment grade sub_grade  ... num_tl_90g_dpd_24m  \\\n",
       "0   10.65%       162.87     B        B2  ...                NaN   \n",
       "1   15.27%        59.83     C        C4  ...                NaN   \n",
       "2   15.96%        84.33     C        C5  ...                NaN   \n",
       "3   13.49%       339.31     C        C1  ...                NaN   \n",
       "4   12.69%        67.79     B        B5  ...                NaN   \n",
       "\n",
       "  num_tl_op_past_12m pct_tl_nvr_dlq  percent_bc_gt_75 pub_rec_bankruptcies  \\\n",
       "0                NaN            NaN               NaN                  0.0   \n",
       "1                NaN            NaN               NaN                  0.0   \n",
       "2                NaN            NaN               NaN                  0.0   \n",
       "3                NaN            NaN               NaN                  0.0   \n",
       "4                NaN            NaN               NaN                  0.0   \n",
       "\n",
       "  tax_liens tot_hi_cred_lim total_bal_ex_mort total_bc_limit  \\\n",
       "0       0.0             NaN               NaN            NaN   \n",
       "1       0.0             NaN               NaN            NaN   \n",
       "2       0.0             NaN               NaN            NaN   \n",
       "3       0.0             NaN               NaN            NaN   \n",
       "4       0.0             NaN               NaN            NaN   \n",
       "\n",
       "  total_il_high_credit_limit  \n",
       "0                        NaN  \n",
       "1                        NaN  \n",
       "2                        NaN  \n",
       "3                        NaN  \n",
       "4                        NaN  \n",
       "\n",
       "[5 rows x 111 columns]"
      ]
     },
     "execution_count": 297,
     "metadata": {},
     "output_type": "execute_result"
    }
   ],
   "source": [
    "loan_df.head()"
   ]
  },
  {
   "cell_type": "code",
   "execution_count": 298,
   "id": "cd5e5b39-6a6f-4393-8a86-d9ffa79ff87b",
   "metadata": {},
   "outputs": [
    {
     "data": {
      "text/plain": [
       "(39717, 111)"
      ]
     },
     "execution_count": 298,
     "metadata": {},
     "output_type": "execute_result"
    }
   ],
   "source": [
    "loan_df.shape"
   ]
  },
  {
   "cell_type": "markdown",
   "id": "36d589f1-30e7-4460-86f0-8edc3aeada39",
   "metadata": {},
   "source": [
    "- Observation: There are 39k+ rows and 100+ columns"
   ]
  },
  {
   "cell_type": "code",
   "execution_count": 299,
   "id": "8e90e3e8-0aed-4288-ae52-d44c1ca8cb80",
   "metadata": {},
   "outputs": [
    {
     "name": "stdout",
     "output_type": "stream",
     "text": [
      "<class 'pandas.core.frame.DataFrame'>\n",
      "RangeIndex: 39717 entries, 0 to 39716\n",
      "Columns: 111 entries, id to total_il_high_credit_limit\n",
      "dtypes: float64(74), int64(13), object(24)\n",
      "memory usage: 33.6+ MB\n"
     ]
    }
   ],
   "source": [
    "loan_df.info()"
   ]
  },
  {
   "cell_type": "code",
   "execution_count": 300,
   "id": "8c67eef8-f860-442d-9f4f-00ecf51c68ed",
   "metadata": {},
   "outputs": [
    {
     "data": {
      "text/html": [
       "<div>\n",
       "<style scoped>\n",
       "    .dataframe tbody tr th:only-of-type {\n",
       "        vertical-align: middle;\n",
       "    }\n",
       "\n",
       "    .dataframe tbody tr th {\n",
       "        vertical-align: top;\n",
       "    }\n",
       "\n",
       "    .dataframe thead th {\n",
       "        text-align: right;\n",
       "    }\n",
       "</style>\n",
       "<table border=\"1\" class=\"dataframe\">\n",
       "  <thead>\n",
       "    <tr style=\"text-align: right;\">\n",
       "      <th></th>\n",
       "      <th>id</th>\n",
       "      <th>member_id</th>\n",
       "      <th>loan_amnt</th>\n",
       "      <th>funded_amnt</th>\n",
       "      <th>funded_amnt_inv</th>\n",
       "      <th>installment</th>\n",
       "      <th>annual_inc</th>\n",
       "      <th>dti</th>\n",
       "      <th>delinq_2yrs</th>\n",
       "      <th>inq_last_6mths</th>\n",
       "      <th>...</th>\n",
       "      <th>num_tl_90g_dpd_24m</th>\n",
       "      <th>num_tl_op_past_12m</th>\n",
       "      <th>pct_tl_nvr_dlq</th>\n",
       "      <th>percent_bc_gt_75</th>\n",
       "      <th>pub_rec_bankruptcies</th>\n",
       "      <th>tax_liens</th>\n",
       "      <th>tot_hi_cred_lim</th>\n",
       "      <th>total_bal_ex_mort</th>\n",
       "      <th>total_bc_limit</th>\n",
       "      <th>total_il_high_credit_limit</th>\n",
       "    </tr>\n",
       "  </thead>\n",
       "  <tbody>\n",
       "    <tr>\n",
       "      <th>count</th>\n",
       "      <td>3.971700e+04</td>\n",
       "      <td>3.971700e+04</td>\n",
       "      <td>39717.000000</td>\n",
       "      <td>39717.000000</td>\n",
       "      <td>39717.000000</td>\n",
       "      <td>39717.000000</td>\n",
       "      <td>3.971700e+04</td>\n",
       "      <td>39717.000000</td>\n",
       "      <td>39717.000000</td>\n",
       "      <td>39717.000000</td>\n",
       "      <td>...</td>\n",
       "      <td>0.0</td>\n",
       "      <td>0.0</td>\n",
       "      <td>0.0</td>\n",
       "      <td>0.0</td>\n",
       "      <td>39020.000000</td>\n",
       "      <td>39678.0</td>\n",
       "      <td>0.0</td>\n",
       "      <td>0.0</td>\n",
       "      <td>0.0</td>\n",
       "      <td>0.0</td>\n",
       "    </tr>\n",
       "    <tr>\n",
       "      <th>mean</th>\n",
       "      <td>6.831319e+05</td>\n",
       "      <td>8.504636e+05</td>\n",
       "      <td>11219.443815</td>\n",
       "      <td>10947.713196</td>\n",
       "      <td>10397.448868</td>\n",
       "      <td>324.561922</td>\n",
       "      <td>6.896893e+04</td>\n",
       "      <td>13.315130</td>\n",
       "      <td>0.146512</td>\n",
       "      <td>0.869200</td>\n",
       "      <td>...</td>\n",
       "      <td>NaN</td>\n",
       "      <td>NaN</td>\n",
       "      <td>NaN</td>\n",
       "      <td>NaN</td>\n",
       "      <td>0.043260</td>\n",
       "      <td>0.0</td>\n",
       "      <td>NaN</td>\n",
       "      <td>NaN</td>\n",
       "      <td>NaN</td>\n",
       "      <td>NaN</td>\n",
       "    </tr>\n",
       "    <tr>\n",
       "      <th>std</th>\n",
       "      <td>2.106941e+05</td>\n",
       "      <td>2.656783e+05</td>\n",
       "      <td>7456.670694</td>\n",
       "      <td>7187.238670</td>\n",
       "      <td>7128.450439</td>\n",
       "      <td>208.874874</td>\n",
       "      <td>6.379377e+04</td>\n",
       "      <td>6.678594</td>\n",
       "      <td>0.491812</td>\n",
       "      <td>1.070219</td>\n",
       "      <td>...</td>\n",
       "      <td>NaN</td>\n",
       "      <td>NaN</td>\n",
       "      <td>NaN</td>\n",
       "      <td>NaN</td>\n",
       "      <td>0.204324</td>\n",
       "      <td>0.0</td>\n",
       "      <td>NaN</td>\n",
       "      <td>NaN</td>\n",
       "      <td>NaN</td>\n",
       "      <td>NaN</td>\n",
       "    </tr>\n",
       "    <tr>\n",
       "      <th>min</th>\n",
       "      <td>5.473400e+04</td>\n",
       "      <td>7.069900e+04</td>\n",
       "      <td>500.000000</td>\n",
       "      <td>500.000000</td>\n",
       "      <td>0.000000</td>\n",
       "      <td>15.690000</td>\n",
       "      <td>4.000000e+03</td>\n",
       "      <td>0.000000</td>\n",
       "      <td>0.000000</td>\n",
       "      <td>0.000000</td>\n",
       "      <td>...</td>\n",
       "      <td>NaN</td>\n",
       "      <td>NaN</td>\n",
       "      <td>NaN</td>\n",
       "      <td>NaN</td>\n",
       "      <td>0.000000</td>\n",
       "      <td>0.0</td>\n",
       "      <td>NaN</td>\n",
       "      <td>NaN</td>\n",
       "      <td>NaN</td>\n",
       "      <td>NaN</td>\n",
       "    </tr>\n",
       "    <tr>\n",
       "      <th>25%</th>\n",
       "      <td>5.162210e+05</td>\n",
       "      <td>6.667800e+05</td>\n",
       "      <td>5500.000000</td>\n",
       "      <td>5400.000000</td>\n",
       "      <td>5000.000000</td>\n",
       "      <td>167.020000</td>\n",
       "      <td>4.040400e+04</td>\n",
       "      <td>8.170000</td>\n",
       "      <td>0.000000</td>\n",
       "      <td>0.000000</td>\n",
       "      <td>...</td>\n",
       "      <td>NaN</td>\n",
       "      <td>NaN</td>\n",
       "      <td>NaN</td>\n",
       "      <td>NaN</td>\n",
       "      <td>0.000000</td>\n",
       "      <td>0.0</td>\n",
       "      <td>NaN</td>\n",
       "      <td>NaN</td>\n",
       "      <td>NaN</td>\n",
       "      <td>NaN</td>\n",
       "    </tr>\n",
       "    <tr>\n",
       "      <th>50%</th>\n",
       "      <td>6.656650e+05</td>\n",
       "      <td>8.508120e+05</td>\n",
       "      <td>10000.000000</td>\n",
       "      <td>9600.000000</td>\n",
       "      <td>8975.000000</td>\n",
       "      <td>280.220000</td>\n",
       "      <td>5.900000e+04</td>\n",
       "      <td>13.400000</td>\n",
       "      <td>0.000000</td>\n",
       "      <td>1.000000</td>\n",
       "      <td>...</td>\n",
       "      <td>NaN</td>\n",
       "      <td>NaN</td>\n",
       "      <td>NaN</td>\n",
       "      <td>NaN</td>\n",
       "      <td>0.000000</td>\n",
       "      <td>0.0</td>\n",
       "      <td>NaN</td>\n",
       "      <td>NaN</td>\n",
       "      <td>NaN</td>\n",
       "      <td>NaN</td>\n",
       "    </tr>\n",
       "    <tr>\n",
       "      <th>75%</th>\n",
       "      <td>8.377550e+05</td>\n",
       "      <td>1.047339e+06</td>\n",
       "      <td>15000.000000</td>\n",
       "      <td>15000.000000</td>\n",
       "      <td>14400.000000</td>\n",
       "      <td>430.780000</td>\n",
       "      <td>8.230000e+04</td>\n",
       "      <td>18.600000</td>\n",
       "      <td>0.000000</td>\n",
       "      <td>1.000000</td>\n",
       "      <td>...</td>\n",
       "      <td>NaN</td>\n",
       "      <td>NaN</td>\n",
       "      <td>NaN</td>\n",
       "      <td>NaN</td>\n",
       "      <td>0.000000</td>\n",
       "      <td>0.0</td>\n",
       "      <td>NaN</td>\n",
       "      <td>NaN</td>\n",
       "      <td>NaN</td>\n",
       "      <td>NaN</td>\n",
       "    </tr>\n",
       "    <tr>\n",
       "      <th>max</th>\n",
       "      <td>1.077501e+06</td>\n",
       "      <td>1.314167e+06</td>\n",
       "      <td>35000.000000</td>\n",
       "      <td>35000.000000</td>\n",
       "      <td>35000.000000</td>\n",
       "      <td>1305.190000</td>\n",
       "      <td>6.000000e+06</td>\n",
       "      <td>29.990000</td>\n",
       "      <td>11.000000</td>\n",
       "      <td>8.000000</td>\n",
       "      <td>...</td>\n",
       "      <td>NaN</td>\n",
       "      <td>NaN</td>\n",
       "      <td>NaN</td>\n",
       "      <td>NaN</td>\n",
       "      <td>2.000000</td>\n",
       "      <td>0.0</td>\n",
       "      <td>NaN</td>\n",
       "      <td>NaN</td>\n",
       "      <td>NaN</td>\n",
       "      <td>NaN</td>\n",
       "    </tr>\n",
       "  </tbody>\n",
       "</table>\n",
       "<p>8 rows × 87 columns</p>\n",
       "</div>"
      ],
      "text/plain": [
       "                 id     member_id     loan_amnt   funded_amnt  \\\n",
       "count  3.971700e+04  3.971700e+04  39717.000000  39717.000000   \n",
       "mean   6.831319e+05  8.504636e+05  11219.443815  10947.713196   \n",
       "std    2.106941e+05  2.656783e+05   7456.670694   7187.238670   \n",
       "min    5.473400e+04  7.069900e+04    500.000000    500.000000   \n",
       "25%    5.162210e+05  6.667800e+05   5500.000000   5400.000000   \n",
       "50%    6.656650e+05  8.508120e+05  10000.000000   9600.000000   \n",
       "75%    8.377550e+05  1.047339e+06  15000.000000  15000.000000   \n",
       "max    1.077501e+06  1.314167e+06  35000.000000  35000.000000   \n",
       "\n",
       "       funded_amnt_inv   installment    annual_inc           dti  \\\n",
       "count     39717.000000  39717.000000  3.971700e+04  39717.000000   \n",
       "mean      10397.448868    324.561922  6.896893e+04     13.315130   \n",
       "std        7128.450439    208.874874  6.379377e+04      6.678594   \n",
       "min           0.000000     15.690000  4.000000e+03      0.000000   \n",
       "25%        5000.000000    167.020000  4.040400e+04      8.170000   \n",
       "50%        8975.000000    280.220000  5.900000e+04     13.400000   \n",
       "75%       14400.000000    430.780000  8.230000e+04     18.600000   \n",
       "max       35000.000000   1305.190000  6.000000e+06     29.990000   \n",
       "\n",
       "        delinq_2yrs  inq_last_6mths  ...  num_tl_90g_dpd_24m  \\\n",
       "count  39717.000000    39717.000000  ...                 0.0   \n",
       "mean       0.146512        0.869200  ...                 NaN   \n",
       "std        0.491812        1.070219  ...                 NaN   \n",
       "min        0.000000        0.000000  ...                 NaN   \n",
       "25%        0.000000        0.000000  ...                 NaN   \n",
       "50%        0.000000        1.000000  ...                 NaN   \n",
       "75%        0.000000        1.000000  ...                 NaN   \n",
       "max       11.000000        8.000000  ...                 NaN   \n",
       "\n",
       "       num_tl_op_past_12m  pct_tl_nvr_dlq  percent_bc_gt_75  \\\n",
       "count                 0.0             0.0               0.0   \n",
       "mean                  NaN             NaN               NaN   \n",
       "std                   NaN             NaN               NaN   \n",
       "min                   NaN             NaN               NaN   \n",
       "25%                   NaN             NaN               NaN   \n",
       "50%                   NaN             NaN               NaN   \n",
       "75%                   NaN             NaN               NaN   \n",
       "max                   NaN             NaN               NaN   \n",
       "\n",
       "       pub_rec_bankruptcies  tax_liens  tot_hi_cred_lim  total_bal_ex_mort  \\\n",
       "count          39020.000000    39678.0              0.0                0.0   \n",
       "mean               0.043260        0.0              NaN                NaN   \n",
       "std                0.204324        0.0              NaN                NaN   \n",
       "min                0.000000        0.0              NaN                NaN   \n",
       "25%                0.000000        0.0              NaN                NaN   \n",
       "50%                0.000000        0.0              NaN                NaN   \n",
       "75%                0.000000        0.0              NaN                NaN   \n",
       "max                2.000000        0.0              NaN                NaN   \n",
       "\n",
       "       total_bc_limit  total_il_high_credit_limit  \n",
       "count             0.0                         0.0  \n",
       "mean              NaN                         NaN  \n",
       "std               NaN                         NaN  \n",
       "min               NaN                         NaN  \n",
       "25%               NaN                         NaN  \n",
       "50%               NaN                         NaN  \n",
       "75%               NaN                         NaN  \n",
       "max               NaN                         NaN  \n",
       "\n",
       "[8 rows x 87 columns]"
      ]
     },
     "execution_count": 300,
     "metadata": {},
     "output_type": "execute_result"
    }
   ],
   "source": [
    "loan_df.describe()"
   ]
  },
  {
   "cell_type": "markdown",
   "id": "c699e968-2280-4fc2-a90b-4523f62dd41f",
   "metadata": {},
   "source": [
    "Observation \n",
    "- There seem to be columns which have most values missing\n",
    "- These can be dropped"
   ]
  },
  {
   "cell_type": "markdown",
   "id": "72faf7b5-10e7-4332-8eb2-5c60b6065cda",
   "metadata": {},
   "source": [
    "---"
   ]
  },
  {
   "cell_type": "markdown",
   "id": "9d0ee444-e902-4a5b-94fd-f7baddc06e62",
   "metadata": {},
   "source": [
    "## Feature Extraction\n",
    "- We will choose the required columns for anlysis and drop the rest\n",
    "- We will also drop columns with more than 90% missing values"
   ]
  },
  {
   "cell_type": "markdown",
   "id": "3511e34a-71b8-4d8e-9a37-58eb5ef6229b",
   "metadata": {},
   "source": [
    "### Null Value Analysis\n",
    "- Choosing between imputing or dropping values based on threshold"
   ]
  },
  {
   "cell_type": "code",
   "execution_count": 301,
   "id": "d9b7e955-caa3-434d-a847-63e76e39dec1",
   "metadata": {},
   "outputs": [],
   "source": [
    "# ?loan_df.dropna"
   ]
  },
  {
   "cell_type": "markdown",
   "id": "729a95e1-1957-4a36-a5bc-917282093bda",
   "metadata": {},
   "source": [
    "#### Columns"
   ]
  },
  {
   "cell_type": "markdown",
   "id": "476ed137-f55e-4105-823e-2236a597ccc9",
   "metadata": {},
   "source": [
    "##### Dropping columns where all values are missing"
   ]
  },
  {
   "cell_type": "code",
   "execution_count": 306,
   "id": "00fe3403-13e1-44f6-9f59-3cecea58f81b",
   "metadata": {},
   "outputs": [],
   "source": [
    "loan_df.dropna(how='all', axis=1, inplace=True)"
   ]
  },
  {
   "cell_type": "code",
   "execution_count": 307,
   "id": "664872a3-35d5-4572-9afc-1be286ca931d",
   "metadata": {},
   "outputs": [
    {
     "data": {
      "text/plain": [
       "(39717, 57)"
      ]
     },
     "execution_count": 307,
     "metadata": {},
     "output_type": "execute_result"
    }
   ],
   "source": [
    "loan_df.shape"
   ]
  },
  {
   "cell_type": "code",
   "execution_count": 308,
   "id": "98204e10-6df5-43cc-9651-2a0bccaf3385",
   "metadata": {},
   "outputs": [],
   "source": [
    "df_checkpoint = loan_df.copy()"
   ]
  },
  {
   "cell_type": "code",
   "execution_count": 309,
   "id": "b83c6d87-4513-43cc-acbb-87aae8271b8d",
   "metadata": {},
   "outputs": [
    {
     "data": {
      "text/plain": [
       "(39717, 57)"
      ]
     },
     "execution_count": 309,
     "metadata": {},
     "output_type": "execute_result"
    }
   ],
   "source": [
    "loan_df.shape"
   ]
  },
  {
   "cell_type": "markdown",
   "id": "07be9fd2-9c29-4140-b56e-ca0d937ea6f9",
   "metadata": {},
   "source": [
    "##### Dropping columns which only have one type of value\n",
    "- they won't provide any relevants insights (they have only value throughout the column)"
   ]
  },
  {
   "cell_type": "code",
   "execution_count": 310,
   "id": "93b2ad21-954a-477f-bd8b-6faf3799bc4f",
   "metadata": {},
   "outputs": [
    {
     "name": "stdout",
     "output_type": "stream",
     "text": [
      "dropping: pymnt_plan which contained: ['n'] as the only value\n",
      "dropping: initial_list_status which contained: ['f'] as the only value\n",
      "dropping: policy_code which contained: [1] as the only value\n",
      "dropping: application_type which contained: ['INDIVIDUAL'] as the only value\n",
      "dropping: acc_now_delinq which contained: [0] as the only value\n",
      "dropping: delinq_amnt which contained: [0] as the only value\n"
     ]
    }
   ],
   "source": [
    "for col in loan_df.columns:\n",
    "    if len(loan_df[col].unique()) == 1:\n",
    "        print(\"dropping:\", col, \"which contained:\", loan_df[col].unique(), 'as the only value')\n",
    "        loan_df.drop(col, inplace=True, axis=1)"
   ]
  },
  {
   "cell_type": "code",
   "execution_count": 311,
   "id": "e2b68112-cc37-43f2-922d-3662f806133a",
   "metadata": {},
   "outputs": [
    {
     "data": {
      "text/plain": [
       "(39717, 51)"
      ]
     },
     "execution_count": 311,
     "metadata": {},
     "output_type": "execute_result"
    }
   ],
   "source": [
    "loan_df.shape"
   ]
  },
  {
   "cell_type": "code",
   "execution_count": 312,
   "id": "50b9ff56-96fd-4d7c-9b55-f794e1e97f01",
   "metadata": {},
   "outputs": [],
   "source": [
    "col_checkpoint = loan_df.copy()"
   ]
  },
  {
   "cell_type": "code",
   "execution_count": 313,
   "id": "1d2d87ba-01f5-486a-bb93-26f0da87de86",
   "metadata": {},
   "outputs": [
    {
     "data": {
      "text/plain": [
       "(39717, 51)"
      ]
     },
     "execution_count": 313,
     "metadata": {},
     "output_type": "execute_result"
    }
   ],
   "source": [
    "loan_df.shape"
   ]
  },
  {
   "cell_type": "markdown",
   "id": "838a8996-f136-4863-a3e4-d6b7f27cae2f",
   "metadata": {},
   "source": [
    "##### Checking percentage of missing values in all columns"
   ]
  },
  {
   "cell_type": "code",
   "execution_count": 209,
   "id": "8882a71e-3e0e-49e7-9a88-edea5c9f2f50",
   "metadata": {},
   "outputs": [],
   "source": [
    "miss_percentage = round(100*(loan_df.isnull().sum()/len(loan_df.id)), 2)"
   ]
  },
  {
   "cell_type": "code",
   "execution_count": 315,
   "id": "0b185008-1e21-4fa2-965f-ec1c8d890380",
   "metadata": {},
   "outputs": [
    {
     "data": {
      "text/plain": [
       "emp_title                      6.19\n",
       "emp_length                     2.71\n",
       "desc                          32.58\n",
       "title                          0.03\n",
       "mths_since_last_delinq        64.66\n",
       "mths_since_last_record        92.99\n",
       "next_pymnt_d                  97.13\n",
       "collections_12_mths_ex_med     0.14\n",
       "chargeoff_within_12_mths       0.14\n",
       "pub_rec_bankruptcies           1.75\n",
       "tax_liens                      0.10\n",
       "dtype: float64"
      ]
     },
     "execution_count": 315,
     "metadata": {},
     "output_type": "execute_result"
    }
   ],
   "source": [
    "# list of columns which have missing values\n",
    "miss_percentage.loc[miss_percentage > 0]"
   ]
  },
  {
   "cell_type": "markdown",
   "id": "358886b2-1458-4195-ad80-a9ca84694d94",
   "metadata": {},
   "source": [
    "###### Observation: We can see that there are 2 columns with more than 90% missing values and one column with more than 60% missing values."
   ]
  },
  {
   "cell_type": "markdown",
   "id": "db6f92eb-6d9c-474e-a659-9cfcf761572c",
   "metadata": {},
   "source": [
    "- First, we remove the columns with more than 90% missing values"
   ]
  },
  {
   "cell_type": "code",
   "execution_count": 316,
   "id": "9d08e74c-4943-444f-82ab-250c214e41af",
   "metadata": {},
   "outputs": [],
   "source": [
    "loan_df.drop(list(miss_percentage[miss_percentage >= 90].index), axis=1, inplace=True)"
   ]
  },
  {
   "cell_type": "markdown",
   "id": "61094df3-f650-46d7-8e2b-34f89acf8be6",
   "metadata": {},
   "source": [
    "- Next, we check what kind of values does mths_since_last_delinq has."
   ]
  },
  {
   "cell_type": "code",
   "execution_count": 220,
   "id": "81078fa1-f41a-4dba-973f-a3a0197fd294",
   "metadata": {},
   "outputs": [
    {
     "data": {
      "text/plain": [
       "count    14035.000000\n",
       "mean        35.900962\n",
       "std         22.020060\n",
       "min          0.000000\n",
       "25%         18.000000\n",
       "50%         34.000000\n",
       "75%         52.000000\n",
       "max        120.000000\n",
       "Name: mths_since_last_delinq, dtype: float64"
      ]
     },
     "execution_count": 220,
     "metadata": {},
     "output_type": "execute_result"
    }
   ],
   "source": [
    "loan_df.mths_since_last_delinq.describe()"
   ]
  },
  {
   "cell_type": "code",
   "execution_count": 317,
   "id": "2a68088a-5082-4d1e-a94c-8cdb7c0615fa",
   "metadata": {},
   "outputs": [
    {
     "data": {
      "text/plain": [
       "0.0      443\n",
       "15.0     252\n",
       "30.0     247\n",
       "23.0     247\n",
       "24.0     241\n",
       "        ... \n",
       "115.0      1\n",
       "106.0      1\n",
       "95.0       1\n",
       "120.0      1\n",
       "89.0       1\n",
       "Name: mths_since_last_delinq, Length: 95, dtype: int64"
      ]
     },
     "execution_count": 317,
     "metadata": {},
     "output_type": "execute_result"
    }
   ],
   "source": [
    "loan_df.mths_since_last_delinq.value_counts()"
   ]
  },
  {
   "cell_type": "code",
   "execution_count": 319,
   "id": "370879fa-0063-4825-8ac4-a07c8753d4cd",
   "metadata": {},
   "outputs": [
    {
     "data": {
      "image/png": "[encoded data removed]",
      "text/plain": [
       "<Figure size 1080x432 with 2 Axes>"
      ]
     },
     "metadata": {
      "needs_background": "light"
     },
     "output_type": "display_data"
    }
   ],
   "source": [
    "fig, (ax1, ax2) = plt.subplots(1, 2, figsize=(15,6))\n",
    "\n",
    "loan_df.mths_since_last_delinq.value_counts().plot(kind='hist', ax=ax1)\n",
    "loan_df.mths_since_last_delinq.value_counts()[0:10].plot(kind='bar', ax=ax2)\n",
    "\n",
    "plt.show()"
   ]
  },
  {
   "cell_type": "code",
   "execution_count": 320,
   "id": "1e5b93dd-0bba-44eb-adde-09f96f23259f",
   "metadata": {},
   "outputs": [
    {
     "data": {
      "image/png": "[encoded data removed]",
      "text/plain": [
       "<Figure size 432x288 with 1 Axes>"
      ]
     },
     "metadata": {
      "needs_background": "light"
     },
     "output_type": "display_data"
    }
   ],
   "source": [
    "sns.boxplot(x='mths_since_last_delinq', data=loan_df)\n",
    "plt.show()"
   ]
  },
  {
   "cell_type": "markdown",
   "id": "6feba459-0ede-4ac8-b576-7c7e7248f3e9",
   "metadata": {},
   "source": [
    "#### Note:\n",
    "\n",
    "This column lets us know the number of months since the borrower's last delinquency.  \n",
    "Since this is an important metric for loan application, we will be keeping this value.  \n",
    "However, we are not be imputing the values in this phase. We will do so later if required"
   ]
  },
  {
   "cell_type": "code",
   "execution_count": 322,
   "id": "60f79e8d-7475-4ebf-9049-bf95cd92b3ee",
   "metadata": {},
   "outputs": [
    {
     "data": {
      "text/plain": [
       "(39717, 49)"
      ]
     },
     "execution_count": 322,
     "metadata": {},
     "output_type": "execute_result"
    }
   ],
   "source": [
    "loan_df.shape"
   ]
  },
  {
   "cell_type": "markdown",
   "id": "6b573b03-ba2d-47c4-ac8a-f1ae0a8b3425",
   "metadata": {},
   "source": [
    "###### Observation: about 55% of the columns had no relevant information, and have beend dropped"
   ]
  },
  {
   "cell_type": "markdown",
   "id": "d8eb2f2e-df4f-4be4-b26a-fba487059ca6",
   "metadata": {},
   "source": [
    "### Feature Extraction\n",
    "- We will analyze the columns and description and decide whether they are relevant for our analysis or not"
   ]
  },
  {
   "cell_type": "code",
   "execution_count": 326,
   "id": "6e8c6ff9-e7a6-4a56-8667-6828adf1c708",
   "metadata": {},
   "outputs": [
    {
     "data": {
      "text/plain": [
       "Index(['id', 'member_id', 'loan_amnt', 'funded_amnt', 'funded_amnt_inv',\n",
       "       'term', 'int_rate', 'installment', 'grade', 'sub_grade', 'emp_title',\n",
       "       'emp_length', 'home_ownership', 'annual_inc', 'verification_status',\n",
       "       'issue_d', 'loan_status', 'url', 'desc', 'purpose', 'title', 'zip_code',\n",
       "       'addr_state', 'dti', 'delinq_2yrs', 'earliest_cr_line',\n",
       "       'inq_last_6mths', 'mths_since_last_delinq', 'open_acc', 'pub_rec',\n",
       "       'revol_bal', 'revol_util', 'total_acc', 'out_prncp', 'out_prncp_inv',\n",
       "       'total_pymnt', 'total_pymnt_inv', 'total_rec_prncp', 'total_rec_int',\n",
       "       'total_rec_late_fee', 'recoveries', 'collection_recovery_fee',\n",
       "       'last_pymnt_d', 'last_pymnt_amnt', 'last_credit_pull_d',\n",
       "       'collections_12_mths_ex_med', 'chargeoff_within_12_mths',\n",
       "       'pub_rec_bankruptcies', 'tax_liens'],\n",
       "      dtype='object')"
      ]
     },
     "execution_count": 326,
     "metadata": {},
     "output_type": "execute_result"
    }
   ],
   "source": [
    "loan_df.columns"
   ]
  },
  {
   "cell_type": "markdown",
   "id": "3f14487e-614e-497a-8786-ca57ac36ee9e",
   "metadata": {},
   "source": [
    "##### Dropping customer behavior columns which are not present at the time of loan application"
   ]
  },
  {
   "cell_type": "code",
   "execution_count": 327,
   "id": "3f8234ea-bbb7-4a63-8d73-0350d3ae3e1a",
   "metadata": {},
   "outputs": [],
   "source": [
    "all_cust_behav_col = ['collection_recovery_fee','delinq_2yrs','earliest_cr_line','inq_last_6mths','last_credit_pull_d','last_pymnt_amnt','last_pymnt_d','open_acc','out_prncp','out_prncp_inv','pub_rec','recoveries','revol_bal','revol_util','total_acc','total_pymnt','total_pymnt_inv','total_rec_int','total_rec_late_fee','total_rec_prncp']\n",
    "loan_df.drop(all_cust_behav_col, axis=1, inplace=True)"
   ]
  },
  {
   "cell_type": "markdown",
   "id": "50513cb8-02d6-4b5c-aff7-1525cc121752",
   "metadata": {},
   "source": [
    "##### After analyzing the column description we have decided to drop some columns"
   ]
  },
  {
   "cell_type": "markdown",
   "id": "bbb5387a-e9d4-420a-8998-2931c554edea",
   "metadata": {},
   "source": [
    "| Column          | Reason                                |\n",
    "|-----------------|---------------------------------------|\n",
    "| member_id       | similar to id                         |\n",
    "| funded_amnt     | Data Unavailable when loan is applied |\n",
    "| funded_amnt_inv | Data Unavailable when loan is applied |\n",
    "| url             | not required for analysis             |\n",
    "| desc            | not important for reducing risk       |\n",
    "| title           | similar to purpose                    |\n"
   ]
  },
  {
   "cell_type": "code",
   "execution_count": 329,
   "id": "95f61856-fb00-4b59-9f58-d7694181dedf",
   "metadata": {},
   "outputs": [],
   "source": [
    "loan_df.drop(['member_id', 'funded_amnt', 'funded_amnt_inv', 'url', 'desc', 'title'], axis=1, inplace=True)"
   ]
  },
  {
   "cell_type": "code",
   "execution_count": 330,
   "id": "15f99ebe-ac10-409e-b497-e50a867b246c",
   "metadata": {},
   "outputs": [
    {
     "data": {
      "text/plain": [
       "(39717, 23)"
      ]
     },
     "execution_count": 330,
     "metadata": {},
     "output_type": "execute_result"
    }
   ],
   "source": [
    "loan_df.shape"
   ]
  },
  {
   "cell_type": "code",
   "execution_count": 331,
   "id": "e4c98ca7-cc5e-4447-9c54-22802e74daf7",
   "metadata": {},
   "outputs": [
    {
     "data": {
      "text/plain": [
       "Index(['id', 'loan_amnt', 'term', 'int_rate', 'installment', 'grade',\n",
       "       'sub_grade', 'emp_title', 'emp_length', 'home_ownership', 'annual_inc',\n",
       "       'verification_status', 'issue_d', 'loan_status', 'purpose', 'zip_code',\n",
       "       'addr_state', 'dti', 'mths_since_last_delinq',\n",
       "       'collections_12_mths_ex_med', 'chargeoff_within_12_mths',\n",
       "       'pub_rec_bankruptcies', 'tax_liens'],\n",
       "      dtype='object')"
      ]
     },
     "execution_count": 331,
     "metadata": {},
     "output_type": "execute_result"
    }
   ],
   "source": [
    "loan_df.columns"
   ]
  },
  {
   "cell_type": "markdown",
   "id": "db727b69-6e0b-41e6-a16c-6495bbf463f4",
   "metadata": {},
   "source": [
    "##### Looking closely at the data, some of the columns are filled with one value or NaN, so we will drop these as well"
   ]
  },
  {
   "cell_type": "code",
   "execution_count": 332,
   "id": "3671c4b5-a6bc-4603-8635-b2dc6ac9108d",
   "metadata": {},
   "outputs": [
    {
     "data": {
      "text/plain": [
       "array([ 0., nan])"
      ]
     },
     "execution_count": 332,
     "metadata": {},
     "output_type": "execute_result"
    }
   ],
   "source": [
    "loan_df.collections_12_mths_ex_med.unique()"
   ]
  },
  {
   "cell_type": "code",
   "execution_count": 333,
   "id": "d00e6d9d-85e6-4017-8b9c-1c43e236b5e3",
   "metadata": {},
   "outputs": [
    {
     "data": {
      "text/plain": [
       "array([ 0., nan])"
      ]
     },
     "execution_count": 333,
     "metadata": {},
     "output_type": "execute_result"
    }
   ],
   "source": [
    "loan_df.chargeoff_within_12_mths.unique()"
   ]
  },
  {
   "cell_type": "code",
   "execution_count": 334,
   "id": "523e6bc7-7eaa-4459-88c2-a4706abca374",
   "metadata": {},
   "outputs": [
    {
     "data": {
      "text/plain": [
       "array([ 0., nan])"
      ]
     },
     "execution_count": 334,
     "metadata": {},
     "output_type": "execute_result"
    }
   ],
   "source": [
    "loan_df.tax_liens.unique()"
   ]
  },
  {
   "cell_type": "code",
   "execution_count": 335,
   "id": "121ac90f-805f-43f1-a0c2-b2e4cd436849",
   "metadata": {},
   "outputs": [],
   "source": [
    "loan_df.drop(['collections_12_mths_ex_med', 'chargeoff_within_12_mths', 'tax_liens'], axis=1, inplace=True)"
   ]
  },
  {
   "cell_type": "code",
   "execution_count": 336,
   "id": "8a935d02-3b5b-4d2c-bb93-d5570e775e71",
   "metadata": {},
   "outputs": [
    {
     "data": {
      "text/plain": [
       "(39717, 20)"
      ]
     },
     "execution_count": 336,
     "metadata": {},
     "output_type": "execute_result"
    }
   ],
   "source": [
    "loan_df.shape"
   ]
  },
  {
   "cell_type": "markdown",
   "id": "0c3e8f42-c42a-4684-b51d-c34e4ba7597f",
   "metadata": {},
   "source": [
    "###### Observation: ~18% columns remain after feature selection"
   ]
  },
  {
   "cell_type": "markdown",
   "id": "be10e6e0-6141-4fcd-b5f5-c8cf5072c0ad",
   "metadata": {},
   "source": [
    "##### As a final step we check for correlation between the numeric columns"
   ]
  },
  {
   "cell_type": "code",
   "execution_count": 338,
   "id": "29b78db9-a280-449e-9d10-26891d1b8bc1",
   "metadata": {},
   "outputs": [
    {
     "data": {
      "text/html": [
       "<div>\n",
       "<style scoped>\n",
       "    .dataframe tbody tr th:only-of-type {\n",
       "        vertical-align: middle;\n",
       "    }\n",
       "\n",
       "    .dataframe tbody tr th {\n",
       "        vertical-align: top;\n",
       "    }\n",
       "\n",
       "    .dataframe thead th {\n",
       "        text-align: right;\n",
       "    }\n",
       "</style>\n",
       "<table border=\"1\" class=\"dataframe\">\n",
       "  <thead>\n",
       "    <tr style=\"text-align: right;\">\n",
       "      <th></th>\n",
       "      <th>id</th>\n",
       "      <th>loan_amnt</th>\n",
       "      <th>installment</th>\n",
       "      <th>annual_inc</th>\n",
       "      <th>dti</th>\n",
       "      <th>mths_since_last_delinq</th>\n",
       "      <th>pub_rec_bankruptcies</th>\n",
       "    </tr>\n",
       "  </thead>\n",
       "  <tbody>\n",
       "    <tr>\n",
       "      <th>id</th>\n",
       "      <td>1.000000</td>\n",
       "      <td>0.141919</td>\n",
       "      <td>0.086587</td>\n",
       "      <td>0.008731</td>\n",
       "      <td>0.095983</td>\n",
       "      <td>0.117193</td>\n",
       "      <td>-0.009505</td>\n",
       "    </tr>\n",
       "    <tr>\n",
       "      <th>loan_amnt</th>\n",
       "      <td>0.141919</td>\n",
       "      <td>1.000000</td>\n",
       "      <td>0.930288</td>\n",
       "      <td>0.271149</td>\n",
       "      <td>0.066439</td>\n",
       "      <td>0.014871</td>\n",
       "      <td>-0.037180</td>\n",
       "    </tr>\n",
       "    <tr>\n",
       "      <th>installment</th>\n",
       "      <td>0.086587</td>\n",
       "      <td>0.930288</td>\n",
       "      <td>1.000000</td>\n",
       "      <td>0.270874</td>\n",
       "      <td>0.054186</td>\n",
       "      <td>0.000047</td>\n",
       "      <td>-0.034103</td>\n",
       "    </tr>\n",
       "    <tr>\n",
       "      <th>annual_inc</th>\n",
       "      <td>0.008731</td>\n",
       "      <td>0.271149</td>\n",
       "      <td>0.270874</td>\n",
       "      <td>1.000000</td>\n",
       "      <td>-0.122732</td>\n",
       "      <td>-0.008822</td>\n",
       "      <td>-0.016801</td>\n",
       "    </tr>\n",
       "    <tr>\n",
       "      <th>dti</th>\n",
       "      <td>0.095983</td>\n",
       "      <td>0.066439</td>\n",
       "      <td>0.054186</td>\n",
       "      <td>-0.122732</td>\n",
       "      <td>1.000000</td>\n",
       "      <td>0.068815</td>\n",
       "      <td>0.005691</td>\n",
       "    </tr>\n",
       "    <tr>\n",
       "      <th>mths_since_last_delinq</th>\n",
       "      <td>0.117193</td>\n",
       "      <td>0.014871</td>\n",
       "      <td>0.000047</td>\n",
       "      <td>-0.008822</td>\n",
       "      <td>0.068815</td>\n",
       "      <td>1.000000</td>\n",
       "      <td>0.025841</td>\n",
       "    </tr>\n",
       "    <tr>\n",
       "      <th>pub_rec_bankruptcies</th>\n",
       "      <td>-0.009505</td>\n",
       "      <td>-0.037180</td>\n",
       "      <td>-0.034103</td>\n",
       "      <td>-0.016801</td>\n",
       "      <td>0.005691</td>\n",
       "      <td>0.025841</td>\n",
       "      <td>1.000000</td>\n",
       "    </tr>\n",
       "  </tbody>\n",
       "</table>\n",
       "</div>"
      ],
      "text/plain": [
       "                              id  loan_amnt  installment  annual_inc  \\\n",
       "id                      1.000000   0.141919     0.086587    0.008731   \n",
       "loan_amnt               0.141919   1.000000     0.930288    0.271149   \n",
       "installment             0.086587   0.930288     1.000000    0.270874   \n",
       "annual_inc              0.008731   0.271149     0.270874    1.000000   \n",
       "dti                     0.095983   0.066439     0.054186   -0.122732   \n",
       "mths_since_last_delinq  0.117193   0.014871     0.000047   -0.008822   \n",
       "pub_rec_bankruptcies   -0.009505  -0.037180    -0.034103   -0.016801   \n",
       "\n",
       "                             dti  mths_since_last_delinq  pub_rec_bankruptcies  \n",
       "id                      0.095983                0.117193             -0.009505  \n",
       "loan_amnt               0.066439                0.014871             -0.037180  \n",
       "installment             0.054186                0.000047             -0.034103  \n",
       "annual_inc             -0.122732               -0.008822             -0.016801  \n",
       "dti                     1.000000                0.068815              0.005691  \n",
       "mths_since_last_delinq  0.068815                1.000000              0.025841  \n",
       "pub_rec_bankruptcies    0.005691                0.025841              1.000000  "
      ]
     },
     "execution_count": 338,
     "metadata": {},
     "output_type": "execute_result"
    }
   ],
   "source": [
    "loan_df.corr()"
   ]
  },
  {
   "cell_type": "code",
   "execution_count": 339,
   "id": "084f3d21-8e12-45ff-931a-624b69c36c70",
   "metadata": {},
   "outputs": [
    {
     "data": {
      "image/png": "[encoded data removed]",
      "text/plain": [
       "<Figure size 432x288 with 2 Axes>"
      ]
     },
     "metadata": {
      "needs_background": "light"
     },
     "output_type": "display_data"
    }
   ],
   "source": [
    "ax = sns.heatmap(\n",
    "    loan_df.corr(), \n",
    "    vmin=-1, vmax=1, center=0,\n",
    "    cmap=sns.diverging_palette(20, 220, n=200),\n",
    "    square=True\n",
    ")\n",
    "ax.set_xticklabels(\n",
    "    ax.get_xticklabels(),\n",
    "    rotation=45,\n",
    "    horizontalalignment='right'\n",
    ");"
   ]
  },
  {
   "cell_type": "markdown",
   "id": "b8a53909-6b3b-4b41-8cf9-9ade5e05df23",
   "metadata": {},
   "source": [
    "#### Observation: \n",
    "- Installament and Loan Amount are positively correlated (strong)\n",
    "- dti and annual income are negatively correlated (weak)"
   ]
  },
  {
   "cell_type": "markdown",
   "id": "d8eecdf2-f058-413d-a2b9-5997429c02af",
   "metadata": {},
   "source": [
    "----"
   ]
  },
  {
   "cell_type": "markdown",
   "id": "e7d48755-f0de-4e1a-913a-89f2be42dffd",
   "metadata": {},
   "source": [
    "#### Rows"
   ]
  },
  {
   "cell_type": "code",
   "execution_count": 341,
   "id": "52cf7eeb-95f2-40ab-8a31-66ea6226f375",
   "metadata": {},
   "outputs": [
    {
     "data": {
      "text/plain": [
       "(39717, 20)"
      ]
     },
     "execution_count": 341,
     "metadata": {},
     "output_type": "execute_result"
    }
   ],
   "source": [
    "loan_df.dropna(how='all', axis=0).shape"
   ]
  },
  {
   "cell_type": "markdown",
   "id": "246991d6-e8e8-4be9-b4b5-b1c998e6acc7",
   "metadata": {},
   "source": [
    "##### Observation: There are no rows where all values are missing"
   ]
  },
  {
   "cell_type": "code",
   "execution_count": 342,
   "id": "581464e1-9bf9-4c5e-836a-16a7fc97f298",
   "metadata": {},
   "outputs": [
    {
     "data": {
      "text/plain": [
       "(12534, 20)"
      ]
     },
     "execution_count": 342,
     "metadata": {},
     "output_type": "execute_result"
    }
   ],
   "source": [
    "loan_df.dropna().shape"
   ]
  },
  {
   "cell_type": "code",
   "execution_count": 347,
   "id": "3a3234b6-ee15-4278-b872-b5d90fcbedf4",
   "metadata": {},
   "outputs": [
    {
     "data": {
      "text/plain": [
       "39717"
      ]
     },
     "execution_count": 347,
     "metadata": {},
     "output_type": "execute_result"
    }
   ],
   "source": [
    "len(loan_df[loan_df.isnull().sum(axis=1) <= 3])"
   ]
  },
  {
   "cell_type": "markdown",
   "id": "1012b5ce-2d51-4150-8650-6c3b04c6cfdb",
   "metadata": {},
   "source": [
    "##### Observation: There are no rows with more than 3 missing values, hence no rows need to be dropped"
   ]
  },
  {
   "cell_type": "markdown",
   "id": "98e410d2-2416-4c92-99e0-e337a4061e3a",
   "metadata": {},
   "source": [
    "---"
   ]
  },
  {
   "cell_type": "markdown",
   "id": "eeae6038-a4bc-4afb-8183-4ad051b0c7b6",
   "metadata": {},
   "source": [
    "### Imputing Missing Values"
   ]
  },
  {
   "cell_type": "code",
   "execution_count": 349,
   "id": "2b130431-48d3-471d-abb0-2bb56b6154a4",
   "metadata": {},
   "outputs": [],
   "source": [
    "miss_percentage = round(100*(loan_df.isnull().sum()/len(loan_df.id)), 2)"
   ]
  },
  {
   "cell_type": "markdown",
   "id": "8cc4bbc7-4b10-4d00-b6f8-46a3f38290c7",
   "metadata": {},
   "source": [
    "##### The following columns have missing values which can be imputed"
   ]
  },
  {
   "cell_type": "code",
   "execution_count": 358,
   "id": "98c44a7f-2bbc-4b5b-8d8b-41447652f26c",
   "metadata": {},
   "outputs": [
    {
     "data": {
      "text/plain": [
       "['emp_title', 'emp_length', 'mths_since_last_delinq', 'pub_rec_bankruptcies']"
      ]
     },
     "execution_count": 358,
     "metadata": {},
     "output_type": "execute_result"
    }
   ],
   "source": [
    "miss_percentage.loc[miss_percentage > 0].index.to_list()"
   ]
  },
  {
   "cell_type": "code",
   "execution_count": 360,
   "id": "07db6575-b354-46a0-b805-55a16123aab1",
   "metadata": {},
   "outputs": [
    {
     "data": {
      "text/plain": [
       "emp_title                  6.19\n",
       "emp_length                 2.71\n",
       "mths_since_last_delinq    64.66\n",
       "pub_rec_bankruptcies       1.75\n",
       "dtype: float64"
      ]
     },
     "execution_count": 360,
     "metadata": {},
     "output_type": "execute_result"
    }
   ],
   "source": [
    "miss_percentage.loc[miss_percentage > 0]"
   ]
  },
  {
   "cell_type": "code",
   "execution_count": 362,
   "id": "e816fc8f-3c06-4edc-a420-f90eff4e5c93",
   "metadata": {},
   "outputs": [
    {
     "data": {
      "text/plain": [
       "US Army                             134\n",
       "Bank of America                     109\n",
       "IBM                                  66\n",
       "AT&T                                 59\n",
       "Kaiser Permanente                    56\n",
       "                                   ... \n",
       "FResnius Medical CAre                 1\n",
       "Momenta Pharmaceuticals               1\n",
       "Northern Leasing Systems Inc.         1\n",
       "mohawk tile & marble of delaware      1\n",
       "Berkshire Healthcare Systems          1\n",
       "Name: emp_title, Length: 28820, dtype: int64"
      ]
     },
     "execution_count": 362,
     "metadata": {},
     "output_type": "execute_result"
    }
   ],
   "source": [
    "loan_df.emp_title.value_counts()"
   ]
  },
  {
   "cell_type": "code",
   "execution_count": 367,
   "id": "f13399b1-7f17-4348-9362-c4ed3e6e193d",
   "metadata": {},
   "outputs": [
    {
     "data": {
      "image/png": "[encoded data removed]",
      "text/plain": [
       "<Figure size 432x288 with 1 Axes>"
      ]
     },
     "metadata": {
      "needs_background": "light"
     },
     "output_type": "display_data"
    }
   ],
   "source": [
    "loan_df.emp_title.value_counts()[0:10].plot(kind='bar')\n",
    "plt.show()"
   ]
  },
  {
   "cell_type": "code",
   "execution_count": 371,
   "id": "826132f0-e2de-41a6-9638-07e7126e9a06",
   "metadata": {},
   "outputs": [
    {
     "data": {
      "text/plain": [
       "0    US Army\n",
       "dtype: object"
      ]
     },
     "execution_count": 371,
     "metadata": {},
     "output_type": "execute_result"
    }
   ],
   "source": [
    "loan_df.emp_title.mode()"
   ]
  },
  {
   "cell_type": "markdown",
   "id": "e9682ada-fe06-411c-b5ef-4c4d8a3ed565",
   "metadata": {},
   "source": [
    "##### Note: Dropping emp_title\n",
    "6% of the data (~1800 entries) is missing in emp_title, however, the most frequenty occuring emp_title (US Army) is ~0.44% (134 entries), hence filling this column with mode will skew the data.   \n",
    "Moreover, many of the emp_titles are in small numbers, so it may not be fruitful to analyze this column."
   ]
  },
  {
   "cell_type": "code",
   "execution_count": null,
   "id": "ff1b56ec-216f-4de0-ad87-1ddae71318bf",
   "metadata": {},
   "outputs": [],
   "source": [
    "loan_df.drop(['emp_title'], axis=1, inplace=True)"
   ]
  },
  {
   "cell_type": "code",
   "execution_count": 376,
   "id": "0cab46a4-ac0e-4e81-a83c-856539e58b83",
   "metadata": {},
   "outputs": [
    {
     "data": {
      "text/plain": [
       "(39717, 19)"
      ]
     },
     "execution_count": 376,
     "metadata": {},
     "output_type": "execute_result"
    }
   ],
   "source": [
    "loan_df.shape"
   ]
  },
  {
   "cell_type": "code",
   "execution_count": 380,
   "id": "dd062803-7a4f-4835-820b-2e9e68d7cf46",
   "metadata": {},
   "outputs": [
    {
     "data": {
      "text/plain": [
       "10+ years    8879\n",
       "< 1 year     4583\n",
       "2 years      4388\n",
       "3 years      4095\n",
       "4 years      3436\n",
       "5 years      3282\n",
       "1 year       3240\n",
       "6 years      2229\n",
       "7 years      1773\n",
       "8 years      1479\n",
       "9 years      1258\n",
       "Name: emp_length, dtype: int64"
      ]
     },
     "execution_count": 380,
     "metadata": {},
     "output_type": "execute_result"
    }
   ],
   "source": [
    "loan_df.emp_length.value_counts()"
   ]
  },
  {
   "cell_type": "markdown",
   "id": "68a4c8d3-90a7-46ce-9d09-32870765ffb0",
   "metadata": {},
   "source": [
    "##### Normalizing Employee Length"
   ]
  },
  {
   "cell_type": "code",
   "execution_count": 384,
   "id": "dc2c51bf-16dd-4708-a423-b1a0d8c937e0",
   "metadata": {},
   "outputs": [],
   "source": [
    "loan_df.emp_length = loan_df.emp_length.apply(lambda x: str(x).replace('years', '').replace('year', '').replace('< 1', '0').replace('10+', '10'))"
   ]
  },
  {
   "cell_type": "code",
   "execution_count": 404,
   "id": "81f54aa1-7c90-41a0-a35f-55ac53c82a51",
   "metadata": {},
   "outputs": [
    {
     "data": {
      "text/plain": [
       "1075"
      ]
     },
     "execution_count": 404,
     "metadata": {},
     "output_type": "execute_result"
    }
   ],
   "source": [
    "len(loan_df[loan_df.emp_length == 'nan'])"
   ]
  },
  {
   "cell_type": "code",
   "execution_count": 411,
   "id": "a19b42e1-c24e-46a1-8606-29bc37222e21",
   "metadata": {},
   "outputs": [
    {
     "data": {
      "image/png": "[encoded data removed]",
      "text/plain": [
       "<Figure size 432x288 with 1 Axes>"
      ]
     },
     "metadata": {
      "needs_background": "light"
     },
     "output_type": "display_data"
    }
   ],
   "source": [
    "loan_df.emp_length.value_counts().plot(kind='bar')\n",
    "plt.show()"
   ]
  },
  {
   "cell_type": "code",
   "execution_count": 413,
   "id": "862fe99d-98b4-47e8-9800-7f2599517d6d",
   "metadata": {},
   "outputs": [],
   "source": [
    "loan_df.emp_length = loan_df.emp_length.apply(lambda x: str(x).replace('nan', '10'))"
   ]
  },
  {
   "cell_type": "code",
   "execution_count": 419,
   "id": "49b164b9-dec6-493b-86e1-7681162a77e2",
   "metadata": {},
   "outputs": [
    {
     "data": {
      "text/plain": [
       "10     8879\n",
       "0      4583\n",
       "2      4388\n",
       "3      4095\n",
       "4      3436\n",
       "5      3282\n",
       "1      3240\n",
       "6      2229\n",
       "7      1773\n",
       "8      1479\n",
       "9      1258\n",
       "10     1075\n",
       "Name: emp_length, dtype: int64"
      ]
     },
     "execution_count": 419,
     "metadata": {},
     "output_type": "execute_result"
    }
   ],
   "source": [
    "loan_df.emp_length.value_counts()"
   ]
  },
  {
   "cell_type": "code",
   "execution_count": 422,
   "id": "64444c7d-dcb4-4903-9798-5acfe858c930",
   "metadata": {},
   "outputs": [
    {
     "data": {
      "text/plain": [
       "0.0    37339\n",
       "1.0     1674\n",
       "2.0        7\n",
       "Name: pub_rec_bankruptcies, dtype: int64"
      ]
     },
     "execution_count": 422,
     "metadata": {},
     "output_type": "execute_result"
    }
   ],
   "source": [
    "loan_df.pub_rec_bankruptcies.value_counts()"
   ]
  },
  {
   "cell_type": "code",
   "execution_count": 425,
   "id": "c09bae06-3965-4333-bab1-b5ca00e6aa41",
   "metadata": {},
   "outputs": [
    {
     "data": {
      "text/plain": [
       "697"
      ]
     },
     "execution_count": 425,
     "metadata": {},
     "output_type": "execute_result"
    }
   ],
   "source": [
    "loan_df.pub_rec_bankruptcies.isnull().sum()"
   ]
  },
  {
   "cell_type": "code",
   "execution_count": 434,
   "id": "8a8e40be-e281-4742-8775-df4b223bf113",
   "metadata": {},
   "outputs": [],
   "source": [
    "loan_df.pub_rec_bankruptcies.fillna(0, inplace=True)"
   ]
  },
  {
   "cell_type": "code",
   "execution_count": 436,
   "id": "e74cef04-4798-49d3-9c57-758a68c35778",
   "metadata": {},
   "outputs": [
    {
     "data": {
      "text/plain": [
       "0"
      ]
     },
     "execution_count": 436,
     "metadata": {},
     "output_type": "execute_result"
    }
   ],
   "source": [
    "loan_df.pub_rec_bankruptcies.isnull().sum()"
   ]
  },
  {
   "cell_type": "code",
   "execution_count": 438,
   "id": "9751565a-e10f-402f-9659-c968b5e959d0",
   "metadata": {},
   "outputs": [
    {
     "data": {
      "text/plain": [
       "0.0    38036\n",
       "1.0     1674\n",
       "2.0        7\n",
       "Name: pub_rec_bankruptcies, dtype: int64"
      ]
     },
     "execution_count": 438,
     "metadata": {},
     "output_type": "execute_result"
    }
   ],
   "source": [
    "loan_df.pub_rec_bankruptcies.value_counts()"
   ]
  },
  {
   "cell_type": "markdown",
   "id": "1afa95cc-cc38-4e2f-9805-a94bdc0c8405",
   "metadata": {},
   "source": [
    "---"
   ]
  },
  {
   "cell_type": "code",
   "execution_count": 441,
   "id": "4581fce9-cd4d-4719-8953-9b287ffc3f21",
   "metadata": {},
   "outputs": [
    {
     "name": "stdout",
     "output_type": "stream",
     "text": [
      "<class 'pandas.core.frame.DataFrame'>\n",
      "RangeIndex: 39717 entries, 0 to 39716\n",
      "Data columns (total 19 columns):\n",
      " #   Column                  Non-Null Count  Dtype  \n",
      "---  ------                  --------------  -----  \n",
      " 0   id                      39717 non-null  int64  \n",
      " 1   loan_amnt               39717 non-null  int64  \n",
      " 2   term                    39717 non-null  object \n",
      " 3   int_rate                39717 non-null  object \n",
      " 4   installment             39717 non-null  float64\n",
      " 5   grade                   39717 non-null  object \n",
      " 6   sub_grade               39717 non-null  object \n",
      " 7   emp_length              39717 non-null  object \n",
      " 8   home_ownership          39717 non-null  object \n",
      " 9   annual_inc              39717 non-null  float64\n",
      " 10  verification_status     39717 non-null  object \n",
      " 11  issue_d                 39717 non-null  object \n",
      " 12  loan_status             39717 non-null  object \n",
      " 13  purpose                 39717 non-null  object \n",
      " 14  zip_code                39717 non-null  object \n",
      " 15  addr_state              39717 non-null  object \n",
      " 16  dti                     39717 non-null  float64\n",
      " 17  mths_since_last_delinq  14035 non-null  float64\n",
      " 18  pub_rec_bankruptcies    39717 non-null  float64\n",
      "dtypes: float64(5), int64(2), object(12)\n",
      "memory usage: 5.8+ MB\n"
     ]
    }
   ],
   "source": [
    "loan_df.info()"
   ]
  }
 ],
 "metadata": {
  "kernelspec": {
   "display_name": "Python 3",
   "language": "python",
   "name": "python3"
  },
  "language_info": {
   "codemirror_mode": {
    "name": "ipython",
    "version": 3
   },
   "file_extension": ".py",
   "mimetype": "text/x-python",
   "name": "python",
   "nbconvert_exporter": "python",
   "pygments_lexer": "ipython3",
   "version": "3.8.8"
  }
 },
 "nbformat": 4,
 "nbformat_minor": 5
}
