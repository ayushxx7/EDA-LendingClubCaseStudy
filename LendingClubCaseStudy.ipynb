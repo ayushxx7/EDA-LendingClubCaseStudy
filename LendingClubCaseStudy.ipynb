{
 "cells": [
  {
   "cell_type": "markdown",
   "id": "ee964c14-d2d9-47c0-9d24-73d6ed2e5ec0",
   "metadata": {},
   "source": [
    "# Lending Club Case Study\n",
    "### by Ayush and Nivedita"
   ]
  },
  {
   "cell_type": "markdown",
   "id": "51aab928-2c59-4eec-8bab-8a2a0edd15f9",
   "metadata": {},
   "source": [
    "## Imports"
   ]
  },
  {
   "cell_type": "code",
   "execution_count": 1,
   "id": "18cb8ea5-85e4-4f76-80c1-8fd2d1c8706b",
   "metadata": {},
   "outputs": [],
   "source": [
    "import pandas as pd\n",
    "import numpy as np\n",
    "import matplotlib.pyplot as plt\n",
    "import seaborn as sns"
   ]
  },
  {
   "cell_type": "markdown",
   "id": "1cc9522b-e340-40b3-b244-ea85d750e06f",
   "metadata": {},
   "source": [
    "## Loading Data"
   ]
  },
  {
   "cell_type": "code",
   "execution_count": 2,
   "id": "127f73cb-9330-4ce6-b7f6-83db0224e099",
   "metadata": {},
   "outputs": [],
   "source": [
    "loan_df = pd.read_csv('loan.csv', low_memory=False)"
   ]
  },
  {
   "cell_type": "code",
   "execution_count": 3,
   "id": "269cb159-05fd-4458-9f54-0b5d14f09627",
   "metadata": {},
   "outputs": [
    {
     "data": {
      "text/html": [
       "<div>\n",
       "<style scoped>\n",
       "    .dataframe tbody tr th:only-of-type {\n",
       "        vertical-align: middle;\n",
       "    }\n",
       "\n",
       "    .dataframe tbody tr th {\n",
       "        vertical-align: top;\n",
       "    }\n",
       "\n",
       "    .dataframe thead th {\n",
       "        text-align: right;\n",
       "    }\n",
       "</style>\n",
       "<table border=\"1\" class=\"dataframe\">\n",
       "  <thead>\n",
       "    <tr style=\"text-align: right;\">\n",
       "      <th></th>\n",
       "      <th>id</th>\n",
       "      <th>member_id</th>\n",
       "      <th>loan_amnt</th>\n",
       "      <th>funded_amnt</th>\n",
       "      <th>funded_amnt_inv</th>\n",
       "      <th>term</th>\n",
       "      <th>int_rate</th>\n",
       "      <th>installment</th>\n",
       "      <th>grade</th>\n",
       "      <th>sub_grade</th>\n",
       "      <th>...</th>\n",
       "      <th>num_tl_90g_dpd_24m</th>\n",
       "      <th>num_tl_op_past_12m</th>\n",
       "      <th>pct_tl_nvr_dlq</th>\n",
       "      <th>percent_bc_gt_75</th>\n",
       "      <th>pub_rec_bankruptcies</th>\n",
       "      <th>tax_liens</th>\n",
       "      <th>tot_hi_cred_lim</th>\n",
       "      <th>total_bal_ex_mort</th>\n",
       "      <th>total_bc_limit</th>\n",
       "      <th>total_il_high_credit_limit</th>\n",
       "    </tr>\n",
       "  </thead>\n",
       "  <tbody>\n",
       "    <tr>\n",
       "      <th>0</th>\n",
       "      <td>1077501</td>\n",
       "      <td>1296599</td>\n",
       "      <td>5000</td>\n",
       "      <td>5000</td>\n",
       "      <td>4975.0</td>\n",
       "      <td>36 months</td>\n",
       "      <td>10.65%</td>\n",
       "      <td>162.87</td>\n",
       "      <td>B</td>\n",
       "      <td>B2</td>\n",
       "      <td>...</td>\n",
       "      <td>NaN</td>\n",
       "      <td>NaN</td>\n",
       "      <td>NaN</td>\n",
       "      <td>NaN</td>\n",
       "      <td>0.0</td>\n",
       "      <td>0.0</td>\n",
       "      <td>NaN</td>\n",
       "      <td>NaN</td>\n",
       "      <td>NaN</td>\n",
       "      <td>NaN</td>\n",
       "    </tr>\n",
       "    <tr>\n",
       "      <th>1</th>\n",
       "      <td>1077430</td>\n",
       "      <td>1314167</td>\n",
       "      <td>2500</td>\n",
       "      <td>2500</td>\n",
       "      <td>2500.0</td>\n",
       "      <td>60 months</td>\n",
       "      <td>15.27%</td>\n",
       "      <td>59.83</td>\n",
       "      <td>C</td>\n",
       "      <td>C4</td>\n",
       "      <td>...</td>\n",
       "      <td>NaN</td>\n",
       "      <td>NaN</td>\n",
       "      <td>NaN</td>\n",
       "      <td>NaN</td>\n",
       "      <td>0.0</td>\n",
       "      <td>0.0</td>\n",
       "      <td>NaN</td>\n",
       "      <td>NaN</td>\n",
       "      <td>NaN</td>\n",
       "      <td>NaN</td>\n",
       "    </tr>\n",
       "    <tr>\n",
       "      <th>2</th>\n",
       "      <td>1077175</td>\n",
       "      <td>1313524</td>\n",
       "      <td>2400</td>\n",
       "      <td>2400</td>\n",
       "      <td>2400.0</td>\n",
       "      <td>36 months</td>\n",
       "      <td>15.96%</td>\n",
       "      <td>84.33</td>\n",
       "      <td>C</td>\n",
       "      <td>C5</td>\n",
       "      <td>...</td>\n",
       "      <td>NaN</td>\n",
       "      <td>NaN</td>\n",
       "      <td>NaN</td>\n",
       "      <td>NaN</td>\n",
       "      <td>0.0</td>\n",
       "      <td>0.0</td>\n",
       "      <td>NaN</td>\n",
       "      <td>NaN</td>\n",
       "      <td>NaN</td>\n",
       "      <td>NaN</td>\n",
       "    </tr>\n",
       "    <tr>\n",
       "      <th>3</th>\n",
       "      <td>1076863</td>\n",
       "      <td>1277178</td>\n",
       "      <td>10000</td>\n",
       "      <td>10000</td>\n",
       "      <td>10000.0</td>\n",
       "      <td>36 months</td>\n",
       "      <td>13.49%</td>\n",
       "      <td>339.31</td>\n",
       "      <td>C</td>\n",
       "      <td>C1</td>\n",
       "      <td>...</td>\n",
       "      <td>NaN</td>\n",
       "      <td>NaN</td>\n",
       "      <td>NaN</td>\n",
       "      <td>NaN</td>\n",
       "      <td>0.0</td>\n",
       "      <td>0.0</td>\n",
       "      <td>NaN</td>\n",
       "      <td>NaN</td>\n",
       "      <td>NaN</td>\n",
       "      <td>NaN</td>\n",
       "    </tr>\n",
       "    <tr>\n",
       "      <th>4</th>\n",
       "      <td>1075358</td>\n",
       "      <td>1311748</td>\n",
       "      <td>3000</td>\n",
       "      <td>3000</td>\n",
       "      <td>3000.0</td>\n",
       "      <td>60 months</td>\n",
       "      <td>12.69%</td>\n",
       "      <td>67.79</td>\n",
       "      <td>B</td>\n",
       "      <td>B5</td>\n",
       "      <td>...</td>\n",
       "      <td>NaN</td>\n",
       "      <td>NaN</td>\n",
       "      <td>NaN</td>\n",
       "      <td>NaN</td>\n",
       "      <td>0.0</td>\n",
       "      <td>0.0</td>\n",
       "      <td>NaN</td>\n",
       "      <td>NaN</td>\n",
       "      <td>NaN</td>\n",
       "      <td>NaN</td>\n",
       "    </tr>\n",
       "  </tbody>\n",
       "</table>\n",
       "<p>5 rows × 111 columns</p>\n",
       "</div>"
      ],
      "text/plain": [
       "        id  member_id  loan_amnt  funded_amnt  funded_amnt_inv        term  \\\n",
       "0  1077501    1296599       5000         5000           4975.0   36 months   \n",
       "1  1077430    1314167       2500         2500           2500.0   60 months   \n",
       "2  1077175    1313524       2400         2400           2400.0   36 months   \n",
       "3  1076863    1277178      10000        10000          10000.0   36 months   \n",
       "4  1075358    1311748       3000         3000           3000.0   60 months   \n",
       "\n",
       "  int_rate  installment grade sub_grade  ... num_tl_90g_dpd_24m  \\\n",
       "0   10.65%       162.87     B        B2  ...                NaN   \n",
       "1   15.27%        59.83     C        C4  ...                NaN   \n",
       "2   15.96%        84.33     C        C5  ...                NaN   \n",
       "3   13.49%       339.31     C        C1  ...                NaN   \n",
       "4   12.69%        67.79     B        B5  ...                NaN   \n",
       "\n",
       "  num_tl_op_past_12m pct_tl_nvr_dlq  percent_bc_gt_75 pub_rec_bankruptcies  \\\n",
       "0                NaN            NaN               NaN                  0.0   \n",
       "1                NaN            NaN               NaN                  0.0   \n",
       "2                NaN            NaN               NaN                  0.0   \n",
       "3                NaN            NaN               NaN                  0.0   \n",
       "4                NaN            NaN               NaN                  0.0   \n",
       "\n",
       "  tax_liens tot_hi_cred_lim total_bal_ex_mort total_bc_limit  \\\n",
       "0       0.0             NaN               NaN            NaN   \n",
       "1       0.0             NaN               NaN            NaN   \n",
       "2       0.0             NaN               NaN            NaN   \n",
       "3       0.0             NaN               NaN            NaN   \n",
       "4       0.0             NaN               NaN            NaN   \n",
       "\n",
       "  total_il_high_credit_limit  \n",
       "0                        NaN  \n",
       "1                        NaN  \n",
       "2                        NaN  \n",
       "3                        NaN  \n",
       "4                        NaN  \n",
       "\n",
       "[5 rows x 111 columns]"
      ]
     },
     "execution_count": 3,
     "metadata": {},
     "output_type": "execute_result"
    }
   ],
   "source": [
    "loan_df.head()"
   ]
  },
  {
   "cell_type": "code",
   "execution_count": 4,
   "id": "cd5e5b39-6a6f-4393-8a86-d9ffa79ff87b",
   "metadata": {},
   "outputs": [
    {
     "data": {
      "text/plain": [
       "(39717, 111)"
      ]
     },
     "execution_count": 4,
     "metadata": {},
     "output_type": "execute_result"
    }
   ],
   "source": [
    "loan_df.shape"
   ]
  },
  {
   "cell_type": "markdown",
   "id": "36d589f1-30e7-4460-86f0-8edc3aeada39",
   "metadata": {},
   "source": [
    "- Observation: There are 39k+ rows and 100+ columns"
   ]
  },
  {
   "cell_type": "code",
   "execution_count": 5,
   "id": "8e90e3e8-0aed-4288-ae52-d44c1ca8cb80",
   "metadata": {},
   "outputs": [
    {
     "name": "stdout",
     "output_type": "stream",
     "text": [
      "<class 'pandas.core.frame.DataFrame'>\n",
      "RangeIndex: 39717 entries, 0 to 39716\n",
      "Columns: 111 entries, id to total_il_high_credit_limit\n",
      "dtypes: float64(74), int64(13), object(24)\n",
      "memory usage: 33.6+ MB\n"
     ]
    }
   ],
   "source": [
    "loan_df.info()"
   ]
  },
  {
   "cell_type": "code",
   "execution_count": 6,
   "id": "8c67eef8-f860-442d-9f4f-00ecf51c68ed",
   "metadata": {},
   "outputs": [
    {
     "data": {
      "text/html": [
       "<div>\n",
       "<style scoped>\n",
       "    .dataframe tbody tr th:only-of-type {\n",
       "        vertical-align: middle;\n",
       "    }\n",
       "\n",
       "    .dataframe tbody tr th {\n",
       "        vertical-align: top;\n",
       "    }\n",
       "\n",
       "    .dataframe thead th {\n",
       "        text-align: right;\n",
       "    }\n",
       "</style>\n",
       "<table border=\"1\" class=\"dataframe\">\n",
       "  <thead>\n",
       "    <tr style=\"text-align: right;\">\n",
       "      <th></th>\n",
       "      <th>id</th>\n",
       "      <th>member_id</th>\n",
       "      <th>loan_amnt</th>\n",
       "      <th>funded_amnt</th>\n",
       "      <th>funded_amnt_inv</th>\n",
       "      <th>installment</th>\n",
       "      <th>annual_inc</th>\n",
       "      <th>dti</th>\n",
       "      <th>delinq_2yrs</th>\n",
       "      <th>inq_last_6mths</th>\n",
       "      <th>...</th>\n",
       "      <th>num_tl_90g_dpd_24m</th>\n",
       "      <th>num_tl_op_past_12m</th>\n",
       "      <th>pct_tl_nvr_dlq</th>\n",
       "      <th>percent_bc_gt_75</th>\n",
       "      <th>pub_rec_bankruptcies</th>\n",
       "      <th>tax_liens</th>\n",
       "      <th>tot_hi_cred_lim</th>\n",
       "      <th>total_bal_ex_mort</th>\n",
       "      <th>total_bc_limit</th>\n",
       "      <th>total_il_high_credit_limit</th>\n",
       "    </tr>\n",
       "  </thead>\n",
       "  <tbody>\n",
       "    <tr>\n",
       "      <th>count</th>\n",
       "      <td>3.971700e+04</td>\n",
       "      <td>3.971700e+04</td>\n",
       "      <td>39717.000000</td>\n",
       "      <td>39717.000000</td>\n",
       "      <td>39717.000000</td>\n",
       "      <td>39717.000000</td>\n",
       "      <td>3.971700e+04</td>\n",
       "      <td>39717.000000</td>\n",
       "      <td>39717.000000</td>\n",
       "      <td>39717.000000</td>\n",
       "      <td>...</td>\n",
       "      <td>0.0</td>\n",
       "      <td>0.0</td>\n",
       "      <td>0.0</td>\n",
       "      <td>0.0</td>\n",
       "      <td>39020.000000</td>\n",
       "      <td>39678.0</td>\n",
       "      <td>0.0</td>\n",
       "      <td>0.0</td>\n",
       "      <td>0.0</td>\n",
       "      <td>0.0</td>\n",
       "    </tr>\n",
       "    <tr>\n",
       "      <th>mean</th>\n",
       "      <td>6.831319e+05</td>\n",
       "      <td>8.504636e+05</td>\n",
       "      <td>11219.443815</td>\n",
       "      <td>10947.713196</td>\n",
       "      <td>10397.448868</td>\n",
       "      <td>324.561922</td>\n",
       "      <td>6.896893e+04</td>\n",
       "      <td>13.315130</td>\n",
       "      <td>0.146512</td>\n",
       "      <td>0.869200</td>\n",
       "      <td>...</td>\n",
       "      <td>NaN</td>\n",
       "      <td>NaN</td>\n",
       "      <td>NaN</td>\n",
       "      <td>NaN</td>\n",
       "      <td>0.043260</td>\n",
       "      <td>0.0</td>\n",
       "      <td>NaN</td>\n",
       "      <td>NaN</td>\n",
       "      <td>NaN</td>\n",
       "      <td>NaN</td>\n",
       "    </tr>\n",
       "    <tr>\n",
       "      <th>std</th>\n",
       "      <td>2.106941e+05</td>\n",
       "      <td>2.656783e+05</td>\n",
       "      <td>7456.670694</td>\n",
       "      <td>7187.238670</td>\n",
       "      <td>7128.450439</td>\n",
       "      <td>208.874874</td>\n",
       "      <td>6.379377e+04</td>\n",
       "      <td>6.678594</td>\n",
       "      <td>0.491812</td>\n",
       "      <td>1.070219</td>\n",
       "      <td>...</td>\n",
       "      <td>NaN</td>\n",
       "      <td>NaN</td>\n",
       "      <td>NaN</td>\n",
       "      <td>NaN</td>\n",
       "      <td>0.204324</td>\n",
       "      <td>0.0</td>\n",
       "      <td>NaN</td>\n",
       "      <td>NaN</td>\n",
       "      <td>NaN</td>\n",
       "      <td>NaN</td>\n",
       "    </tr>\n",
       "    <tr>\n",
       "      <th>min</th>\n",
       "      <td>5.473400e+04</td>\n",
       "      <td>7.069900e+04</td>\n",
       "      <td>500.000000</td>\n",
       "      <td>500.000000</td>\n",
       "      <td>0.000000</td>\n",
       "      <td>15.690000</td>\n",
       "      <td>4.000000e+03</td>\n",
       "      <td>0.000000</td>\n",
       "      <td>0.000000</td>\n",
       "      <td>0.000000</td>\n",
       "      <td>...</td>\n",
       "      <td>NaN</td>\n",
       "      <td>NaN</td>\n",
       "      <td>NaN</td>\n",
       "      <td>NaN</td>\n",
       "      <td>0.000000</td>\n",
       "      <td>0.0</td>\n",
       "      <td>NaN</td>\n",
       "      <td>NaN</td>\n",
       "      <td>NaN</td>\n",
       "      <td>NaN</td>\n",
       "    </tr>\n",
       "    <tr>\n",
       "      <th>25%</th>\n",
       "      <td>5.162210e+05</td>\n",
       "      <td>6.667800e+05</td>\n",
       "      <td>5500.000000</td>\n",
       "      <td>5400.000000</td>\n",
       "      <td>5000.000000</td>\n",
       "      <td>167.020000</td>\n",
       "      <td>4.040400e+04</td>\n",
       "      <td>8.170000</td>\n",
       "      <td>0.000000</td>\n",
       "      <td>0.000000</td>\n",
       "      <td>...</td>\n",
       "      <td>NaN</td>\n",
       "      <td>NaN</td>\n",
       "      <td>NaN</td>\n",
       "      <td>NaN</td>\n",
       "      <td>0.000000</td>\n",
       "      <td>0.0</td>\n",
       "      <td>NaN</td>\n",
       "      <td>NaN</td>\n",
       "      <td>NaN</td>\n",
       "      <td>NaN</td>\n",
       "    </tr>\n",
       "    <tr>\n",
       "      <th>50%</th>\n",
       "      <td>6.656650e+05</td>\n",
       "      <td>8.508120e+05</td>\n",
       "      <td>10000.000000</td>\n",
       "      <td>9600.000000</td>\n",
       "      <td>8975.000000</td>\n",
       "      <td>280.220000</td>\n",
       "      <td>5.900000e+04</td>\n",
       "      <td>13.400000</td>\n",
       "      <td>0.000000</td>\n",
       "      <td>1.000000</td>\n",
       "      <td>...</td>\n",
       "      <td>NaN</td>\n",
       "      <td>NaN</td>\n",
       "      <td>NaN</td>\n",
       "      <td>NaN</td>\n",
       "      <td>0.000000</td>\n",
       "      <td>0.0</td>\n",
       "      <td>NaN</td>\n",
       "      <td>NaN</td>\n",
       "      <td>NaN</td>\n",
       "      <td>NaN</td>\n",
       "    </tr>\n",
       "    <tr>\n",
       "      <th>75%</th>\n",
       "      <td>8.377550e+05</td>\n",
       "      <td>1.047339e+06</td>\n",
       "      <td>15000.000000</td>\n",
       "      <td>15000.000000</td>\n",
       "      <td>14400.000000</td>\n",
       "      <td>430.780000</td>\n",
       "      <td>8.230000e+04</td>\n",
       "      <td>18.600000</td>\n",
       "      <td>0.000000</td>\n",
       "      <td>1.000000</td>\n",
       "      <td>...</td>\n",
       "      <td>NaN</td>\n",
       "      <td>NaN</td>\n",
       "      <td>NaN</td>\n",
       "      <td>NaN</td>\n",
       "      <td>0.000000</td>\n",
       "      <td>0.0</td>\n",
       "      <td>NaN</td>\n",
       "      <td>NaN</td>\n",
       "      <td>NaN</td>\n",
       "      <td>NaN</td>\n",
       "    </tr>\n",
       "    <tr>\n",
       "      <th>max</th>\n",
       "      <td>1.077501e+06</td>\n",
       "      <td>1.314167e+06</td>\n",
       "      <td>35000.000000</td>\n",
       "      <td>35000.000000</td>\n",
       "      <td>35000.000000</td>\n",
       "      <td>1305.190000</td>\n",
       "      <td>6.000000e+06</td>\n",
       "      <td>29.990000</td>\n",
       "      <td>11.000000</td>\n",
       "      <td>8.000000</td>\n",
       "      <td>...</td>\n",
       "      <td>NaN</td>\n",
       "      <td>NaN</td>\n",
       "      <td>NaN</td>\n",
       "      <td>NaN</td>\n",
       "      <td>2.000000</td>\n",
       "      <td>0.0</td>\n",
       "      <td>NaN</td>\n",
       "      <td>NaN</td>\n",
       "      <td>NaN</td>\n",
       "      <td>NaN</td>\n",
       "    </tr>\n",
       "  </tbody>\n",
       "</table>\n",
       "<p>8 rows × 87 columns</p>\n",
       "</div>"
      ],
      "text/plain": [
       "                 id     member_id     loan_amnt   funded_amnt  \\\n",
       "count  3.971700e+04  3.971700e+04  39717.000000  39717.000000   \n",
       "mean   6.831319e+05  8.504636e+05  11219.443815  10947.713196   \n",
       "std    2.106941e+05  2.656783e+05   7456.670694   7187.238670   \n",
       "min    5.473400e+04  7.069900e+04    500.000000    500.000000   \n",
       "25%    5.162210e+05  6.667800e+05   5500.000000   5400.000000   \n",
       "50%    6.656650e+05  8.508120e+05  10000.000000   9600.000000   \n",
       "75%    8.377550e+05  1.047339e+06  15000.000000  15000.000000   \n",
       "max    1.077501e+06  1.314167e+06  35000.000000  35000.000000   \n",
       "\n",
       "       funded_amnt_inv   installment    annual_inc           dti  \\\n",
       "count     39717.000000  39717.000000  3.971700e+04  39717.000000   \n",
       "mean      10397.448868    324.561922  6.896893e+04     13.315130   \n",
       "std        7128.450439    208.874874  6.379377e+04      6.678594   \n",
       "min           0.000000     15.690000  4.000000e+03      0.000000   \n",
       "25%        5000.000000    167.020000  4.040400e+04      8.170000   \n",
       "50%        8975.000000    280.220000  5.900000e+04     13.400000   \n",
       "75%       14400.000000    430.780000  8.230000e+04     18.600000   \n",
       "max       35000.000000   1305.190000  6.000000e+06     29.990000   \n",
       "\n",
       "        delinq_2yrs  inq_last_6mths  ...  num_tl_90g_dpd_24m  \\\n",
       "count  39717.000000    39717.000000  ...                 0.0   \n",
       "mean       0.146512        0.869200  ...                 NaN   \n",
       "std        0.491812        1.070219  ...                 NaN   \n",
       "min        0.000000        0.000000  ...                 NaN   \n",
       "25%        0.000000        0.000000  ...                 NaN   \n",
       "50%        0.000000        1.000000  ...                 NaN   \n",
       "75%        0.000000        1.000000  ...                 NaN   \n",
       "max       11.000000        8.000000  ...                 NaN   \n",
       "\n",
       "       num_tl_op_past_12m  pct_tl_nvr_dlq  percent_bc_gt_75  \\\n",
       "count                 0.0             0.0               0.0   \n",
       "mean                  NaN             NaN               NaN   \n",
       "std                   NaN             NaN               NaN   \n",
       "min                   NaN             NaN               NaN   \n",
       "25%                   NaN             NaN               NaN   \n",
       "50%                   NaN             NaN               NaN   \n",
       "75%                   NaN             NaN               NaN   \n",
       "max                   NaN             NaN               NaN   \n",
       "\n",
       "       pub_rec_bankruptcies  tax_liens  tot_hi_cred_lim  total_bal_ex_mort  \\\n",
       "count          39020.000000    39678.0              0.0                0.0   \n",
       "mean               0.043260        0.0              NaN                NaN   \n",
       "std                0.204324        0.0              NaN                NaN   \n",
       "min                0.000000        0.0              NaN                NaN   \n",
       "25%                0.000000        0.0              NaN                NaN   \n",
       "50%                0.000000        0.0              NaN                NaN   \n",
       "75%                0.000000        0.0              NaN                NaN   \n",
       "max                2.000000        0.0              NaN                NaN   \n",
       "\n",
       "       total_bc_limit  total_il_high_credit_limit  \n",
       "count             0.0                         0.0  \n",
       "mean              NaN                         NaN  \n",
       "std               NaN                         NaN  \n",
       "min               NaN                         NaN  \n",
       "25%               NaN                         NaN  \n",
       "50%               NaN                         NaN  \n",
       "75%               NaN                         NaN  \n",
       "max               NaN                         NaN  \n",
       "\n",
       "[8 rows x 87 columns]"
      ]
     },
     "execution_count": 6,
     "metadata": {},
     "output_type": "execute_result"
    }
   ],
   "source": [
    "loan_df.describe()"
   ]
  },
  {
   "cell_type": "markdown",
   "id": "c699e968-2280-4fc2-a90b-4523f62dd41f",
   "metadata": {},
   "source": [
    "Observation \n",
    "- There seem to be columns which have most values missing\n",
    "- These can be dropped"
   ]
  },
  {
   "cell_type": "markdown",
   "id": "72faf7b5-10e7-4332-8eb2-5c60b6065cda",
   "metadata": {},
   "source": [
    "---"
   ]
  },
  {
   "cell_type": "markdown",
   "id": "9d0ee444-e902-4a5b-94fd-f7baddc06e62",
   "metadata": {},
   "source": [
    "## Feature Extraction\n",
    "- We will choose the required columns for anlysis and drop the rest\n",
    "- We will also drop columns with more than 90% missing values"
   ]
  },
  {
   "cell_type": "markdown",
   "id": "3511e34a-71b8-4d8e-9a37-58eb5ef6229b",
   "metadata": {},
   "source": [
    "### Null Value Analysis\n",
    "- Choosing between imputing or dropping values based on threshold"
   ]
  },
  {
   "cell_type": "code",
   "execution_count": 7,
   "id": "d9b7e955-caa3-434d-a847-63e76e39dec1",
   "metadata": {},
   "outputs": [],
   "source": [
    "# ?loan_df.dropna"
   ]
  },
  {
   "cell_type": "markdown",
   "id": "729a95e1-1957-4a36-a5bc-917282093bda",
   "metadata": {},
   "source": [
    "#### Columns - Null Value Analysis"
   ]
  },
  {
   "cell_type": "markdown",
   "id": "476ed137-f55e-4105-823e-2236a597ccc9",
   "metadata": {},
   "source": [
    "##### Dropping columns where all values are missing"
   ]
  },
  {
   "cell_type": "code",
   "execution_count": 8,
   "id": "00fe3403-13e1-44f6-9f59-3cecea58f81b",
   "metadata": {},
   "outputs": [],
   "source": [
    "loan_df.dropna(how='all', axis=1, inplace=True)"
   ]
  },
  {
   "cell_type": "code",
   "execution_count": 9,
   "id": "664872a3-35d5-4572-9afc-1be286ca931d",
   "metadata": {},
   "outputs": [
    {
     "data": {
      "text/plain": [
       "(39717, 57)"
      ]
     },
     "execution_count": 9,
     "metadata": {},
     "output_type": "execute_result"
    }
   ],
   "source": [
    "loan_df.shape"
   ]
  },
  {
   "cell_type": "code",
   "execution_count": 10,
   "id": "98204e10-6df5-43cc-9651-2a0bccaf3385",
   "metadata": {},
   "outputs": [],
   "source": [
    "df_checkpoint = loan_df.copy()"
   ]
  },
  {
   "cell_type": "code",
   "execution_count": 11,
   "id": "b83c6d87-4513-43cc-acbb-87aae8271b8d",
   "metadata": {},
   "outputs": [
    {
     "data": {
      "text/plain": [
       "(39717, 57)"
      ]
     },
     "execution_count": 11,
     "metadata": {},
     "output_type": "execute_result"
    }
   ],
   "source": [
    "loan_df.shape"
   ]
  },
  {
   "cell_type": "markdown",
   "id": "07be9fd2-9c29-4140-b56e-ca0d937ea6f9",
   "metadata": {},
   "source": [
    "##### Dropping columns which only have one type of value\n",
    "- they won't provide any relevants insights (they have only value throughout the column)"
   ]
  },
  {
   "cell_type": "code",
   "execution_count": 12,
   "id": "93b2ad21-954a-477f-bd8b-6faf3799bc4f",
   "metadata": {},
   "outputs": [
    {
     "name": "stdout",
     "output_type": "stream",
     "text": [
      "dropping: pymnt_plan which contained: ['n'] as the only value\n",
      "dropping: initial_list_status which contained: ['f'] as the only value\n",
      "dropping: policy_code which contained: [1] as the only value\n",
      "dropping: application_type which contained: ['INDIVIDUAL'] as the only value\n",
      "dropping: acc_now_delinq which contained: [0] as the only value\n",
      "dropping: delinq_amnt which contained: [0] as the only value\n"
     ]
    }
   ],
   "source": [
    "for col in loan_df.columns:\n",
    "    if len(loan_df[col].unique()) == 1:\n",
    "        print(\"dropping:\", col, \"which contained:\", loan_df[col].unique(), 'as the only value')\n",
    "        loan_df.drop(col, inplace=True, axis=1)"
   ]
  },
  {
   "cell_type": "code",
   "execution_count": 13,
   "id": "e2b68112-cc37-43f2-922d-3662f806133a",
   "metadata": {},
   "outputs": [
    {
     "data": {
      "text/plain": [
       "(39717, 51)"
      ]
     },
     "execution_count": 13,
     "metadata": {},
     "output_type": "execute_result"
    }
   ],
   "source": [
    "loan_df.shape"
   ]
  },
  {
   "cell_type": "code",
   "execution_count": 14,
   "id": "50b9ff56-96fd-4d7c-9b55-f794e1e97f01",
   "metadata": {},
   "outputs": [],
   "source": [
    "col_checkpoint = loan_df.copy()"
   ]
  },
  {
   "cell_type": "code",
   "execution_count": 15,
   "id": "1d2d87ba-01f5-486a-bb93-26f0da87de86",
   "metadata": {},
   "outputs": [
    {
     "data": {
      "text/plain": [
       "(39717, 51)"
      ]
     },
     "execution_count": 15,
     "metadata": {},
     "output_type": "execute_result"
    }
   ],
   "source": [
    "loan_df.shape"
   ]
  },
  {
   "cell_type": "markdown",
   "id": "838a8996-f136-4863-a3e4-d6b7f27cae2f",
   "metadata": {},
   "source": [
    "##### Checking percentage of missing values in all columns"
   ]
  },
  {
   "cell_type": "code",
   "execution_count": 16,
   "id": "8882a71e-3e0e-49e7-9a88-edea5c9f2f50",
   "metadata": {},
   "outputs": [],
   "source": [
    "miss_percentage = round(100*(loan_df.isnull().sum()/len(loan_df.id)), 2)"
   ]
  },
  {
   "cell_type": "code",
   "execution_count": 17,
   "id": "0b185008-1e21-4fa2-965f-ec1c8d890380",
   "metadata": {},
   "outputs": [
    {
     "data": {
      "text/plain": [
       "emp_title                      6.19\n",
       "emp_length                     2.71\n",
       "desc                          32.58\n",
       "title                          0.03\n",
       "mths_since_last_delinq        64.66\n",
       "mths_since_last_record        92.99\n",
       "revol_util                     0.13\n",
       "last_pymnt_d                   0.18\n",
       "next_pymnt_d                  97.13\n",
       "last_credit_pull_d             0.01\n",
       "collections_12_mths_ex_med     0.14\n",
       "chargeoff_within_12_mths       0.14\n",
       "pub_rec_bankruptcies           1.75\n",
       "tax_liens                      0.10\n",
       "dtype: float64"
      ]
     },
     "execution_count": 17,
     "metadata": {},
     "output_type": "execute_result"
    }
   ],
   "source": [
    "# list of columns which have missing values\n",
    "miss_percentage.loc[miss_percentage > 0]"
   ]
  },
  {
   "cell_type": "markdown",
   "id": "358886b2-1458-4195-ad80-a9ca84694d94",
   "metadata": {},
   "source": [
    "###### Observation: We can see that there are 2 columns with more than 90% missing values and one column with more than 60% missing values."
   ]
  },
  {
   "cell_type": "markdown",
   "id": "db6f92eb-6d9c-474e-a659-9cfcf761572c",
   "metadata": {},
   "source": [
    "- First, we remove the columns with more than 90% missing values"
   ]
  },
  {
   "cell_type": "code",
   "execution_count": 18,
   "id": "9d08e74c-4943-444f-82ab-250c214e41af",
   "metadata": {},
   "outputs": [],
   "source": [
    "loan_df.drop(list(miss_percentage[miss_percentage >= 90].index), axis=1, inplace=True)"
   ]
  },
  {
   "cell_type": "markdown",
   "id": "61094df3-f650-46d7-8e2b-34f89acf8be6",
   "metadata": {},
   "source": [
    "- Next, we check what kind of values does mths_since_last_delinq has."
   ]
  },
  {
   "cell_type": "code",
   "execution_count": 19,
   "id": "81078fa1-f41a-4dba-973f-a3a0197fd294",
   "metadata": {},
   "outputs": [
    {
     "data": {
      "text/plain": [
       "count    14035.000000\n",
       "mean        35.900962\n",
       "std         22.020060\n",
       "min          0.000000\n",
       "25%         18.000000\n",
       "50%         34.000000\n",
       "75%         52.000000\n",
       "max        120.000000\n",
       "Name: mths_since_last_delinq, dtype: float64"
      ]
     },
     "execution_count": 19,
     "metadata": {},
     "output_type": "execute_result"
    }
   ],
   "source": [
    "loan_df.mths_since_last_delinq.describe()"
   ]
  },
  {
   "cell_type": "code",
   "execution_count": 20,
   "id": "2a68088a-5082-4d1e-a94c-8cdb7c0615fa",
   "metadata": {},
   "outputs": [
    {
     "data": {
      "text/plain": [
       "0.0      443\n",
       "15.0     252\n",
       "30.0     247\n",
       "23.0     247\n",
       "24.0     241\n",
       "        ... \n",
       "115.0      1\n",
       "106.0      1\n",
       "95.0       1\n",
       "120.0      1\n",
       "89.0       1\n",
       "Name: mths_since_last_delinq, Length: 95, dtype: int64"
      ]
     },
     "execution_count": 20,
     "metadata": {},
     "output_type": "execute_result"
    }
   ],
   "source": [
    "loan_df.mths_since_last_delinq.value_counts()"
   ]
  },
  {
   "cell_type": "code",
   "execution_count": 21,
   "id": "370879fa-0063-4825-8ac4-a07c8753d4cd",
   "metadata": {},
   "outputs": [
    {
     "data": {
      "image/png": "[encoded data removed]",
      "text/plain": [
       "<Figure size 1080x432 with 2 Axes>"
      ]
     },
     "metadata": {
      "needs_background": "light"
     },
     "output_type": "display_data"
    }
   ],
   "source": [
    "fig, (ax1, ax2) = plt.subplots(1, 2, figsize=(15,6))\n",
    "\n",
    "loan_df.mths_since_last_delinq.value_counts().plot(kind='hist', ax=ax1)\n",
    "loan_df.mths_since_last_delinq.value_counts()[0:10].plot(kind='bar', ax=ax2)\n",
    "\n",
    "plt.show()"
   ]
  },
  {
   "cell_type": "code",
   "execution_count": 22,
   "id": "1e5b93dd-0bba-44eb-adde-09f96f23259f",
   "metadata": {},
   "outputs": [
    {
     "data": {
      "image/png": "[encoded data removed]",
      "text/plain": [
       "<Figure size 432x288 with 1 Axes>"
      ]
     },
     "metadata": {
      "needs_background": "light"
     },
     "output_type": "display_data"
    }
   ],
   "source": [
    "sns.boxplot(x='mths_since_last_delinq', data=loan_df)\n",
    "plt.show()"
   ]
  },
  {
   "cell_type": "markdown",
   "id": "6feba459-0ede-4ac8-b576-7c7e7248f3e9",
   "metadata": {},
   "source": [
    "#### Note:\n",
    "\n",
    "This column lets us know the number of months since the borrower's last delinquency.  \n",
    "Since this is an important metric for loan application, we will be keeping this value.  \n",
    "However, we are not be imputing the values in this phase. We will do so later if required"
   ]
  },
  {
   "cell_type": "code",
   "execution_count": 23,
   "id": "60f79e8d-7475-4ebf-9049-bf95cd92b3ee",
   "metadata": {},
   "outputs": [
    {
     "data": {
      "text/plain": [
       "(39717, 49)"
      ]
     },
     "execution_count": 23,
     "metadata": {},
     "output_type": "execute_result"
    }
   ],
   "source": [
    "loan_df.shape"
   ]
  },
  {
   "cell_type": "markdown",
   "id": "6b573b03-ba2d-47c4-ac8a-f1ae0a8b3425",
   "metadata": {},
   "source": [
    "###### Observation: about 55% of the columns had no relevant information, and have beend dropped"
   ]
  },
  {
   "cell_type": "markdown",
   "id": "d6cd4c04-50f1-4d2c-8f45-2a0498f8cb3e",
   "metadata": {},
   "source": [
    "---"
   ]
  },
  {
   "cell_type": "markdown",
   "id": "de878dec-7069-408e-8f63-e6eb01eb6ca7",
   "metadata": {},
   "source": [
    "#### Rows - Null Value Analysis"
   ]
  },
  {
   "cell_type": "code",
   "execution_count": 24,
   "id": "eb41da9e-4240-40a2-9b0d-c5ad42a078fb",
   "metadata": {},
   "outputs": [
    {
     "data": {
      "text/plain": [
       "(39717, 49)"
      ]
     },
     "execution_count": 24,
     "metadata": {},
     "output_type": "execute_result"
    }
   ],
   "source": [
    "loan_df.dropna(how='all', axis=0).shape"
   ]
  },
  {
   "cell_type": "markdown",
   "id": "c61530fb-7319-4509-baab-6b3b12e71b22",
   "metadata": {},
   "source": [
    "##### Observation: There are no rows where all values are missing"
   ]
  },
  {
   "cell_type": "code",
   "execution_count": 25,
   "id": "884f34e6-f89c-498b-9508-271fab4a16c3",
   "metadata": {},
   "outputs": [
    {
     "data": {
      "text/plain": [
       "(8238, 49)"
      ]
     },
     "execution_count": 25,
     "metadata": {},
     "output_type": "execute_result"
    }
   ],
   "source": [
    "loan_df.dropna().shape"
   ]
  },
  {
   "cell_type": "code",
   "execution_count": 26,
   "id": "7ee4ff91-5424-4f57-bb59-2eb16d9a9083",
   "metadata": {},
   "outputs": [
    {
     "data": {
      "text/plain": [
       "39381"
      ]
     },
     "execution_count": 26,
     "metadata": {},
     "output_type": "execute_result"
    }
   ],
   "source": [
    "len(loan_df[loan_df.isnull().sum(axis=1) <= 3])"
   ]
  },
  {
   "cell_type": "markdown",
   "id": "479bb157-11a7-429c-ad79-78f214a9676e",
   "metadata": {},
   "source": [
    "##### Observation: There are no rows with more than 3 missing values, hence no rows need to be dropped"
   ]
  },
  {
   "cell_type": "markdown",
   "id": "82a3b7fa-d193-45bc-abba-643ba0812e04",
   "metadata": {},
   "source": [
    "---"
   ]
  },
  {
   "cell_type": "markdown",
   "id": "d8eb2f2e-df4f-4be4-b26a-fba487059ca6",
   "metadata": {},
   "source": [
    "### Feature Extraction\n",
    "- We will analyze the columns and description and decide whether they are relevant for our analysis or not"
   ]
  },
  {
   "cell_type": "code",
   "execution_count": 27,
   "id": "6e8c6ff9-e7a6-4a56-8667-6828adf1c708",
   "metadata": {},
   "outputs": [
    {
     "data": {
      "text/plain": [
       "Index(['id', 'member_id', 'loan_amnt', 'funded_amnt', 'funded_amnt_inv',\n",
       "       'term', 'int_rate', 'installment', 'grade', 'sub_grade', 'emp_title',\n",
       "       'emp_length', 'home_ownership', 'annual_inc', 'verification_status',\n",
       "       'issue_d', 'loan_status', 'url', 'desc', 'purpose', 'title', 'zip_code',\n",
       "       'addr_state', 'dti', 'delinq_2yrs', 'earliest_cr_line',\n",
       "       'inq_last_6mths', 'mths_since_last_delinq', 'open_acc', 'pub_rec',\n",
       "       'revol_bal', 'revol_util', 'total_acc', 'out_prncp', 'out_prncp_inv',\n",
       "       'total_pymnt', 'total_pymnt_inv', 'total_rec_prncp', 'total_rec_int',\n",
       "       'total_rec_late_fee', 'recoveries', 'collection_recovery_fee',\n",
       "       'last_pymnt_d', 'last_pymnt_amnt', 'last_credit_pull_d',\n",
       "       'collections_12_mths_ex_med', 'chargeoff_within_12_mths',\n",
       "       'pub_rec_bankruptcies', 'tax_liens'],\n",
       "      dtype='object')"
      ]
     },
     "execution_count": 27,
     "metadata": {},
     "output_type": "execute_result"
    }
   ],
   "source": [
    "loan_df.columns"
   ]
  },
  {
   "cell_type": "markdown",
   "id": "3f14487e-614e-497a-8786-ca57ac36ee9e",
   "metadata": {},
   "source": [
    "##### Dropping customer behavior columns which are not present at the time of loan application"
   ]
  },
  {
   "cell_type": "code",
   "execution_count": 28,
   "id": "3f8234ea-bbb7-4a63-8d73-0350d3ae3e1a",
   "metadata": {},
   "outputs": [],
   "source": [
    "all_cust_behav_col = ['collection_recovery_fee','delinq_2yrs','earliest_cr_line','inq_last_6mths','last_credit_pull_d','last_pymnt_amnt','last_pymnt_d','open_acc','out_prncp','out_prncp_inv','pub_rec','recoveries','revol_bal','revol_util','total_acc','total_pymnt','total_pymnt_inv','total_rec_int','total_rec_late_fee','total_rec_prncp']\n",
    "loan_df.drop(all_cust_behav_col, axis=1, inplace=True)"
   ]
  },
  {
   "cell_type": "markdown",
   "id": "50513cb8-02d6-4b5c-aff7-1525cc121752",
   "metadata": {},
   "source": [
    "##### After analyzing the column description we have decided to drop some columns"
   ]
  },
  {
   "cell_type": "markdown",
   "id": "bbb5387a-e9d4-420a-8998-2931c554edea",
   "metadata": {},
   "source": [
    "| Column          | Reason                                |\n",
    "|-----------------|---------------------------------------|\n",
    "| member_id       | similar to id                         |\n",
    "| funded_amnt     | Data Unavailable when loan is applied |\n",
    "| funded_amnt_inv | Data Unavailable when loan is applied |\n",
    "| url             | not required for analysis             |\n",
    "| desc            | not important for reducing risk       |\n",
    "| title           | similar to purpose                    |\n"
   ]
  },
  {
   "cell_type": "code",
   "execution_count": 29,
   "id": "95f61856-fb00-4b59-9f58-d7694181dedf",
   "metadata": {},
   "outputs": [],
   "source": [
    "loan_df.drop(['member_id', 'funded_amnt', 'funded_amnt_inv', 'url', 'desc', 'title'], axis=1, inplace=True)"
   ]
  },
  {
   "cell_type": "code",
   "execution_count": 30,
   "id": "15f99ebe-ac10-409e-b497-e50a867b246c",
   "metadata": {},
   "outputs": [
    {
     "data": {
      "text/plain": [
       "(39717, 23)"
      ]
     },
     "execution_count": 30,
     "metadata": {},
     "output_type": "execute_result"
    }
   ],
   "source": [
    "loan_df.shape"
   ]
  },
  {
   "cell_type": "code",
   "execution_count": 31,
   "id": "e4c98ca7-cc5e-4447-9c54-22802e74daf7",
   "metadata": {},
   "outputs": [
    {
     "data": {
      "text/plain": [
       "Index(['id', 'loan_amnt', 'term', 'int_rate', 'installment', 'grade',\n",
       "       'sub_grade', 'emp_title', 'emp_length', 'home_ownership', 'annual_inc',\n",
       "       'verification_status', 'issue_d', 'loan_status', 'purpose', 'zip_code',\n",
       "       'addr_state', 'dti', 'mths_since_last_delinq',\n",
       "       'collections_12_mths_ex_med', 'chargeoff_within_12_mths',\n",
       "       'pub_rec_bankruptcies', 'tax_liens'],\n",
       "      dtype='object')"
      ]
     },
     "execution_count": 31,
     "metadata": {},
     "output_type": "execute_result"
    }
   ],
   "source": [
    "loan_df.columns"
   ]
  },
  {
   "cell_type": "markdown",
   "id": "42faa6e0-3dbd-4fc7-a50c-208e9dddc663",
   "metadata": {},
   "source": [
    "##### For the analysis, there is no particular relevance of the `id` column, hence dropping it"
   ]
  },
  {
   "cell_type": "code",
   "execution_count": 32,
   "id": "aedb6668-2fef-4f15-bb49-bd1b4925e8b7",
   "metadata": {},
   "outputs": [],
   "source": [
    "loan_df.drop(['id'], axis=1, inplace=True)"
   ]
  },
  {
   "cell_type": "markdown",
   "id": "db727b69-6e0b-41e6-a16c-6495bbf463f4",
   "metadata": {},
   "source": [
    "##### Looking closely at the data, some of the columns are filled with one value or NaN, so we will drop these as well"
   ]
  },
  {
   "cell_type": "code",
   "execution_count": 33,
   "id": "3671c4b5-a6bc-4603-8635-b2dc6ac9108d",
   "metadata": {},
   "outputs": [
    {
     "data": {
      "text/plain": [
       "array([ 0., nan])"
      ]
     },
     "execution_count": 33,
     "metadata": {},
     "output_type": "execute_result"
    }
   ],
   "source": [
    "loan_df.collections_12_mths_ex_med.unique()"
   ]
  },
  {
   "cell_type": "code",
   "execution_count": 34,
   "id": "d00e6d9d-85e6-4017-8b9c-1c43e236b5e3",
   "metadata": {},
   "outputs": [
    {
     "data": {
      "text/plain": [
       "array([ 0., nan])"
      ]
     },
     "execution_count": 34,
     "metadata": {},
     "output_type": "execute_result"
    }
   ],
   "source": [
    "loan_df.chargeoff_within_12_mths.unique()"
   ]
  },
  {
   "cell_type": "code",
   "execution_count": 35,
   "id": "523e6bc7-7eaa-4459-88c2-a4706abca374",
   "metadata": {},
   "outputs": [
    {
     "data": {
      "text/plain": [
       "array([ 0., nan])"
      ]
     },
     "execution_count": 35,
     "metadata": {},
     "output_type": "execute_result"
    }
   ],
   "source": [
    "loan_df.tax_liens.unique()"
   ]
  },
  {
   "cell_type": "code",
   "execution_count": 36,
   "id": "121ac90f-805f-43f1-a0c2-b2e4cd436849",
   "metadata": {},
   "outputs": [],
   "source": [
    "loan_df.drop(['collections_12_mths_ex_med', 'chargeoff_within_12_mths', 'tax_liens'], axis=1, inplace=True)"
   ]
  },
  {
   "cell_type": "code",
   "execution_count": 37,
   "id": "8a935d02-3b5b-4d2c-bb93-d5570e775e71",
   "metadata": {},
   "outputs": [
    {
     "data": {
      "text/plain": [
       "(39717, 19)"
      ]
     },
     "execution_count": 37,
     "metadata": {},
     "output_type": "execute_result"
    }
   ],
   "source": [
    "loan_df.shape"
   ]
  },
  {
   "cell_type": "markdown",
   "id": "0c3e8f42-c42a-4684-b51d-c34e4ba7597f",
   "metadata": {},
   "source": [
    "###### Observation: ~17% columns remain after feature selection"
   ]
  },
  {
   "cell_type": "markdown",
   "id": "be10e6e0-6141-4fcd-b5f5-c8cf5072c0ad",
   "metadata": {},
   "source": [
    "##### As a final step we check for correlation between the numeric columns"
   ]
  },
  {
   "cell_type": "code",
   "execution_count": 38,
   "id": "29b78db9-a280-449e-9d10-26891d1b8bc1",
   "metadata": {},
   "outputs": [
    {
     "data": {
      "text/html": [
       "<div>\n",
       "<style scoped>\n",
       "    .dataframe tbody tr th:only-of-type {\n",
       "        vertical-align: middle;\n",
       "    }\n",
       "\n",
       "    .dataframe tbody tr th {\n",
       "        vertical-align: top;\n",
       "    }\n",
       "\n",
       "    .dataframe thead th {\n",
       "        text-align: right;\n",
       "    }\n",
       "</style>\n",
       "<table border=\"1\" class=\"dataframe\">\n",
       "  <thead>\n",
       "    <tr style=\"text-align: right;\">\n",
       "      <th></th>\n",
       "      <th>loan_amnt</th>\n",
       "      <th>installment</th>\n",
       "      <th>annual_inc</th>\n",
       "      <th>dti</th>\n",
       "      <th>mths_since_last_delinq</th>\n",
       "      <th>pub_rec_bankruptcies</th>\n",
       "    </tr>\n",
       "  </thead>\n",
       "  <tbody>\n",
       "    <tr>\n",
       "      <th>loan_amnt</th>\n",
       "      <td>1.000000</td>\n",
       "      <td>0.930288</td>\n",
       "      <td>0.271149</td>\n",
       "      <td>0.066439</td>\n",
       "      <td>0.014871</td>\n",
       "      <td>-0.037180</td>\n",
       "    </tr>\n",
       "    <tr>\n",
       "      <th>installment</th>\n",
       "      <td>0.930288</td>\n",
       "      <td>1.000000</td>\n",
       "      <td>0.270874</td>\n",
       "      <td>0.054186</td>\n",
       "      <td>0.000047</td>\n",
       "      <td>-0.034103</td>\n",
       "    </tr>\n",
       "    <tr>\n",
       "      <th>annual_inc</th>\n",
       "      <td>0.271149</td>\n",
       "      <td>0.270874</td>\n",
       "      <td>1.000000</td>\n",
       "      <td>-0.122732</td>\n",
       "      <td>-0.008822</td>\n",
       "      <td>-0.016801</td>\n",
       "    </tr>\n",
       "    <tr>\n",
       "      <th>dti</th>\n",
       "      <td>0.066439</td>\n",
       "      <td>0.054186</td>\n",
       "      <td>-0.122732</td>\n",
       "      <td>1.000000</td>\n",
       "      <td>0.068815</td>\n",
       "      <td>0.005691</td>\n",
       "    </tr>\n",
       "    <tr>\n",
       "      <th>mths_since_last_delinq</th>\n",
       "      <td>0.014871</td>\n",
       "      <td>0.000047</td>\n",
       "      <td>-0.008822</td>\n",
       "      <td>0.068815</td>\n",
       "      <td>1.000000</td>\n",
       "      <td>0.025841</td>\n",
       "    </tr>\n",
       "    <tr>\n",
       "      <th>pub_rec_bankruptcies</th>\n",
       "      <td>-0.037180</td>\n",
       "      <td>-0.034103</td>\n",
       "      <td>-0.016801</td>\n",
       "      <td>0.005691</td>\n",
       "      <td>0.025841</td>\n",
       "      <td>1.000000</td>\n",
       "    </tr>\n",
       "  </tbody>\n",
       "</table>\n",
       "</div>"
      ],
      "text/plain": [
       "                        loan_amnt  installment  annual_inc       dti  \\\n",
       "loan_amnt                1.000000     0.930288    0.271149  0.066439   \n",
       "installment              0.930288     1.000000    0.270874  0.054186   \n",
       "annual_inc               0.271149     0.270874    1.000000 -0.122732   \n",
       "dti                      0.066439     0.054186   -0.122732  1.000000   \n",
       "mths_since_last_delinq   0.014871     0.000047   -0.008822  0.068815   \n",
       "pub_rec_bankruptcies    -0.037180    -0.034103   -0.016801  0.005691   \n",
       "\n",
       "                        mths_since_last_delinq  pub_rec_bankruptcies  \n",
       "loan_amnt                             0.014871             -0.037180  \n",
       "installment                           0.000047             -0.034103  \n",
       "annual_inc                           -0.008822             -0.016801  \n",
       "dti                                   0.068815              0.005691  \n",
       "mths_since_last_delinq                1.000000              0.025841  \n",
       "pub_rec_bankruptcies                  0.025841              1.000000  "
      ]
     },
     "execution_count": 38,
     "metadata": {},
     "output_type": "execute_result"
    }
   ],
   "source": [
    "loan_df.corr()"
   ]
  },
  {
   "cell_type": "code",
   "execution_count": 39,
   "id": "084f3d21-8e12-45ff-931a-624b69c36c70",
   "metadata": {},
   "outputs": [
    {
     "data": {
      "image/png": "[encoded data removed]",
      "text/plain": [
       "<Figure size 432x288 with 2 Axes>"
      ]
     },
     "metadata": {
      "needs_background": "light"
     },
     "output_type": "display_data"
    }
   ],
   "source": [
    "ax = sns.heatmap(\n",
    "    loan_df.corr(), \n",
    "    vmin=-1, vmax=1, center=0,\n",
    "    cmap=sns.diverging_palette(20, 220, n=200),\n",
    "    square=True\n",
    ")\n",
    "ax.set_xticklabels(\n",
    "    ax.get_xticklabels(),\n",
    "    rotation=45,\n",
    "    horizontalalignment='right'\n",
    ");"
   ]
  },
  {
   "cell_type": "markdown",
   "id": "b8a53909-6b3b-4b41-8cf9-9ade5e05df23",
   "metadata": {},
   "source": [
    "#### Observation: \n",
    "- Installament and Loan Amount are positively correlated (strong)\n",
    "- dti and annual income are negatively correlated (weak)"
   ]
  },
  {
   "cell_type": "code",
   "execution_count": 40,
   "id": "b215cd2f-890a-4be6-9ca3-341942ed9f04",
   "metadata": {},
   "outputs": [
    {
     "data": {
      "text/html": [
       "<div>\n",
       "<style scoped>\n",
       "    .dataframe tbody tr th:only-of-type {\n",
       "        vertical-align: middle;\n",
       "    }\n",
       "\n",
       "    .dataframe tbody tr th {\n",
       "        vertical-align: top;\n",
       "    }\n",
       "\n",
       "    .dataframe thead th {\n",
       "        text-align: right;\n",
       "    }\n",
       "</style>\n",
       "<table border=\"1\" class=\"dataframe\">\n",
       "  <thead>\n",
       "    <tr style=\"text-align: right;\">\n",
       "      <th></th>\n",
       "      <th>loan_amnt</th>\n",
       "      <th>term</th>\n",
       "      <th>int_rate</th>\n",
       "      <th>installment</th>\n",
       "      <th>grade</th>\n",
       "      <th>sub_grade</th>\n",
       "      <th>emp_title</th>\n",
       "      <th>emp_length</th>\n",
       "      <th>home_ownership</th>\n",
       "      <th>annual_inc</th>\n",
       "      <th>verification_status</th>\n",
       "      <th>issue_d</th>\n",
       "      <th>loan_status</th>\n",
       "      <th>purpose</th>\n",
       "      <th>zip_code</th>\n",
       "      <th>addr_state</th>\n",
       "      <th>dti</th>\n",
       "      <th>mths_since_last_delinq</th>\n",
       "      <th>pub_rec_bankruptcies</th>\n",
       "    </tr>\n",
       "  </thead>\n",
       "  <tbody>\n",
       "    <tr>\n",
       "      <th>0</th>\n",
       "      <td>5000</td>\n",
       "      <td>36 months</td>\n",
       "      <td>10.65%</td>\n",
       "      <td>162.87</td>\n",
       "      <td>B</td>\n",
       "      <td>B2</td>\n",
       "      <td>NaN</td>\n",
       "      <td>10+ years</td>\n",
       "      <td>RENT</td>\n",
       "      <td>24000.0</td>\n",
       "      <td>Verified</td>\n",
       "      <td>Dec-11</td>\n",
       "      <td>Fully Paid</td>\n",
       "      <td>credit_card</td>\n",
       "      <td>860xx</td>\n",
       "      <td>AZ</td>\n",
       "      <td>27.65</td>\n",
       "      <td>NaN</td>\n",
       "      <td>0.0</td>\n",
       "    </tr>\n",
       "    <tr>\n",
       "      <th>1</th>\n",
       "      <td>2500</td>\n",
       "      <td>60 months</td>\n",
       "      <td>15.27%</td>\n",
       "      <td>59.83</td>\n",
       "      <td>C</td>\n",
       "      <td>C4</td>\n",
       "      <td>Ryder</td>\n",
       "      <td>&lt; 1 year</td>\n",
       "      <td>RENT</td>\n",
       "      <td>30000.0</td>\n",
       "      <td>Source Verified</td>\n",
       "      <td>Dec-11</td>\n",
       "      <td>Charged Off</td>\n",
       "      <td>car</td>\n",
       "      <td>309xx</td>\n",
       "      <td>GA</td>\n",
       "      <td>1.00</td>\n",
       "      <td>NaN</td>\n",
       "      <td>0.0</td>\n",
       "    </tr>\n",
       "    <tr>\n",
       "      <th>2</th>\n",
       "      <td>2400</td>\n",
       "      <td>36 months</td>\n",
       "      <td>15.96%</td>\n",
       "      <td>84.33</td>\n",
       "      <td>C</td>\n",
       "      <td>C5</td>\n",
       "      <td>NaN</td>\n",
       "      <td>10+ years</td>\n",
       "      <td>RENT</td>\n",
       "      <td>12252.0</td>\n",
       "      <td>Not Verified</td>\n",
       "      <td>Dec-11</td>\n",
       "      <td>Fully Paid</td>\n",
       "      <td>small_business</td>\n",
       "      <td>606xx</td>\n",
       "      <td>IL</td>\n",
       "      <td>8.72</td>\n",
       "      <td>NaN</td>\n",
       "      <td>0.0</td>\n",
       "    </tr>\n",
       "    <tr>\n",
       "      <th>3</th>\n",
       "      <td>10000</td>\n",
       "      <td>36 months</td>\n",
       "      <td>13.49%</td>\n",
       "      <td>339.31</td>\n",
       "      <td>C</td>\n",
       "      <td>C1</td>\n",
       "      <td>AIR RESOURCES BOARD</td>\n",
       "      <td>10+ years</td>\n",
       "      <td>RENT</td>\n",
       "      <td>49200.0</td>\n",
       "      <td>Source Verified</td>\n",
       "      <td>Dec-11</td>\n",
       "      <td>Fully Paid</td>\n",
       "      <td>other</td>\n",
       "      <td>917xx</td>\n",
       "      <td>CA</td>\n",
       "      <td>20.00</td>\n",
       "      <td>35.0</td>\n",
       "      <td>0.0</td>\n",
       "    </tr>\n",
       "    <tr>\n",
       "      <th>4</th>\n",
       "      <td>3000</td>\n",
       "      <td>60 months</td>\n",
       "      <td>12.69%</td>\n",
       "      <td>67.79</td>\n",
       "      <td>B</td>\n",
       "      <td>B5</td>\n",
       "      <td>University Medical Group</td>\n",
       "      <td>1 year</td>\n",
       "      <td>RENT</td>\n",
       "      <td>80000.0</td>\n",
       "      <td>Source Verified</td>\n",
       "      <td>Dec-11</td>\n",
       "      <td>Current</td>\n",
       "      <td>other</td>\n",
       "      <td>972xx</td>\n",
       "      <td>OR</td>\n",
       "      <td>17.94</td>\n",
       "      <td>38.0</td>\n",
       "      <td>0.0</td>\n",
       "    </tr>\n",
       "  </tbody>\n",
       "</table>\n",
       "</div>"
      ],
      "text/plain": [
       "   loan_amnt        term int_rate  installment grade sub_grade  \\\n",
       "0       5000   36 months   10.65%       162.87     B        B2   \n",
       "1       2500   60 months   15.27%        59.83     C        C4   \n",
       "2       2400   36 months   15.96%        84.33     C        C5   \n",
       "3      10000   36 months   13.49%       339.31     C        C1   \n",
       "4       3000   60 months   12.69%        67.79     B        B5   \n",
       "\n",
       "                  emp_title emp_length home_ownership  annual_inc  \\\n",
       "0                       NaN  10+ years           RENT     24000.0   \n",
       "1                     Ryder   < 1 year           RENT     30000.0   \n",
       "2                       NaN  10+ years           RENT     12252.0   \n",
       "3       AIR RESOURCES BOARD  10+ years           RENT     49200.0   \n",
       "4  University Medical Group     1 year           RENT     80000.0   \n",
       "\n",
       "  verification_status issue_d  loan_status         purpose zip_code  \\\n",
       "0            Verified  Dec-11   Fully Paid     credit_card    860xx   \n",
       "1     Source Verified  Dec-11  Charged Off             car    309xx   \n",
       "2        Not Verified  Dec-11   Fully Paid  small_business    606xx   \n",
       "3     Source Verified  Dec-11   Fully Paid           other    917xx   \n",
       "4     Source Verified  Dec-11      Current           other    972xx   \n",
       "\n",
       "  addr_state    dti  mths_since_last_delinq  pub_rec_bankruptcies  \n",
       "0         AZ  27.65                     NaN                   0.0  \n",
       "1         GA   1.00                     NaN                   0.0  \n",
       "2         IL   8.72                     NaN                   0.0  \n",
       "3         CA  20.00                    35.0                   0.0  \n",
       "4         OR  17.94                    38.0                   0.0  "
      ]
     },
     "execution_count": 40,
     "metadata": {},
     "output_type": "execute_result"
    }
   ],
   "source": [
    "loan_df.head()"
   ]
  },
  {
   "cell_type": "code",
   "execution_count": 41,
   "id": "0252a146-e448-4efc-8ed3-f2fab37e8c0a",
   "metadata": {},
   "outputs": [
    {
     "data": {
      "text/plain": [
       "array(['Fully Paid', 'Charged Off', 'Current'], dtype=object)"
      ]
     },
     "execution_count": 41,
     "metadata": {},
     "output_type": "execute_result"
    }
   ],
   "source": [
    "loan_df.loan_status.unique()"
   ]
  },
  {
   "cell_type": "code",
   "execution_count": 42,
   "id": "72d8684d-6b61-43b7-a23f-8db5dd8ae2aa",
   "metadata": {},
   "outputs": [
    {
     "data": {
      "text/plain": [
       "(1140, 19)"
      ]
     },
     "execution_count": 42,
     "metadata": {},
     "output_type": "execute_result"
    }
   ],
   "source": [
    "loan_df[loan_df.loan_status == 'Current'].shape"
   ]
  },
  {
   "cell_type": "markdown",
   "id": "7b99617b-d588-4af4-863d-68e46d011537",
   "metadata": {},
   "source": [
    "##### Note: We know that loan applications whose loan_status is Current are not relevant as these applicants cannot be classified as defaulters / non-defaulters as of now and hence these rows can be dropped"
   ]
  },
  {
   "cell_type": "code",
   "execution_count": 43,
   "id": "253f59f8-a2ae-4ab5-8a3f-90dc7df31dc5",
   "metadata": {},
   "outputs": [],
   "source": [
    "loan_df = loan_df[~(loan_df.loan_status == 'Current')]"
   ]
  },
  {
   "cell_type": "code",
   "execution_count": 44,
   "id": "d6b83a5e-e023-41eb-ae76-a98792fe251f",
   "metadata": {},
   "outputs": [
    {
     "data": {
      "text/html": [
       "<div>\n",
       "<style scoped>\n",
       "    .dataframe tbody tr th:only-of-type {\n",
       "        vertical-align: middle;\n",
       "    }\n",
       "\n",
       "    .dataframe tbody tr th {\n",
       "        vertical-align: top;\n",
       "    }\n",
       "\n",
       "    .dataframe thead th {\n",
       "        text-align: right;\n",
       "    }\n",
       "</style>\n",
       "<table border=\"1\" class=\"dataframe\">\n",
       "  <thead>\n",
       "    <tr style=\"text-align: right;\">\n",
       "      <th></th>\n",
       "      <th>loan_amnt</th>\n",
       "      <th>term</th>\n",
       "      <th>int_rate</th>\n",
       "      <th>installment</th>\n",
       "      <th>grade</th>\n",
       "      <th>sub_grade</th>\n",
       "      <th>emp_title</th>\n",
       "      <th>emp_length</th>\n",
       "      <th>home_ownership</th>\n",
       "      <th>annual_inc</th>\n",
       "      <th>verification_status</th>\n",
       "      <th>issue_d</th>\n",
       "      <th>loan_status</th>\n",
       "      <th>purpose</th>\n",
       "      <th>zip_code</th>\n",
       "      <th>addr_state</th>\n",
       "      <th>dti</th>\n",
       "      <th>mths_since_last_delinq</th>\n",
       "      <th>pub_rec_bankruptcies</th>\n",
       "    </tr>\n",
       "  </thead>\n",
       "  <tbody>\n",
       "    <tr>\n",
       "      <th>0</th>\n",
       "      <td>5000</td>\n",
       "      <td>36 months</td>\n",
       "      <td>10.65%</td>\n",
       "      <td>162.87</td>\n",
       "      <td>B</td>\n",
       "      <td>B2</td>\n",
       "      <td>NaN</td>\n",
       "      <td>10+ years</td>\n",
       "      <td>RENT</td>\n",
       "      <td>24000.0</td>\n",
       "      <td>Verified</td>\n",
       "      <td>Dec-11</td>\n",
       "      <td>Fully Paid</td>\n",
       "      <td>credit_card</td>\n",
       "      <td>860xx</td>\n",
       "      <td>AZ</td>\n",
       "      <td>27.65</td>\n",
       "      <td>NaN</td>\n",
       "      <td>0.0</td>\n",
       "    </tr>\n",
       "    <tr>\n",
       "      <th>1</th>\n",
       "      <td>2500</td>\n",
       "      <td>60 months</td>\n",
       "      <td>15.27%</td>\n",
       "      <td>59.83</td>\n",
       "      <td>C</td>\n",
       "      <td>C4</td>\n",
       "      <td>Ryder</td>\n",
       "      <td>&lt; 1 year</td>\n",
       "      <td>RENT</td>\n",
       "      <td>30000.0</td>\n",
       "      <td>Source Verified</td>\n",
       "      <td>Dec-11</td>\n",
       "      <td>Charged Off</td>\n",
       "      <td>car</td>\n",
       "      <td>309xx</td>\n",
       "      <td>GA</td>\n",
       "      <td>1.00</td>\n",
       "      <td>NaN</td>\n",
       "      <td>0.0</td>\n",
       "    </tr>\n",
       "    <tr>\n",
       "      <th>2</th>\n",
       "      <td>2400</td>\n",
       "      <td>36 months</td>\n",
       "      <td>15.96%</td>\n",
       "      <td>84.33</td>\n",
       "      <td>C</td>\n",
       "      <td>C5</td>\n",
       "      <td>NaN</td>\n",
       "      <td>10+ years</td>\n",
       "      <td>RENT</td>\n",
       "      <td>12252.0</td>\n",
       "      <td>Not Verified</td>\n",
       "      <td>Dec-11</td>\n",
       "      <td>Fully Paid</td>\n",
       "      <td>small_business</td>\n",
       "      <td>606xx</td>\n",
       "      <td>IL</td>\n",
       "      <td>8.72</td>\n",
       "      <td>NaN</td>\n",
       "      <td>0.0</td>\n",
       "    </tr>\n",
       "    <tr>\n",
       "      <th>3</th>\n",
       "      <td>10000</td>\n",
       "      <td>36 months</td>\n",
       "      <td>13.49%</td>\n",
       "      <td>339.31</td>\n",
       "      <td>C</td>\n",
       "      <td>C1</td>\n",
       "      <td>AIR RESOURCES BOARD</td>\n",
       "      <td>10+ years</td>\n",
       "      <td>RENT</td>\n",
       "      <td>49200.0</td>\n",
       "      <td>Source Verified</td>\n",
       "      <td>Dec-11</td>\n",
       "      <td>Fully Paid</td>\n",
       "      <td>other</td>\n",
       "      <td>917xx</td>\n",
       "      <td>CA</td>\n",
       "      <td>20.00</td>\n",
       "      <td>35.0</td>\n",
       "      <td>0.0</td>\n",
       "    </tr>\n",
       "    <tr>\n",
       "      <th>5</th>\n",
       "      <td>5000</td>\n",
       "      <td>36 months</td>\n",
       "      <td>7.90%</td>\n",
       "      <td>156.46</td>\n",
       "      <td>A</td>\n",
       "      <td>A4</td>\n",
       "      <td>Veolia Transportaton</td>\n",
       "      <td>3 years</td>\n",
       "      <td>RENT</td>\n",
       "      <td>36000.0</td>\n",
       "      <td>Source Verified</td>\n",
       "      <td>Dec-11</td>\n",
       "      <td>Fully Paid</td>\n",
       "      <td>wedding</td>\n",
       "      <td>852xx</td>\n",
       "      <td>AZ</td>\n",
       "      <td>11.20</td>\n",
       "      <td>NaN</td>\n",
       "      <td>0.0</td>\n",
       "    </tr>\n",
       "  </tbody>\n",
       "</table>\n",
       "</div>"
      ],
      "text/plain": [
       "   loan_amnt        term int_rate  installment grade sub_grade  \\\n",
       "0       5000   36 months   10.65%       162.87     B        B2   \n",
       "1       2500   60 months   15.27%        59.83     C        C4   \n",
       "2       2400   36 months   15.96%        84.33     C        C5   \n",
       "3      10000   36 months   13.49%       339.31     C        C1   \n",
       "5       5000   36 months    7.90%       156.46     A        A4   \n",
       "\n",
       "              emp_title emp_length home_ownership  annual_inc  \\\n",
       "0                   NaN  10+ years           RENT     24000.0   \n",
       "1                 Ryder   < 1 year           RENT     30000.0   \n",
       "2                   NaN  10+ years           RENT     12252.0   \n",
       "3   AIR RESOURCES BOARD  10+ years           RENT     49200.0   \n",
       "5  Veolia Transportaton    3 years           RENT     36000.0   \n",
       "\n",
       "  verification_status issue_d  loan_status         purpose zip_code  \\\n",
       "0            Verified  Dec-11   Fully Paid     credit_card    860xx   \n",
       "1     Source Verified  Dec-11  Charged Off             car    309xx   \n",
       "2        Not Verified  Dec-11   Fully Paid  small_business    606xx   \n",
       "3     Source Verified  Dec-11   Fully Paid           other    917xx   \n",
       "5     Source Verified  Dec-11   Fully Paid         wedding    852xx   \n",
       "\n",
       "  addr_state    dti  mths_since_last_delinq  pub_rec_bankruptcies  \n",
       "0         AZ  27.65                     NaN                   0.0  \n",
       "1         GA   1.00                     NaN                   0.0  \n",
       "2         IL   8.72                     NaN                   0.0  \n",
       "3         CA  20.00                    35.0                   0.0  \n",
       "5         AZ  11.20                     NaN                   0.0  "
      ]
     },
     "execution_count": 44,
     "metadata": {},
     "output_type": "execute_result"
    }
   ],
   "source": [
    "loan_df.head()"
   ]
  },
  {
   "cell_type": "code",
   "execution_count": 45,
   "id": "b4519451-1b0a-499b-bea7-3c83250d561d",
   "metadata": {},
   "outputs": [
    {
     "data": {
      "text/plain": [
       "(38577, 19)"
      ]
     },
     "execution_count": 45,
     "metadata": {},
     "output_type": "execute_result"
    }
   ],
   "source": [
    "loan_df.shape"
   ]
  },
  {
   "cell_type": "markdown",
   "id": "68cf4c34-72b4-40ee-9307-5bc4a838beab",
   "metadata": {},
   "source": [
    "###### Observation: Approximately 2.8% rows have been dropped from the data set"
   ]
  },
  {
   "cell_type": "markdown",
   "id": "2200a06f-6a17-4666-a1bd-788692b3cdbe",
   "metadata": {},
   "source": [
    "---"
   ]
  },
  {
   "cell_type": "markdown",
   "id": "eeae6038-a4bc-4afb-8183-4ad051b0c7b6",
   "metadata": {},
   "source": [
    "### Imputing Missing Values"
   ]
  },
  {
   "cell_type": "code",
   "execution_count": 46,
   "id": "2b130431-48d3-471d-abb0-2bb56b6154a4",
   "metadata": {},
   "outputs": [],
   "source": [
    "miss_percentage = round(100*(loan_df.isnull().sum()/len(loan_df)), 2)"
   ]
  },
  {
   "cell_type": "markdown",
   "id": "8cc4bbc7-4b10-4d00-b6f8-46a3f38290c7",
   "metadata": {},
   "source": [
    "##### The following columns have missing values which can be imputed"
   ]
  },
  {
   "cell_type": "code",
   "execution_count": 47,
   "id": "98c44a7f-2bbc-4b5b-8d8b-41447652f26c",
   "metadata": {},
   "outputs": [
    {
     "data": {
      "text/plain": [
       "['emp_title', 'emp_length', 'mths_since_last_delinq', 'pub_rec_bankruptcies']"
      ]
     },
     "execution_count": 47,
     "metadata": {},
     "output_type": "execute_result"
    }
   ],
   "source": [
    "miss_percentage.loc[miss_percentage > 0].index.to_list()"
   ]
  },
  {
   "cell_type": "code",
   "execution_count": 48,
   "id": "07db6575-b354-46a0-b805-55a16123aab1",
   "metadata": {},
   "outputs": [
    {
     "data": {
      "text/plain": [
       "emp_title                  6.19\n",
       "emp_length                 2.68\n",
       "mths_since_last_delinq    64.56\n",
       "pub_rec_bankruptcies       1.81\n",
       "dtype: float64"
      ]
     },
     "execution_count": 48,
     "metadata": {},
     "output_type": "execute_result"
    }
   ],
   "source": [
    "miss_percentage.loc[miss_percentage > 0]"
   ]
  },
  {
   "cell_type": "markdown",
   "id": "c0f41979-0fa7-48f4-a773-5415a4a7868c",
   "metadata": {},
   "source": [
    "#### Employee Title"
   ]
  },
  {
   "cell_type": "code",
   "execution_count": 49,
   "id": "e816fc8f-3c06-4edc-a420-f90eff4e5c93",
   "metadata": {},
   "outputs": [
    {
     "data": {
      "text/plain": [
       "US Army                    131\n",
       "Bank of America            107\n",
       "IBM                         65\n",
       "AT&T                        57\n",
       "Kaiser Permanente           56\n",
       "                          ... \n",
       "LSR                          1\n",
       "BERDON LLP                   1\n",
       "Allen & Company LLC          1\n",
       "Chatterton & Associates      1\n",
       "Procon GPS                   1\n",
       "Name: emp_title, Length: 28027, dtype: int64"
      ]
     },
     "execution_count": 49,
     "metadata": {},
     "output_type": "execute_result"
    }
   ],
   "source": [
    "loan_df.emp_title.value_counts()"
   ]
  },
  {
   "cell_type": "code",
   "execution_count": 50,
   "id": "f13399b1-7f17-4348-9362-c4ed3e6e193d",
   "metadata": {},
   "outputs": [
    {
     "data": {
      "image/png": "[encoded data removed]",
      "text/plain": [
       "<Figure size 432x288 with 1 Axes>"
      ]
     },
     "metadata": {
      "needs_background": "light"
     },
     "output_type": "display_data"
    }
   ],
   "source": [
    "loan_df.emp_title.value_counts()[0:10].plot(kind='bar')\n",
    "plt.show()"
   ]
  },
  {
   "cell_type": "code",
   "execution_count": 51,
   "id": "826132f0-e2de-41a6-9638-07e7126e9a06",
   "metadata": {},
   "outputs": [
    {
     "data": {
      "text/plain": [
       "0    US Army\n",
       "dtype: object"
      ]
     },
     "execution_count": 51,
     "metadata": {},
     "output_type": "execute_result"
    }
   ],
   "source": [
    "loan_df.emp_title.mode()"
   ]
  },
  {
   "cell_type": "markdown",
   "id": "e9682ada-fe06-411c-b5ef-4c4d8a3ed565",
   "metadata": {},
   "source": [
    "##### Note: Dropping emp_title\n",
    "6% of the data (~1800 entries) is missing in emp_title, however, the most frequenty occuring emp_title (US Army) is ~0.44% (134 entries), hence filling this column with mode will skew the data.   \n",
    "Moreover, many of the emp_titles are in small numbers, so it may not be fruitful to analyze this column."
   ]
  },
  {
   "cell_type": "code",
   "execution_count": 52,
   "id": "ff1b56ec-216f-4de0-ad87-1ddae71318bf",
   "metadata": {},
   "outputs": [],
   "source": [
    "loan_df.drop(['emp_title'], axis=1, inplace=True)"
   ]
  },
  {
   "cell_type": "code",
   "execution_count": 53,
   "id": "0cab46a4-ac0e-4e81-a83c-856539e58b83",
   "metadata": {},
   "outputs": [
    {
     "data": {
      "text/plain": [
       "(38577, 18)"
      ]
     },
     "execution_count": 53,
     "metadata": {},
     "output_type": "execute_result"
    }
   ],
   "source": [
    "loan_df.shape"
   ]
  },
  {
   "cell_type": "markdown",
   "id": "fb1e08fa-57bc-4ec2-adea-9d5a21409a46",
   "metadata": {},
   "source": [
    "---"
   ]
  },
  {
   "cell_type": "markdown",
   "id": "a50719b4-09a9-4b40-b660-ddbcc677d2e0",
   "metadata": {},
   "source": [
    "#### Employee Length (length of employment)"
   ]
  },
  {
   "cell_type": "code",
   "execution_count": 54,
   "id": "dd062803-7a4f-4835-820b-2e9e68d7cf46",
   "metadata": {},
   "outputs": [
    {
     "data": {
      "text/plain": [
       "10+ years    8488\n",
       "< 1 year     4508\n",
       "2 years      4291\n",
       "3 years      4012\n",
       "4 years      3342\n",
       "5 years      3194\n",
       "1 year       3169\n",
       "6 years      2168\n",
       "7 years      1711\n",
       "8 years      1435\n",
       "9 years      1226\n",
       "Name: emp_length, dtype: int64"
      ]
     },
     "execution_count": 54,
     "metadata": {},
     "output_type": "execute_result"
    }
   ],
   "source": [
    "loan_df.emp_length.value_counts()"
   ]
  },
  {
   "cell_type": "markdown",
   "id": "68a4c8d3-90a7-46ce-9d09-32870765ffb0",
   "metadata": {},
   "source": [
    "##### Normalizing Employee Length\n",
    "- Remove years\n",
    "- Remove year\n",
    "- Replace < 1 with 0\n",
    "- Replace 10+ with 10\n",
    "- convert to numeric data"
   ]
  },
  {
   "cell_type": "code",
   "execution_count": 55,
   "id": "4800d3eb-78f2-4cf0-b919-1757c970ec12",
   "metadata": {},
   "outputs": [],
   "source": [
    "def clean_up(x):\n",
    "    str_x = str(x)\n",
    "    if str(x) == 'nan':\n",
    "        return x\n",
    "    else:\n",
    "        normalized = str_x.replace('years', '').replace('year', '').replace('< 1', '0').replace('10+', '10')\n",
    "        return int(normalized)"
   ]
  },
  {
   "cell_type": "code",
   "execution_count": 56,
   "id": "81a6a6a3-74c5-4781-9d67-924b2f481547",
   "metadata": {},
   "outputs": [],
   "source": [
    "loan_df.emp_length = loan_df.emp_length.apply(clean_up)"
   ]
  },
  {
   "cell_type": "code",
   "execution_count": 57,
   "id": "614724e2-500c-42b2-a68e-0f9ea4c0151e",
   "metadata": {},
   "outputs": [
    {
     "data": {
      "text/plain": [
       "10.0    8488\n",
       "0.0     4508\n",
       "2.0     4291\n",
       "3.0     4012\n",
       "4.0     3342\n",
       "5.0     3194\n",
       "1.0     3169\n",
       "6.0     2168\n",
       "7.0     1711\n",
       "8.0     1435\n",
       "9.0     1226\n",
       "Name: emp_length, dtype: int64"
      ]
     },
     "execution_count": 57,
     "metadata": {},
     "output_type": "execute_result"
    }
   ],
   "source": [
    "loan_df.emp_length.value_counts()"
   ]
  },
  {
   "cell_type": "code",
   "execution_count": 58,
   "id": "2c14a5ab-8762-4471-8f92-e2930e35795b",
   "metadata": {},
   "outputs": [
    {
     "data": {
      "text/plain": [
       "10.0    22.608140\n",
       "0.0     12.007245\n",
       "2.0     11.429256\n",
       "3.0     10.686128\n",
       "4.0      8.901556\n",
       "5.0      8.507351\n",
       "1.0      8.440763\n",
       "6.0      5.774558\n",
       "7.0      4.557319\n",
       "8.0      3.822182\n",
       "9.0      3.265502\n",
       "Name: emp_length, dtype: float64"
      ]
     },
     "execution_count": 58,
     "metadata": {},
     "output_type": "execute_result"
    }
   ],
   "source": [
    "100*loan_df.emp_length.value_counts()/sum(loan_df.emp_length.value_counts())"
   ]
  },
  {
   "cell_type": "code",
   "execution_count": 59,
   "id": "bdea4549-7775-40b4-9fb8-fc0c7f4271f4",
   "metadata": {},
   "outputs": [
    {
     "data": {
      "text/plain": [
       "1033"
      ]
     },
     "execution_count": 59,
     "metadata": {},
     "output_type": "execute_result"
    }
   ],
   "source": [
    "loan_df.emp_length.isnull().sum()"
   ]
  },
  {
   "cell_type": "code",
   "execution_count": 60,
   "id": "7fc2bab5-51c1-4697-8eb2-3f986f855b23",
   "metadata": {},
   "outputs": [
    {
     "data": {
      "text/plain": [
       "count    37544.000000\n",
       "mean         4.940976\n",
       "std          3.557082\n",
       "min          0.000000\n",
       "25%          2.000000\n",
       "50%          4.000000\n",
       "75%          9.000000\n",
       "max         10.000000\n",
       "Name: emp_length, dtype: float64"
      ]
     },
     "execution_count": 60,
     "metadata": {},
     "output_type": "execute_result"
    }
   ],
   "source": [
    "loan_df.emp_length.describe()"
   ]
  },
  {
   "cell_type": "code",
   "execution_count": 61,
   "id": "a19b42e1-c24e-46a1-8606-29bc37222e21",
   "metadata": {},
   "outputs": [
    {
     "data": {
      "image/png": "[encoded data removed]",
      "text/plain": [
       "<Figure size 1440x432 with 3 Axes>"
      ]
     },
     "metadata": {
      "needs_background": "light"
     },
     "output_type": "display_data"
    }
   ],
   "source": [
    "fig, (ax1, ax2, ax3) = plt.subplots(1, 3, figsize=(20,6))\n",
    "\n",
    "loan_df.emp_length.value_counts().plot(kind='bar', ax=ax1)\n",
    "sns.boxplot(x='emp_length', data=loan_df, ax=ax2)\n",
    "# sns.kdeplot(x='emp_length', data=loan_df, ax=ax3)\n",
    "loan_df.emp_length.plot(kind='kde', ax=ax3)\n",
    "\n",
    "plt.show()"
   ]
  },
  {
   "cell_type": "markdown",
   "id": "ec6c9ceb-348b-48e4-b168-21409fce4503",
   "metadata": {},
   "source": [
    "##### Imputing null values of emp_length with mode\n",
    "- Looking at the plots, it is more likely that the missing values will be filled with 10 (mode)\n",
    "- This was originally categorical data, which is usually filled with mode"
   ]
  },
  {
   "cell_type": "code",
   "execution_count": 62,
   "id": "1c0432da-e71e-42c2-a3c2-91d079b263fe",
   "metadata": {},
   "outputs": [],
   "source": [
    "loan_df.emp_length.fillna(loan_df.emp_length.mode()[0], inplace=True)"
   ]
  },
  {
   "cell_type": "code",
   "execution_count": 63,
   "id": "dd8d898e-e03d-49f8-a5ec-5c5264dc38dd",
   "metadata": {},
   "outputs": [
    {
     "data": {
      "text/plain": [
       "0"
      ]
     },
     "execution_count": 63,
     "metadata": {},
     "output_type": "execute_result"
    }
   ],
   "source": [
    "loan_df.emp_length.isnull().sum()"
   ]
  },
  {
   "cell_type": "code",
   "execution_count": 64,
   "id": "50b83cd1-a35a-4951-b25f-42fb53e90081",
   "metadata": {},
   "outputs": [
    {
     "data": {
      "text/plain": [
       "10.0    9521\n",
       "0.0     4508\n",
       "2.0     4291\n",
       "3.0     4012\n",
       "4.0     3342\n",
       "5.0     3194\n",
       "1.0     3169\n",
       "6.0     2168\n",
       "7.0     1711\n",
       "8.0     1435\n",
       "9.0     1226\n",
       "Name: emp_length, dtype: int64"
      ]
     },
     "execution_count": 64,
     "metadata": {},
     "output_type": "execute_result"
    }
   ],
   "source": [
    "loan_df.emp_length.value_counts()"
   ]
  },
  {
   "cell_type": "markdown",
   "id": "bb23a17e-c282-4a60-a8c2-2dc68d3fc8d6",
   "metadata": {},
   "source": [
    "##### Checking impact of imputing with mode via plots"
   ]
  },
  {
   "cell_type": "code",
   "execution_count": 65,
   "id": "718db47c-7b5d-48be-97f8-f401e8d2e46e",
   "metadata": {},
   "outputs": [
    {
     "data": {
      "image/png": "[encoded data removed]",
      "text/plain": [
       "<Figure size 1440x432 with 3 Axes>"
      ]
     },
     "metadata": {
      "needs_background": "light"
     },
     "output_type": "display_data"
    }
   ],
   "source": [
    "fig, (ax1, ax2, ax3) = plt.subplots(1, 3, figsize=(20,6))\n",
    "\n",
    "loan_df.emp_length.value_counts().plot(kind='bar', ax=ax1)\n",
    "sns.boxplot(x='emp_length', data=loan_df, ax=ax2)\n",
    "# sns.kdeplot(x='emp_length', data=loan_df, ax=ax3)\n",
    "loan_df.emp_length.plot(kind='kde', ax=ax3)\n",
    "\n",
    "plt.show()"
   ]
  },
  {
   "cell_type": "markdown",
   "id": "e4fdc550-88db-4259-934d-5d3e883b8be3",
   "metadata": {},
   "source": [
    "##### Observation: The plots look similar before and after imputation, hence filling with mode is a good approach."
   ]
  },
  {
   "cell_type": "markdown",
   "id": "acb5582e-6fd9-4a8a-8a33-eed3da41c5cf",
   "metadata": {},
   "source": [
    "---"
   ]
  },
  {
   "cell_type": "markdown",
   "id": "42bd7def-dc11-42b9-a016-46467b1bfe43",
   "metadata": {},
   "source": [
    "#### Public Bankruptcies"
   ]
  },
  {
   "cell_type": "code",
   "execution_count": 66,
   "id": "64444c7d-dcb4-4903-9798-5acfe858c930",
   "metadata": {},
   "outputs": [
    {
     "data": {
      "text/plain": [
       "0.0    36238\n",
       "1.0     1637\n",
       "2.0        5\n",
       "Name: pub_rec_bankruptcies, dtype: int64"
      ]
     },
     "execution_count": 66,
     "metadata": {},
     "output_type": "execute_result"
    }
   ],
   "source": [
    "loan_df.pub_rec_bankruptcies.value_counts()"
   ]
  },
  {
   "cell_type": "code",
   "execution_count": 67,
   "id": "c09bae06-3965-4333-bab1-b5ca00e6aa41",
   "metadata": {},
   "outputs": [
    {
     "data": {
      "text/plain": [
       "697"
      ]
     },
     "execution_count": 67,
     "metadata": {},
     "output_type": "execute_result"
    }
   ],
   "source": [
    "loan_df.pub_rec_bankruptcies.isnull().sum()"
   ]
  },
  {
   "cell_type": "markdown",
   "id": "0d7719ff-68b0-4cba-8291-245071f785f1",
   "metadata": {},
   "source": [
    "##### Imputing the missing values for public bankruptcies with 0 (mode) as out of 38k+ records 36k+ records are filled with 0"
   ]
  },
  {
   "cell_type": "code",
   "execution_count": 68,
   "id": "8a8e40be-e281-4742-8775-df4b223bf113",
   "metadata": {},
   "outputs": [],
   "source": [
    "loan_df.pub_rec_bankruptcies.fillna(loan_df.pub_rec_bankruptcies.mode()[0], inplace=True)"
   ]
  },
  {
   "cell_type": "code",
   "execution_count": 69,
   "id": "e74cef04-4798-49d3-9c57-758a68c35778",
   "metadata": {},
   "outputs": [
    {
     "data": {
      "text/plain": [
       "0"
      ]
     },
     "execution_count": 69,
     "metadata": {},
     "output_type": "execute_result"
    }
   ],
   "source": [
    "loan_df.pub_rec_bankruptcies.isnull().sum()"
   ]
  },
  {
   "cell_type": "code",
   "execution_count": 70,
   "id": "9751565a-e10f-402f-9659-c968b5e959d0",
   "metadata": {},
   "outputs": [
    {
     "data": {
      "text/plain": [
       "0.0    36935\n",
       "1.0     1637\n",
       "2.0        5\n",
       "Name: pub_rec_bankruptcies, dtype: int64"
      ]
     },
     "execution_count": 70,
     "metadata": {},
     "output_type": "execute_result"
    }
   ],
   "source": [
    "loan_df.pub_rec_bankruptcies.value_counts()"
   ]
  },
  {
   "cell_type": "markdown",
   "id": "1afa95cc-cc38-4e2f-9805-a94bdc0c8405",
   "metadata": {},
   "source": [
    "---"
   ]
  },
  {
   "cell_type": "code",
   "execution_count": 71,
   "id": "4581fce9-cd4d-4719-8953-9b287ffc3f21",
   "metadata": {},
   "outputs": [
    {
     "name": "stdout",
     "output_type": "stream",
     "text": [
      "<class 'pandas.core.frame.DataFrame'>\n",
      "Int64Index: 38577 entries, 0 to 39716\n",
      "Data columns (total 18 columns):\n",
      " #   Column                  Non-Null Count  Dtype  \n",
      "---  ------                  --------------  -----  \n",
      " 0   loan_amnt               38577 non-null  int64  \n",
      " 1   term                    38577 non-null  object \n",
      " 2   int_rate                38577 non-null  object \n",
      " 3   installment             38577 non-null  float64\n",
      " 4   grade                   38577 non-null  object \n",
      " 5   sub_grade               38577 non-null  object \n",
      " 6   emp_length              38577 non-null  float64\n",
      " 7   home_ownership          38577 non-null  object \n",
      " 8   annual_inc              38577 non-null  float64\n",
      " 9   verification_status     38577 non-null  object \n",
      " 10  issue_d                 38577 non-null  object \n",
      " 11  loan_status             38577 non-null  object \n",
      " 12  purpose                 38577 non-null  object \n",
      " 13  zip_code                38577 non-null  object \n",
      " 14  addr_state              38577 non-null  object \n",
      " 15  dti                     38577 non-null  float64\n",
      " 16  mths_since_last_delinq  13672 non-null  float64\n",
      " 17  pub_rec_bankruptcies    38577 non-null  float64\n",
      "dtypes: float64(6), int64(1), object(11)\n",
      "memory usage: 5.6+ MB\n"
     ]
    }
   ],
   "source": [
    "loan_df.info()"
   ]
  },
  {
   "cell_type": "markdown",
   "id": "a65ff726-efdb-412e-a8d9-292590da54ee",
   "metadata": {},
   "source": [
    "##### Observation: \n",
    "- There are total 38577 records in the data\n",
    "- All null values have been imputed except for mths_since_last_delinq"
   ]
  },
  {
   "cell_type": "markdown",
   "id": "df289140-24b5-44db-8a3b-abe28d9c754d",
   "metadata": {},
   "source": [
    "---\n"
   ]
  },
  {
   "cell_type": "markdown",
   "id": "c33bfbf4-a965-4c46-a853-cf2f3d79512b",
   "metadata": {},
   "source": [
    "### Derived Columns"
   ]
  },
  {
   "cell_type": "markdown",
   "id": "ba64c55c-88a6-4a6d-a8e6-ffb53650badb",
   "metadata": {},
   "source": [
    "#### Converting issue_d column to Date Time format\n",
    "- this will help in adding month and year columns"
   ]
  },
  {
   "cell_type": "code",
   "execution_count": 72,
   "id": "4ccf9353-917d-4432-97b7-bb7c86d4bcb7",
   "metadata": {},
   "outputs": [
    {
     "data": {
      "text/plain": [
       "0    Dec-11\n",
       "1    Dec-11\n",
       "2    Dec-11\n",
       "3    Dec-11\n",
       "5    Dec-11\n",
       "Name: issue_d, dtype: object"
      ]
     },
     "execution_count": 72,
     "metadata": {},
     "output_type": "execute_result"
    }
   ],
   "source": [
    "loan_df.issue_d.head()"
   ]
  },
  {
   "cell_type": "code",
   "execution_count": 73,
   "id": "88d8f813-0507-4dc4-b89c-39bf87f131d4",
   "metadata": {},
   "outputs": [],
   "source": [
    "loan_df.issue_d = pd.to_datetime(loan_df.issue_d, format=\"%b-%y\")"
   ]
  },
  {
   "cell_type": "code",
   "execution_count": 74,
   "id": "2d78aa7d-c308-41d9-a8bd-0fcce2accd3e",
   "metadata": {},
   "outputs": [],
   "source": [
    "loan_df['month'] = pd.DatetimeIndex(loan_df.issue_d).month"
   ]
  },
  {
   "cell_type": "code",
   "execution_count": 75,
   "id": "ebc7c1f4-447a-4150-95cf-cec24715c53c",
   "metadata": {},
   "outputs": [],
   "source": [
    "loan_df['year'] = pd.DatetimeIndex(loan_df.issue_d).year"
   ]
  },
  {
   "cell_type": "code",
   "execution_count": 76,
   "id": "b7942626-3281-4b34-bcb8-c3abd35a250f",
   "metadata": {},
   "outputs": [
    {
     "data": {
      "text/html": [
       "<div>\n",
       "<style scoped>\n",
       "    .dataframe tbody tr th:only-of-type {\n",
       "        vertical-align: middle;\n",
       "    }\n",
       "\n",
       "    .dataframe tbody tr th {\n",
       "        vertical-align: top;\n",
       "    }\n",
       "\n",
       "    .dataframe thead th {\n",
       "        text-align: right;\n",
       "    }\n",
       "</style>\n",
       "<table border=\"1\" class=\"dataframe\">\n",
       "  <thead>\n",
       "    <tr style=\"text-align: right;\">\n",
       "      <th></th>\n",
       "      <th>loan_amnt</th>\n",
       "      <th>term</th>\n",
       "      <th>int_rate</th>\n",
       "      <th>installment</th>\n",
       "      <th>grade</th>\n",
       "      <th>sub_grade</th>\n",
       "      <th>emp_length</th>\n",
       "      <th>home_ownership</th>\n",
       "      <th>annual_inc</th>\n",
       "      <th>verification_status</th>\n",
       "      <th>issue_d</th>\n",
       "      <th>loan_status</th>\n",
       "      <th>purpose</th>\n",
       "      <th>zip_code</th>\n",
       "      <th>addr_state</th>\n",
       "      <th>dti</th>\n",
       "      <th>mths_since_last_delinq</th>\n",
       "      <th>pub_rec_bankruptcies</th>\n",
       "      <th>month</th>\n",
       "      <th>year</th>\n",
       "    </tr>\n",
       "  </thead>\n",
       "  <tbody>\n",
       "    <tr>\n",
       "      <th>0</th>\n",
       "      <td>5000</td>\n",
       "      <td>36 months</td>\n",
       "      <td>10.65%</td>\n",
       "      <td>162.87</td>\n",
       "      <td>B</td>\n",
       "      <td>B2</td>\n",
       "      <td>10.0</td>\n",
       "      <td>RENT</td>\n",
       "      <td>24000.0</td>\n",
       "      <td>Verified</td>\n",
       "      <td>2011-12-01</td>\n",
       "      <td>Fully Paid</td>\n",
       "      <td>credit_card</td>\n",
       "      <td>860xx</td>\n",
       "      <td>AZ</td>\n",
       "      <td>27.65</td>\n",
       "      <td>NaN</td>\n",
       "      <td>0.0</td>\n",
       "      <td>12</td>\n",
       "      <td>2011</td>\n",
       "    </tr>\n",
       "    <tr>\n",
       "      <th>1</th>\n",
       "      <td>2500</td>\n",
       "      <td>60 months</td>\n",
       "      <td>15.27%</td>\n",
       "      <td>59.83</td>\n",
       "      <td>C</td>\n",
       "      <td>C4</td>\n",
       "      <td>0.0</td>\n",
       "      <td>RENT</td>\n",
       "      <td>30000.0</td>\n",
       "      <td>Source Verified</td>\n",
       "      <td>2011-12-01</td>\n",
       "      <td>Charged Off</td>\n",
       "      <td>car</td>\n",
       "      <td>309xx</td>\n",
       "      <td>GA</td>\n",
       "      <td>1.00</td>\n",
       "      <td>NaN</td>\n",
       "      <td>0.0</td>\n",
       "      <td>12</td>\n",
       "      <td>2011</td>\n",
       "    </tr>\n",
       "    <tr>\n",
       "      <th>2</th>\n",
       "      <td>2400</td>\n",
       "      <td>36 months</td>\n",
       "      <td>15.96%</td>\n",
       "      <td>84.33</td>\n",
       "      <td>C</td>\n",
       "      <td>C5</td>\n",
       "      <td>10.0</td>\n",
       "      <td>RENT</td>\n",
       "      <td>12252.0</td>\n",
       "      <td>Not Verified</td>\n",
       "      <td>2011-12-01</td>\n",
       "      <td>Fully Paid</td>\n",
       "      <td>small_business</td>\n",
       "      <td>606xx</td>\n",
       "      <td>IL</td>\n",
       "      <td>8.72</td>\n",
       "      <td>NaN</td>\n",
       "      <td>0.0</td>\n",
       "      <td>12</td>\n",
       "      <td>2011</td>\n",
       "    </tr>\n",
       "    <tr>\n",
       "      <th>3</th>\n",
       "      <td>10000</td>\n",
       "      <td>36 months</td>\n",
       "      <td>13.49%</td>\n",
       "      <td>339.31</td>\n",
       "      <td>C</td>\n",
       "      <td>C1</td>\n",
       "      <td>10.0</td>\n",
       "      <td>RENT</td>\n",
       "      <td>49200.0</td>\n",
       "      <td>Source Verified</td>\n",
       "      <td>2011-12-01</td>\n",
       "      <td>Fully Paid</td>\n",
       "      <td>other</td>\n",
       "      <td>917xx</td>\n",
       "      <td>CA</td>\n",
       "      <td>20.00</td>\n",
       "      <td>35.0</td>\n",
       "      <td>0.0</td>\n",
       "      <td>12</td>\n",
       "      <td>2011</td>\n",
       "    </tr>\n",
       "    <tr>\n",
       "      <th>5</th>\n",
       "      <td>5000</td>\n",
       "      <td>36 months</td>\n",
       "      <td>7.90%</td>\n",
       "      <td>156.46</td>\n",
       "      <td>A</td>\n",
       "      <td>A4</td>\n",
       "      <td>3.0</td>\n",
       "      <td>RENT</td>\n",
       "      <td>36000.0</td>\n",
       "      <td>Source Verified</td>\n",
       "      <td>2011-12-01</td>\n",
       "      <td>Fully Paid</td>\n",
       "      <td>wedding</td>\n",
       "      <td>852xx</td>\n",
       "      <td>AZ</td>\n",
       "      <td>11.20</td>\n",
       "      <td>NaN</td>\n",
       "      <td>0.0</td>\n",
       "      <td>12</td>\n",
       "      <td>2011</td>\n",
       "    </tr>\n",
       "  </tbody>\n",
       "</table>\n",
       "</div>"
      ],
      "text/plain": [
       "   loan_amnt        term int_rate  installment grade sub_grade  emp_length  \\\n",
       "0       5000   36 months   10.65%       162.87     B        B2        10.0   \n",
       "1       2500   60 months   15.27%        59.83     C        C4         0.0   \n",
       "2       2400   36 months   15.96%        84.33     C        C5        10.0   \n",
       "3      10000   36 months   13.49%       339.31     C        C1        10.0   \n",
       "5       5000   36 months    7.90%       156.46     A        A4         3.0   \n",
       "\n",
       "  home_ownership  annual_inc verification_status    issue_d  loan_status  \\\n",
       "0           RENT     24000.0            Verified 2011-12-01   Fully Paid   \n",
       "1           RENT     30000.0     Source Verified 2011-12-01  Charged Off   \n",
       "2           RENT     12252.0        Not Verified 2011-12-01   Fully Paid   \n",
       "3           RENT     49200.0     Source Verified 2011-12-01   Fully Paid   \n",
       "5           RENT     36000.0     Source Verified 2011-12-01   Fully Paid   \n",
       "\n",
       "          purpose zip_code addr_state    dti  mths_since_last_delinq  \\\n",
       "0     credit_card    860xx         AZ  27.65                     NaN   \n",
       "1             car    309xx         GA   1.00                     NaN   \n",
       "2  small_business    606xx         IL   8.72                     NaN   \n",
       "3           other    917xx         CA  20.00                    35.0   \n",
       "5         wedding    852xx         AZ  11.20                     NaN   \n",
       "\n",
       "   pub_rec_bankruptcies  month  year  \n",
       "0                   0.0     12  2011  \n",
       "1                   0.0     12  2011  \n",
       "2                   0.0     12  2011  \n",
       "3                   0.0     12  2011  \n",
       "5                   0.0     12  2011  "
      ]
     },
     "execution_count": 76,
     "metadata": {},
     "output_type": "execute_result"
    }
   ],
   "source": [
    "loan_df.head()"
   ]
  },
  {
   "cell_type": "markdown",
   "id": "50d3c170-6033-4703-afe4-601bb3161b68",
   "metadata": {},
   "source": [
    "### Normalizing Data"
   ]
  },
  {
   "cell_type": "code",
   "execution_count": 77,
   "id": "b2fa9fb8-6f5e-4dd7-b2ee-05b066a81fff",
   "metadata": {},
   "outputs": [
    {
     "name": "stdout",
     "output_type": "stream",
     "text": [
      "<class 'pandas.core.frame.DataFrame'>\n",
      "Int64Index: 38577 entries, 0 to 39716\n",
      "Data columns (total 20 columns):\n",
      " #   Column                  Non-Null Count  Dtype         \n",
      "---  ------                  --------------  -----         \n",
      " 0   loan_amnt               38577 non-null  int64         \n",
      " 1   term                    38577 non-null  object        \n",
      " 2   int_rate                38577 non-null  object        \n",
      " 3   installment             38577 non-null  float64       \n",
      " 4   grade                   38577 non-null  object        \n",
      " 5   sub_grade               38577 non-null  object        \n",
      " 6   emp_length              38577 non-null  float64       \n",
      " 7   home_ownership          38577 non-null  object        \n",
      " 8   annual_inc              38577 non-null  float64       \n",
      " 9   verification_status     38577 non-null  object        \n",
      " 10  issue_d                 38577 non-null  datetime64[ns]\n",
      " 11  loan_status             38577 non-null  object        \n",
      " 12  purpose                 38577 non-null  object        \n",
      " 13  zip_code                38577 non-null  object        \n",
      " 14  addr_state              38577 non-null  object        \n",
      " 15  dti                     38577 non-null  float64       \n",
      " 16  mths_since_last_delinq  13672 non-null  float64       \n",
      " 17  pub_rec_bankruptcies    38577 non-null  float64       \n",
      " 18  month                   38577 non-null  int64         \n",
      " 19  year                    38577 non-null  int64         \n",
      "dtypes: datetime64[ns](1), float64(6), int64(3), object(10)\n",
      "memory usage: 6.2+ MB\n"
     ]
    }
   ],
   "source": [
    "loan_df.info()"
   ]
  },
  {
   "cell_type": "markdown",
   "id": "471a52bd-8558-4408-8bcc-d9cd50642e2b",
   "metadata": {},
   "source": [
    "#### Let's look at columns which have \"object\" as dtype (see [here](https://pandas.pydata.org/docs/reference/api/pandas.DataFrame.select_dtypes.html))"
   ]
  },
  {
   "cell_type": "code",
   "execution_count": 78,
   "id": "0cf89ab9-cb6f-433f-871d-5b3237bfa473",
   "metadata": {},
   "outputs": [
    {
     "data": {
      "text/html": [
       "<div>\n",
       "<style scoped>\n",
       "    .dataframe tbody tr th:only-of-type {\n",
       "        vertical-align: middle;\n",
       "    }\n",
       "\n",
       "    .dataframe tbody tr th {\n",
       "        vertical-align: top;\n",
       "    }\n",
       "\n",
       "    .dataframe thead th {\n",
       "        text-align: right;\n",
       "    }\n",
       "</style>\n",
       "<table border=\"1\" class=\"dataframe\">\n",
       "  <thead>\n",
       "    <tr style=\"text-align: right;\">\n",
       "      <th></th>\n",
       "      <th>term</th>\n",
       "      <th>int_rate</th>\n",
       "      <th>grade</th>\n",
       "      <th>sub_grade</th>\n",
       "      <th>home_ownership</th>\n",
       "      <th>verification_status</th>\n",
       "      <th>loan_status</th>\n",
       "      <th>purpose</th>\n",
       "      <th>zip_code</th>\n",
       "      <th>addr_state</th>\n",
       "    </tr>\n",
       "  </thead>\n",
       "  <tbody>\n",
       "    <tr>\n",
       "      <th>0</th>\n",
       "      <td>36 months</td>\n",
       "      <td>10.65%</td>\n",
       "      <td>B</td>\n",
       "      <td>B2</td>\n",
       "      <td>RENT</td>\n",
       "      <td>Verified</td>\n",
       "      <td>Fully Paid</td>\n",
       "      <td>credit_card</td>\n",
       "      <td>860xx</td>\n",
       "      <td>AZ</td>\n",
       "    </tr>\n",
       "    <tr>\n",
       "      <th>1</th>\n",
       "      <td>60 months</td>\n",
       "      <td>15.27%</td>\n",
       "      <td>C</td>\n",
       "      <td>C4</td>\n",
       "      <td>RENT</td>\n",
       "      <td>Source Verified</td>\n",
       "      <td>Charged Off</td>\n",
       "      <td>car</td>\n",
       "      <td>309xx</td>\n",
       "      <td>GA</td>\n",
       "    </tr>\n",
       "    <tr>\n",
       "      <th>2</th>\n",
       "      <td>36 months</td>\n",
       "      <td>15.96%</td>\n",
       "      <td>C</td>\n",
       "      <td>C5</td>\n",
       "      <td>RENT</td>\n",
       "      <td>Not Verified</td>\n",
       "      <td>Fully Paid</td>\n",
       "      <td>small_business</td>\n",
       "      <td>606xx</td>\n",
       "      <td>IL</td>\n",
       "    </tr>\n",
       "    <tr>\n",
       "      <th>3</th>\n",
       "      <td>36 months</td>\n",
       "      <td>13.49%</td>\n",
       "      <td>C</td>\n",
       "      <td>C1</td>\n",
       "      <td>RENT</td>\n",
       "      <td>Source Verified</td>\n",
       "      <td>Fully Paid</td>\n",
       "      <td>other</td>\n",
       "      <td>917xx</td>\n",
       "      <td>CA</td>\n",
       "    </tr>\n",
       "    <tr>\n",
       "      <th>5</th>\n",
       "      <td>36 months</td>\n",
       "      <td>7.90%</td>\n",
       "      <td>A</td>\n",
       "      <td>A4</td>\n",
       "      <td>RENT</td>\n",
       "      <td>Source Verified</td>\n",
       "      <td>Fully Paid</td>\n",
       "      <td>wedding</td>\n",
       "      <td>852xx</td>\n",
       "      <td>AZ</td>\n",
       "    </tr>\n",
       "    <tr>\n",
       "      <th>...</th>\n",
       "      <td>...</td>\n",
       "      <td>...</td>\n",
       "      <td>...</td>\n",
       "      <td>...</td>\n",
       "      <td>...</td>\n",
       "      <td>...</td>\n",
       "      <td>...</td>\n",
       "      <td>...</td>\n",
       "      <td>...</td>\n",
       "      <td>...</td>\n",
       "    </tr>\n",
       "    <tr>\n",
       "      <th>39712</th>\n",
       "      <td>36 months</td>\n",
       "      <td>8.07%</td>\n",
       "      <td>A</td>\n",
       "      <td>A4</td>\n",
       "      <td>MORTGAGE</td>\n",
       "      <td>Not Verified</td>\n",
       "      <td>Fully Paid</td>\n",
       "      <td>home_improvement</td>\n",
       "      <td>802xx</td>\n",
       "      <td>CO</td>\n",
       "    </tr>\n",
       "    <tr>\n",
       "      <th>39713</th>\n",
       "      <td>36 months</td>\n",
       "      <td>10.28%</td>\n",
       "      <td>C</td>\n",
       "      <td>C1</td>\n",
       "      <td>RENT</td>\n",
       "      <td>Not Verified</td>\n",
       "      <td>Fully Paid</td>\n",
       "      <td>credit_card</td>\n",
       "      <td>274xx</td>\n",
       "      <td>NC</td>\n",
       "    </tr>\n",
       "    <tr>\n",
       "      <th>39714</th>\n",
       "      <td>36 months</td>\n",
       "      <td>8.07%</td>\n",
       "      <td>A</td>\n",
       "      <td>A4</td>\n",
       "      <td>MORTGAGE</td>\n",
       "      <td>Not Verified</td>\n",
       "      <td>Fully Paid</td>\n",
       "      <td>debt_consolidation</td>\n",
       "      <td>017xx</td>\n",
       "      <td>MA</td>\n",
       "    </tr>\n",
       "    <tr>\n",
       "      <th>39715</th>\n",
       "      <td>36 months</td>\n",
       "      <td>7.43%</td>\n",
       "      <td>A</td>\n",
       "      <td>A2</td>\n",
       "      <td>MORTGAGE</td>\n",
       "      <td>Not Verified</td>\n",
       "      <td>Fully Paid</td>\n",
       "      <td>other</td>\n",
       "      <td>208xx</td>\n",
       "      <td>MD</td>\n",
       "    </tr>\n",
       "    <tr>\n",
       "      <th>39716</th>\n",
       "      <td>36 months</td>\n",
       "      <td>13.75%</td>\n",
       "      <td>E</td>\n",
       "      <td>E2</td>\n",
       "      <td>OWN</td>\n",
       "      <td>Not Verified</td>\n",
       "      <td>Fully Paid</td>\n",
       "      <td>debt_consolidation</td>\n",
       "      <td>027xx</td>\n",
       "      <td>MA</td>\n",
       "    </tr>\n",
       "  </tbody>\n",
       "</table>\n",
       "<p>38577 rows × 10 columns</p>\n",
       "</div>"
      ],
      "text/plain": [
       "             term int_rate grade sub_grade home_ownership verification_status  \\\n",
       "0       36 months   10.65%     B        B2           RENT            Verified   \n",
       "1       60 months   15.27%     C        C4           RENT     Source Verified   \n",
       "2       36 months   15.96%     C        C5           RENT        Not Verified   \n",
       "3       36 months   13.49%     C        C1           RENT     Source Verified   \n",
       "5       36 months    7.90%     A        A4           RENT     Source Verified   \n",
       "...           ...      ...   ...       ...            ...                 ...   \n",
       "39712   36 months    8.07%     A        A4       MORTGAGE        Not Verified   \n",
       "39713   36 months   10.28%     C        C1           RENT        Not Verified   \n",
       "39714   36 months    8.07%     A        A4       MORTGAGE        Not Verified   \n",
       "39715   36 months    7.43%     A        A2       MORTGAGE        Not Verified   \n",
       "39716   36 months   13.75%     E        E2            OWN        Not Verified   \n",
       "\n",
       "       loan_status             purpose zip_code addr_state  \n",
       "0       Fully Paid         credit_card    860xx         AZ  \n",
       "1      Charged Off                 car    309xx         GA  \n",
       "2       Fully Paid      small_business    606xx         IL  \n",
       "3       Fully Paid               other    917xx         CA  \n",
       "5       Fully Paid             wedding    852xx         AZ  \n",
       "...            ...                 ...      ...        ...  \n",
       "39712   Fully Paid    home_improvement    802xx         CO  \n",
       "39713   Fully Paid         credit_card    274xx         NC  \n",
       "39714   Fully Paid  debt_consolidation    017xx         MA  \n",
       "39715   Fully Paid               other    208xx         MD  \n",
       "39716   Fully Paid  debt_consolidation    027xx         MA  \n",
       "\n",
       "[38577 rows x 10 columns]"
      ]
     },
     "execution_count": 78,
     "metadata": {},
     "output_type": "execute_result"
    }
   ],
   "source": [
    "loan_df.select_dtypes('object')"
   ]
  },
  {
   "cell_type": "markdown",
   "id": "f3331064-e000-4dc3-bd1d-24d600d89ae7",
   "metadata": {},
   "source": [
    "##### term - 36 months / 60 months\n",
    "- convert to 0/1 where \n",
    "- 0 represents smaller term length (36 months) & \n",
    "- 1 represents larger term length of 60 months"
   ]
  },
  {
   "cell_type": "code",
   "execution_count": 79,
   "id": "3b0a4a86-84ac-4289-b99a-21f6a170f60a",
   "metadata": {},
   "outputs": [
    {
     "data": {
      "text/plain": [
       " 36 months    29096\n",
       " 60 months     9481\n",
       "Name: term, dtype: int64"
      ]
     },
     "execution_count": 79,
     "metadata": {},
     "output_type": "execute_result"
    }
   ],
   "source": [
    "loan_df.term.value_counts()"
   ]
  },
  {
   "cell_type": "code",
   "execution_count": 80,
   "id": "307db7b0-e630-4b37-a15e-93745deb366b",
   "metadata": {},
   "outputs": [],
   "source": [
    "# loan_df.term = loan_df.term.apply(lambda x: float(x.replace('36 months', 0).replace('60 months', 1)))"
   ]
  },
  {
   "cell_type": "code",
   "execution_count": 81,
   "id": "b52a98a9-82d7-4d64-bbf9-a4a9eae8e8dd",
   "metadata": {},
   "outputs": [
    {
     "data": {
      "text/plain": [
       "0     36 months\n",
       "1     60 months\n",
       "2     36 months\n",
       "3     36 months\n",
       "5     36 months\n",
       "Name: term, dtype: object"
      ]
     },
     "execution_count": 81,
     "metadata": {},
     "output_type": "execute_result"
    }
   ],
   "source": [
    "loan_df.term.head()"
   ]
  },
  {
   "cell_type": "markdown",
   "id": "b6522091-c748-439b-8cfb-0f871c723acb",
   "metadata": {},
   "source": [
    "---"
   ]
  },
  {
   "cell_type": "markdown",
   "id": "3a202df4-5533-4cca-9f21-34cf25e3b5f9",
   "metadata": {},
   "source": [
    "##### interest rate\n",
    "- convert to numeric by dropping percentage"
   ]
  },
  {
   "cell_type": "code",
   "execution_count": 82,
   "id": "0284e4ff-19a2-4d40-975c-4b4c7565c31b",
   "metadata": {},
   "outputs": [
    {
     "data": {
      "text/plain": [
       "10.99%    913\n",
       "11.49%    790\n",
       "7.51%     787\n",
       "13.49%    749\n",
       "7.88%     725\n",
       "Name: int_rate, dtype: int64"
      ]
     },
     "execution_count": 82,
     "metadata": {},
     "output_type": "execute_result"
    }
   ],
   "source": [
    "loan_df.int_rate.value_counts().head()"
   ]
  },
  {
   "cell_type": "code",
   "execution_count": 83,
   "id": "4dcd2dd0-bbd7-4805-8262-0f601df6ed0a",
   "metadata": {},
   "outputs": [],
   "source": [
    "loan_df.int_rate = loan_df.int_rate.apply(lambda x: float(x.replace('%', '')))"
   ]
  },
  {
   "cell_type": "code",
   "execution_count": 84,
   "id": "357a3625-513c-4c1e-8bce-9a27b183c0b3",
   "metadata": {},
   "outputs": [
    {
     "data": {
      "text/plain": [
       "10.99    913\n",
       "11.49    790\n",
       "7.51     787\n",
       "13.49    749\n",
       "7.88     725\n",
       "Name: int_rate, dtype: int64"
      ]
     },
     "execution_count": 84,
     "metadata": {},
     "output_type": "execute_result"
    }
   ],
   "source": [
    "loan_df.int_rate.value_counts().head()"
   ]
  },
  {
   "cell_type": "markdown",
   "id": "86f9f67c-b771-4d50-afb7-bd8b15864ca3",
   "metadata": {},
   "source": [
    "---"
   ]
  },
  {
   "cell_type": "markdown",
   "id": "d7317577-0d8b-44c4-99fa-5d4eef6d9d6c",
   "metadata": {},
   "source": [
    "##### Home Ownersip\n",
    "- replace NONE with RENT"
   ]
  },
  {
   "cell_type": "code",
   "execution_count": 85,
   "id": "d0227c6b-d55e-4fbc-b757-ea70436841d5",
   "metadata": {},
   "outputs": [
    {
     "data": {
      "text/plain": [
       "RENT        18480\n",
       "MORTGAGE    17021\n",
       "OWN          2975\n",
       "OTHER          98\n",
       "NONE            3\n",
       "Name: home_ownership, dtype: int64"
      ]
     },
     "execution_count": 85,
     "metadata": {},
     "output_type": "execute_result"
    }
   ],
   "source": [
    "loan_df.home_ownership.value_counts()"
   ]
  },
  {
   "cell_type": "markdown",
   "id": "0cd776b4-96f6-4fa1-8d26-6e94696e55a8",
   "metadata": {},
   "source": [
    "###### Imputing NONE with mode (i.e. RENT)"
   ]
  },
  {
   "cell_type": "code",
   "execution_count": 86,
   "id": "655e7cf0-2da4-4f39-93b3-c53296af6add",
   "metadata": {},
   "outputs": [],
   "source": [
    "loan_df.home_ownership = loan_df.home_ownership.apply(lambda x: x.replace('NONE', 'RENT'))"
   ]
  },
  {
   "cell_type": "code",
   "execution_count": 87,
   "id": "412e131e-2798-4c78-80c9-96a40e9b8063",
   "metadata": {},
   "outputs": [
    {
     "data": {
      "text/plain": [
       "RENT        18483\n",
       "MORTGAGE    17021\n",
       "OWN          2975\n",
       "OTHER          98\n",
       "Name: home_ownership, dtype: int64"
      ]
     },
     "execution_count": 87,
     "metadata": {},
     "output_type": "execute_result"
    }
   ],
   "source": [
    "loan_df.home_ownership.value_counts()"
   ]
  },
  {
   "cell_type": "markdown",
   "id": "827a217f-e03f-42c6-8a29-f41e3e966fa8",
   "metadata": {},
   "source": [
    "---"
   ]
  },
  {
   "cell_type": "markdown",
   "id": "9afcdad1-24cf-4551-a5aa-fe0a215b241c",
   "metadata": {},
   "source": [
    "##### Verification Status"
   ]
  },
  {
   "cell_type": "code",
   "execution_count": 88,
   "id": "16cb4cca-ba8e-4db0-913c-bc434ea2478d",
   "metadata": {},
   "outputs": [
    {
     "data": {
      "text/plain": [
       "Not Verified       16694\n",
       "Verified           12206\n",
       "Source Verified     9677\n",
       "Name: verification_status, dtype: int64"
      ]
     },
     "execution_count": 88,
     "metadata": {},
     "output_type": "execute_result"
    }
   ],
   "source": [
    "loan_df.verification_status.value_counts()"
   ]
  },
  {
   "cell_type": "markdown",
   "id": "f252da3f-0ee1-462a-9706-fbd39b2552ff",
   "metadata": {},
   "source": [
    "---"
   ]
  },
  {
   "cell_type": "markdown",
   "id": "c193fbe0-5590-4692-b1a7-1d7879f42549",
   "metadata": {},
   "source": [
    "##### Loan Status\n",
    "Since there are two types of categorical values, we can convert them to a numeric type for better analysis\n",
    "- charged off => 0\n",
    "- paid => 1"
   ]
  },
  {
   "cell_type": "code",
   "execution_count": 89,
   "id": "18985cf1-9cc4-4922-a720-632cf26c9977",
   "metadata": {},
   "outputs": [
    {
     "data": {
      "text/plain": [
       "Fully Paid     32950\n",
       "Charged Off     5627\n",
       "Name: loan_status, dtype: int64"
      ]
     },
     "execution_count": 89,
     "metadata": {},
     "output_type": "execute_result"
    }
   ],
   "source": [
    "loan_df.loan_status.value_counts()"
   ]
  },
  {
   "cell_type": "code",
   "execution_count": 90,
   "id": "7742be3b-5406-4ef3-a127-86ad88e586c4",
   "metadata": {},
   "outputs": [],
   "source": [
    "loan_df.loan_status = loan_df.loan_status.apply(lambda x: int(x.replace('Fully Paid', '1').replace('Charged Off', '0')))"
   ]
  },
  {
   "cell_type": "code",
   "execution_count": 91,
   "id": "98792a25-cdf0-467e-affe-931f58801942",
   "metadata": {},
   "outputs": [
    {
     "data": {
      "text/plain": [
       "1    32950\n",
       "0     5627\n",
       "Name: loan_status, dtype: int64"
      ]
     },
     "execution_count": 91,
     "metadata": {},
     "output_type": "execute_result"
    }
   ],
   "source": [
    "loan_df.loan_status.value_counts()"
   ]
  },
  {
   "cell_type": "markdown",
   "id": "cb3cf154-ac2c-4abf-82d1-0af37bab4f7f",
   "metadata": {},
   "source": [
    "---"
   ]
  },
  {
   "cell_type": "markdown",
   "id": "8ca86a46-89d3-462a-a530-3a1ef58fb835",
   "metadata": {},
   "source": [
    "##### Purpose"
   ]
  },
  {
   "cell_type": "code",
   "execution_count": 92,
   "id": "50ee6332-e726-4762-ae7d-196f36449617",
   "metadata": {},
   "outputs": [
    {
     "data": {
      "text/plain": [
       "debt_consolidation    18055\n",
       "credit_card            5027\n",
       "other                  3865\n",
       "home_improvement       2875\n",
       "major_purchase         2150\n",
       "small_business         1754\n",
       "car                    1499\n",
       "wedding                 926\n",
       "medical                 681\n",
       "moving                  576\n",
       "vacation                375\n",
       "house                   367\n",
       "educational             325\n",
       "renewable_energy        102\n",
       "Name: purpose, dtype: int64"
      ]
     },
     "execution_count": 92,
     "metadata": {},
     "output_type": "execute_result"
    }
   ],
   "source": [
    "loan_df.purpose.value_counts()"
   ]
  },
  {
   "cell_type": "markdown",
   "id": "48b7bfaf-eeb2-4279-ac94-022db7979bf9",
   "metadata": {},
   "source": [
    "---"
   ]
  },
  {
   "cell_type": "markdown",
   "id": "8fc013bd-daa7-4356-93db-0f50fb9feb58",
   "metadata": {},
   "source": [
    "##### Zip Code\n",
    "- convert to numeric by removing xx"
   ]
  },
  {
   "cell_type": "code",
   "execution_count": 93,
   "id": "b4799418-b0cd-4e8f-b1b6-dab6d2966230",
   "metadata": {},
   "outputs": [
    {
     "data": {
      "text/plain": [
       "100xx    583\n",
       "945xx    531\n",
       "112xx    502\n",
       "606xx    493\n",
       "070xx    455\n",
       "Name: zip_code, dtype: int64"
      ]
     },
     "execution_count": 93,
     "metadata": {},
     "output_type": "execute_result"
    }
   ],
   "source": [
    "loan_df.zip_code.value_counts().head()"
   ]
  },
  {
   "cell_type": "code",
   "execution_count": 94,
   "id": "e455fe50-32fd-426d-8535-4106d1795bae",
   "metadata": {},
   "outputs": [],
   "source": [
    "loan_df.zip_code = loan_df.zip_code.apply(lambda x: int(x.replace('xx', '')))"
   ]
  },
  {
   "cell_type": "code",
   "execution_count": 95,
   "id": "2407db0e-9a27-451b-b8ed-28de7c381634",
   "metadata": {},
   "outputs": [
    {
     "data": {
      "text/plain": [
       "100    583\n",
       "945    531\n",
       "112    502\n",
       "606    493\n",
       "70     455\n",
       "Name: zip_code, dtype: int64"
      ]
     },
     "execution_count": 95,
     "metadata": {},
     "output_type": "execute_result"
    }
   ],
   "source": [
    "loan_df.zip_code.value_counts().head()"
   ]
  },
  {
   "cell_type": "markdown",
   "id": "56b70cf2-9164-4b23-9ccc-196f143df636",
   "metadata": {},
   "source": [
    "---"
   ]
  },
  {
   "cell_type": "markdown",
   "id": "ec0409f6-4b06-4297-9516-f4cae63df373",
   "metadata": {},
   "source": [
    "##### State (Address State - US)"
   ]
  },
  {
   "cell_type": "code",
   "execution_count": 96,
   "id": "3ee81442-d8c2-472b-a3b9-4953bd9da810",
   "metadata": {},
   "outputs": [
    {
     "data": {
      "text/plain": [
       "CA    6949\n",
       "NY    3698\n",
       "FL    2781\n",
       "TX    2659\n",
       "NJ    1790\n",
       "Name: addr_state, dtype: int64"
      ]
     },
     "execution_count": 96,
     "metadata": {},
     "output_type": "execute_result"
    }
   ],
   "source": [
    "loan_df.addr_state.value_counts().head()"
   ]
  },
  {
   "cell_type": "markdown",
   "id": "38e58849-117b-44dc-8e3f-b2b9b04fc57c",
   "metadata": {},
   "source": [
    "---"
   ]
  },
  {
   "cell_type": "markdown",
   "id": "5cc910f9-a7c8-48ce-b8aa-e1a185d57c8e",
   "metadata": {},
   "source": [
    "##### Grade - convert to numeric for correlation / other analysis?"
   ]
  },
  {
   "cell_type": "code",
   "execution_count": 97,
   "id": "31edbc5e-94a5-4b08-8f9a-e6aa3a692b52",
   "metadata": {},
   "outputs": [
    {
     "data": {
      "text/plain": [
       "B    11675\n",
       "A    10045\n",
       "C     7834\n",
       "D     5085\n",
       "E     2663\n",
       "F      976\n",
       "G      299\n",
       "Name: grade, dtype: int64"
      ]
     },
     "execution_count": 97,
     "metadata": {},
     "output_type": "execute_result"
    }
   ],
   "source": [
    "loan_df.grade.value_counts()"
   ]
  },
  {
   "cell_type": "markdown",
   "id": "9ecca20c-755f-4e44-b8c5-8ddb132ea0c0",
   "metadata": {},
   "source": [
    "---"
   ]
  },
  {
   "cell_type": "markdown",
   "id": "7bdd459c-1381-45d5-b0f1-385eabe77aed",
   "metadata": {},
   "source": [
    "##### Sub Grade - convert to numeric?"
   ]
  },
  {
   "cell_type": "code",
   "execution_count": 98,
   "id": "7b6b4d83-a9f5-451d-9619-1b96659098d4",
   "metadata": {},
   "outputs": [
    {
     "data": {
      "text/plain": [
       "A4    2873\n",
       "B3    2825\n",
       "A5    2715\n",
       "B5    2615\n",
       "B4    2437\n",
       "Name: sub_grade, dtype: int64"
      ]
     },
     "execution_count": 98,
     "metadata": {},
     "output_type": "execute_result"
    }
   ],
   "source": [
    "loan_df.sub_grade.value_counts().head()"
   ]
  },
  {
   "cell_type": "markdown",
   "id": "77e6ba98-e14b-421b-90ce-ed777652bddd",
   "metadata": {},
   "source": [
    "###### Observation: Subgrade contains grade information as well"
   ]
  },
  {
   "cell_type": "code",
   "execution_count": 99,
   "id": "8638ad7c-e67b-4df6-adca-bb6e8db1606b",
   "metadata": {},
   "outputs": [
    {
     "data": {
      "text/html": [
       "<div>\n",
       "<style scoped>\n",
       "    .dataframe tbody tr th:only-of-type {\n",
       "        vertical-align: middle;\n",
       "    }\n",
       "\n",
       "    .dataframe tbody tr th {\n",
       "        vertical-align: top;\n",
       "    }\n",
       "\n",
       "    .dataframe thead th {\n",
       "        text-align: right;\n",
       "    }\n",
       "</style>\n",
       "<table border=\"1\" class=\"dataframe\">\n",
       "  <thead>\n",
       "    <tr style=\"text-align: right;\">\n",
       "      <th></th>\n",
       "      <th>grade</th>\n",
       "      <th>sub_grade</th>\n",
       "    </tr>\n",
       "  </thead>\n",
       "  <tbody>\n",
       "    <tr>\n",
       "      <th>0</th>\n",
       "      <td>B</td>\n",
       "      <td>B2</td>\n",
       "    </tr>\n",
       "    <tr>\n",
       "      <th>1</th>\n",
       "      <td>C</td>\n",
       "      <td>C4</td>\n",
       "    </tr>\n",
       "    <tr>\n",
       "      <th>2</th>\n",
       "      <td>C</td>\n",
       "      <td>C5</td>\n",
       "    </tr>\n",
       "    <tr>\n",
       "      <th>3</th>\n",
       "      <td>C</td>\n",
       "      <td>C1</td>\n",
       "    </tr>\n",
       "    <tr>\n",
       "      <th>5</th>\n",
       "      <td>A</td>\n",
       "      <td>A4</td>\n",
       "    </tr>\n",
       "    <tr>\n",
       "      <th>...</th>\n",
       "      <td>...</td>\n",
       "      <td>...</td>\n",
       "    </tr>\n",
       "    <tr>\n",
       "      <th>39712</th>\n",
       "      <td>A</td>\n",
       "      <td>A4</td>\n",
       "    </tr>\n",
       "    <tr>\n",
       "      <th>39713</th>\n",
       "      <td>C</td>\n",
       "      <td>C1</td>\n",
       "    </tr>\n",
       "    <tr>\n",
       "      <th>39714</th>\n",
       "      <td>A</td>\n",
       "      <td>A4</td>\n",
       "    </tr>\n",
       "    <tr>\n",
       "      <th>39715</th>\n",
       "      <td>A</td>\n",
       "      <td>A2</td>\n",
       "    </tr>\n",
       "    <tr>\n",
       "      <th>39716</th>\n",
       "      <td>E</td>\n",
       "      <td>E2</td>\n",
       "    </tr>\n",
       "  </tbody>\n",
       "</table>\n",
       "<p>38577 rows × 2 columns</p>\n",
       "</div>"
      ],
      "text/plain": [
       "      grade sub_grade\n",
       "0         B        B2\n",
       "1         C        C4\n",
       "2         C        C5\n",
       "3         C        C1\n",
       "5         A        A4\n",
       "...     ...       ...\n",
       "39712     A        A4\n",
       "39713     C        C1\n",
       "39714     A        A4\n",
       "39715     A        A2\n",
       "39716     E        E2\n",
       "\n",
       "[38577 rows x 2 columns]"
      ]
     },
     "execution_count": 99,
     "metadata": {},
     "output_type": "execute_result"
    }
   ],
   "source": [
    "loan_df.loc[:,['grade', 'sub_grade']]"
   ]
  },
  {
   "cell_type": "code",
   "execution_count": 100,
   "id": "bace1e2f-bdf3-432d-865b-bd5f0e16513f",
   "metadata": {},
   "outputs": [],
   "source": [
    "#loan_df['sub_grade_num'] = loan_df.sub_grade.apply(lambda x: x[1])"
   ]
  },
  {
   "cell_type": "code",
   "execution_count": 101,
   "id": "956aead5-790c-45ba-9a47-55709149cc9c",
   "metadata": {},
   "outputs": [],
   "source": [
    "#loan_df.loc[:,['grade', 'sub_grade', 'sub_grade_num']]"
   ]
  },
  {
   "cell_type": "code",
   "execution_count": 102,
   "id": "d22ace1b-33d1-4202-9744-98800af78d30",
   "metadata": {},
   "outputs": [
    {
     "data": {
      "text/html": [
       "<div>\n",
       "<style scoped>\n",
       "    .dataframe tbody tr th:only-of-type {\n",
       "        vertical-align: middle;\n",
       "    }\n",
       "\n",
       "    .dataframe tbody tr th {\n",
       "        vertical-align: top;\n",
       "    }\n",
       "\n",
       "    .dataframe thead th {\n",
       "        text-align: right;\n",
       "    }\n",
       "</style>\n",
       "<table border=\"1\" class=\"dataframe\">\n",
       "  <thead>\n",
       "    <tr style=\"text-align: right;\">\n",
       "      <th></th>\n",
       "      <th>term</th>\n",
       "      <th>grade</th>\n",
       "      <th>sub_grade</th>\n",
       "      <th>home_ownership</th>\n",
       "      <th>verification_status</th>\n",
       "      <th>purpose</th>\n",
       "      <th>addr_state</th>\n",
       "    </tr>\n",
       "  </thead>\n",
       "  <tbody>\n",
       "    <tr>\n",
       "      <th>0</th>\n",
       "      <td>36 months</td>\n",
       "      <td>B</td>\n",
       "      <td>B2</td>\n",
       "      <td>RENT</td>\n",
       "      <td>Verified</td>\n",
       "      <td>credit_card</td>\n",
       "      <td>AZ</td>\n",
       "    </tr>\n",
       "    <tr>\n",
       "      <th>1</th>\n",
       "      <td>60 months</td>\n",
       "      <td>C</td>\n",
       "      <td>C4</td>\n",
       "      <td>RENT</td>\n",
       "      <td>Source Verified</td>\n",
       "      <td>car</td>\n",
       "      <td>GA</td>\n",
       "    </tr>\n",
       "    <tr>\n",
       "      <th>2</th>\n",
       "      <td>36 months</td>\n",
       "      <td>C</td>\n",
       "      <td>C5</td>\n",
       "      <td>RENT</td>\n",
       "      <td>Not Verified</td>\n",
       "      <td>small_business</td>\n",
       "      <td>IL</td>\n",
       "    </tr>\n",
       "    <tr>\n",
       "      <th>3</th>\n",
       "      <td>36 months</td>\n",
       "      <td>C</td>\n",
       "      <td>C1</td>\n",
       "      <td>RENT</td>\n",
       "      <td>Source Verified</td>\n",
       "      <td>other</td>\n",
       "      <td>CA</td>\n",
       "    </tr>\n",
       "    <tr>\n",
       "      <th>5</th>\n",
       "      <td>36 months</td>\n",
       "      <td>A</td>\n",
       "      <td>A4</td>\n",
       "      <td>RENT</td>\n",
       "      <td>Source Verified</td>\n",
       "      <td>wedding</td>\n",
       "      <td>AZ</td>\n",
       "    </tr>\n",
       "    <tr>\n",
       "      <th>...</th>\n",
       "      <td>...</td>\n",
       "      <td>...</td>\n",
       "      <td>...</td>\n",
       "      <td>...</td>\n",
       "      <td>...</td>\n",
       "      <td>...</td>\n",
       "      <td>...</td>\n",
       "    </tr>\n",
       "    <tr>\n",
       "      <th>39712</th>\n",
       "      <td>36 months</td>\n",
       "      <td>A</td>\n",
       "      <td>A4</td>\n",
       "      <td>MORTGAGE</td>\n",
       "      <td>Not Verified</td>\n",
       "      <td>home_improvement</td>\n",
       "      <td>CO</td>\n",
       "    </tr>\n",
       "    <tr>\n",
       "      <th>39713</th>\n",
       "      <td>36 months</td>\n",
       "      <td>C</td>\n",
       "      <td>C1</td>\n",
       "      <td>RENT</td>\n",
       "      <td>Not Verified</td>\n",
       "      <td>credit_card</td>\n",
       "      <td>NC</td>\n",
       "    </tr>\n",
       "    <tr>\n",
       "      <th>39714</th>\n",
       "      <td>36 months</td>\n",
       "      <td>A</td>\n",
       "      <td>A4</td>\n",
       "      <td>MORTGAGE</td>\n",
       "      <td>Not Verified</td>\n",
       "      <td>debt_consolidation</td>\n",
       "      <td>MA</td>\n",
       "    </tr>\n",
       "    <tr>\n",
       "      <th>39715</th>\n",
       "      <td>36 months</td>\n",
       "      <td>A</td>\n",
       "      <td>A2</td>\n",
       "      <td>MORTGAGE</td>\n",
       "      <td>Not Verified</td>\n",
       "      <td>other</td>\n",
       "      <td>MD</td>\n",
       "    </tr>\n",
       "    <tr>\n",
       "      <th>39716</th>\n",
       "      <td>36 months</td>\n",
       "      <td>E</td>\n",
       "      <td>E2</td>\n",
       "      <td>OWN</td>\n",
       "      <td>Not Verified</td>\n",
       "      <td>debt_consolidation</td>\n",
       "      <td>MA</td>\n",
       "    </tr>\n",
       "  </tbody>\n",
       "</table>\n",
       "<p>38577 rows × 7 columns</p>\n",
       "</div>"
      ],
      "text/plain": [
       "             term grade sub_grade home_ownership verification_status  \\\n",
       "0       36 months     B        B2           RENT            Verified   \n",
       "1       60 months     C        C4           RENT     Source Verified   \n",
       "2       36 months     C        C5           RENT        Not Verified   \n",
       "3       36 months     C        C1           RENT     Source Verified   \n",
       "5       36 months     A        A4           RENT     Source Verified   \n",
       "...           ...   ...       ...            ...                 ...   \n",
       "39712   36 months     A        A4       MORTGAGE        Not Verified   \n",
       "39713   36 months     C        C1           RENT        Not Verified   \n",
       "39714   36 months     A        A4       MORTGAGE        Not Verified   \n",
       "39715   36 months     A        A2       MORTGAGE        Not Verified   \n",
       "39716   36 months     E        E2            OWN        Not Verified   \n",
       "\n",
       "                  purpose addr_state  \n",
       "0             credit_card         AZ  \n",
       "1                     car         GA  \n",
       "2          small_business         IL  \n",
       "3                   other         CA  \n",
       "5                 wedding         AZ  \n",
       "...                   ...        ...  \n",
       "39712    home_improvement         CO  \n",
       "39713         credit_card         NC  \n",
       "39714  debt_consolidation         MA  \n",
       "39715               other         MD  \n",
       "39716  debt_consolidation         MA  \n",
       "\n",
       "[38577 rows x 7 columns]"
      ]
     },
     "execution_count": 102,
     "metadata": {},
     "output_type": "execute_result"
    }
   ],
   "source": [
    "loan_df.select_dtypes('object')"
   ]
  },
  {
   "cell_type": "code",
   "execution_count": 103,
   "id": "90499197-c430-433c-b8ae-439c72f4a495",
   "metadata": {},
   "outputs": [
    {
     "data": {
      "text/html": [
       "<div>\n",
       "<style scoped>\n",
       "    .dataframe tbody tr th:only-of-type {\n",
       "        vertical-align: middle;\n",
       "    }\n",
       "\n",
       "    .dataframe tbody tr th {\n",
       "        vertical-align: top;\n",
       "    }\n",
       "\n",
       "    .dataframe thead th {\n",
       "        text-align: right;\n",
       "    }\n",
       "</style>\n",
       "<table border=\"1\" class=\"dataframe\">\n",
       "  <thead>\n",
       "    <tr style=\"text-align: right;\">\n",
       "      <th></th>\n",
       "      <th>loan_amnt</th>\n",
       "      <th>int_rate</th>\n",
       "      <th>installment</th>\n",
       "      <th>emp_length</th>\n",
       "      <th>annual_inc</th>\n",
       "      <th>loan_status</th>\n",
       "      <th>zip_code</th>\n",
       "      <th>dti</th>\n",
       "      <th>mths_since_last_delinq</th>\n",
       "      <th>pub_rec_bankruptcies</th>\n",
       "      <th>month</th>\n",
       "      <th>year</th>\n",
       "    </tr>\n",
       "  </thead>\n",
       "  <tbody>\n",
       "    <tr>\n",
       "      <th>loan_amnt</th>\n",
       "      <td>1.000000</td>\n",
       "      <td>0.301265</td>\n",
       "      <td>0.932260</td>\n",
       "      <td>0.129729</td>\n",
       "      <td>0.268999</td>\n",
       "      <td>-0.059463</td>\n",
       "      <td>-0.000281</td>\n",
       "      <td>0.062436</td>\n",
       "      <td>0.015440</td>\n",
       "      <td>-0.035141</td>\n",
       "      <td>0.051902</td>\n",
       "      <td>0.109814</td>\n",
       "    </tr>\n",
       "    <tr>\n",
       "      <th>int_rate</th>\n",
       "      <td>0.301265</td>\n",
       "      <td>1.000000</td>\n",
       "      <td>0.277203</td>\n",
       "      <td>-0.011139</td>\n",
       "      <td>0.048899</td>\n",
       "      <td>-0.211390</td>\n",
       "      <td>0.012297</td>\n",
       "      <td>0.110913</td>\n",
       "      <td>-0.054307</td>\n",
       "      <td>0.084016</td>\n",
       "      <td>0.025285</td>\n",
       "      <td>0.039417</td>\n",
       "    </tr>\n",
       "    <tr>\n",
       "      <th>installment</th>\n",
       "      <td>0.932260</td>\n",
       "      <td>0.277203</td>\n",
       "      <td>1.000000</td>\n",
       "      <td>0.103062</td>\n",
       "      <td>0.267842</td>\n",
       "      <td>-0.027153</td>\n",
       "      <td>0.004203</td>\n",
       "      <td>0.052038</td>\n",
       "      <td>0.000268</td>\n",
       "      <td>-0.033038</td>\n",
       "      <td>0.029439</td>\n",
       "      <td>0.053066</td>\n",
       "    </tr>\n",
       "    <tr>\n",
       "      <th>emp_length</th>\n",
       "      <td>0.129729</td>\n",
       "      <td>-0.011139</td>\n",
       "      <td>0.103062</td>\n",
       "      <td>1.000000</td>\n",
       "      <td>0.093863</td>\n",
       "      <td>-0.023377</td>\n",
       "      <td>-0.004547</td>\n",
       "      <td>0.045862</td>\n",
       "      <td>0.052448</td>\n",
       "      <td>0.070850</td>\n",
       "      <td>0.021543</td>\n",
       "      <td>0.131121</td>\n",
       "    </tr>\n",
       "    <tr>\n",
       "      <th>annual_inc</th>\n",
       "      <td>0.268999</td>\n",
       "      <td>0.048899</td>\n",
       "      <td>0.267842</td>\n",
       "      <td>0.093863</td>\n",
       "      <td>1.000000</td>\n",
       "      <td>0.040867</td>\n",
       "      <td>-0.004619</td>\n",
       "      <td>-0.121530</td>\n",
       "      <td>-0.007442</td>\n",
       "      <td>-0.015955</td>\n",
       "      <td>0.008980</td>\n",
       "      <td>0.008558</td>\n",
       "    </tr>\n",
       "    <tr>\n",
       "      <th>loan_status</th>\n",
       "      <td>-0.059463</td>\n",
       "      <td>-0.211390</td>\n",
       "      <td>-0.027153</td>\n",
       "      <td>-0.023377</td>\n",
       "      <td>0.040867</td>\n",
       "      <td>1.000000</td>\n",
       "      <td>-0.017514</td>\n",
       "      <td>-0.045078</td>\n",
       "      <td>-0.005377</td>\n",
       "      <td>-0.046989</td>\n",
       "      <td>-0.024762</td>\n",
       "      <td>-0.024451</td>\n",
       "    </tr>\n",
       "    <tr>\n",
       "      <th>zip_code</th>\n",
       "      <td>-0.000281</td>\n",
       "      <td>0.012297</td>\n",
       "      <td>0.004203</td>\n",
       "      <td>-0.004547</td>\n",
       "      <td>-0.004619</td>\n",
       "      <td>-0.017514</td>\n",
       "      <td>1.000000</td>\n",
       "      <td>0.017947</td>\n",
       "      <td>0.026431</td>\n",
       "      <td>0.032571</td>\n",
       "      <td>0.006113</td>\n",
       "      <td>0.013045</td>\n",
       "    </tr>\n",
       "    <tr>\n",
       "      <th>dti</th>\n",
       "      <td>0.062436</td>\n",
       "      <td>0.110913</td>\n",
       "      <td>0.052038</td>\n",
       "      <td>0.045862</td>\n",
       "      <td>-0.121530</td>\n",
       "      <td>-0.045078</td>\n",
       "      <td>0.017947</td>\n",
       "      <td>1.000000</td>\n",
       "      <td>0.068705</td>\n",
       "      <td>0.007315</td>\n",
       "      <td>0.014197</td>\n",
       "      <td>0.092857</td>\n",
       "    </tr>\n",
       "    <tr>\n",
       "      <th>mths_since_last_delinq</th>\n",
       "      <td>0.015440</td>\n",
       "      <td>-0.054307</td>\n",
       "      <td>0.000268</td>\n",
       "      <td>0.052448</td>\n",
       "      <td>-0.007442</td>\n",
       "      <td>-0.005377</td>\n",
       "      <td>0.026431</td>\n",
       "      <td>0.068705</td>\n",
       "      <td>1.000000</td>\n",
       "      <td>0.036445</td>\n",
       "      <td>0.053102</td>\n",
       "      <td>0.139112</td>\n",
       "    </tr>\n",
       "    <tr>\n",
       "      <th>pub_rec_bankruptcies</th>\n",
       "      <td>-0.035141</td>\n",
       "      <td>0.084016</td>\n",
       "      <td>-0.033038</td>\n",
       "      <td>0.070850</td>\n",
       "      <td>-0.015955</td>\n",
       "      <td>-0.046989</td>\n",
       "      <td>0.032571</td>\n",
       "      <td>0.007315</td>\n",
       "      <td>0.036445</td>\n",
       "      <td>1.000000</td>\n",
       "      <td>-0.018413</td>\n",
       "      <td>0.011869</td>\n",
       "    </tr>\n",
       "    <tr>\n",
       "      <th>month</th>\n",
       "      <td>0.051902</td>\n",
       "      <td>0.025285</td>\n",
       "      <td>0.029439</td>\n",
       "      <td>0.021543</td>\n",
       "      <td>0.008980</td>\n",
       "      <td>-0.024762</td>\n",
       "      <td>0.006113</td>\n",
       "      <td>0.014197</td>\n",
       "      <td>0.053102</td>\n",
       "      <td>-0.018413</td>\n",
       "      <td>1.000000</td>\n",
       "      <td>-0.035536</td>\n",
       "    </tr>\n",
       "    <tr>\n",
       "      <th>year</th>\n",
       "      <td>0.109814</td>\n",
       "      <td>0.039417</td>\n",
       "      <td>0.053066</td>\n",
       "      <td>0.131121</td>\n",
       "      <td>0.008558</td>\n",
       "      <td>-0.024451</td>\n",
       "      <td>0.013045</td>\n",
       "      <td>0.092857</td>\n",
       "      <td>0.139112</td>\n",
       "      <td>0.011869</td>\n",
       "      <td>-0.035536</td>\n",
       "      <td>1.000000</td>\n",
       "    </tr>\n",
       "  </tbody>\n",
       "</table>\n",
       "</div>"
      ],
      "text/plain": [
       "                        loan_amnt  int_rate  installment  emp_length  \\\n",
       "loan_amnt                1.000000  0.301265     0.932260    0.129729   \n",
       "int_rate                 0.301265  1.000000     0.277203   -0.011139   \n",
       "installment              0.932260  0.277203     1.000000    0.103062   \n",
       "emp_length               0.129729 -0.011139     0.103062    1.000000   \n",
       "annual_inc               0.268999  0.048899     0.267842    0.093863   \n",
       "loan_status             -0.059463 -0.211390    -0.027153   -0.023377   \n",
       "zip_code                -0.000281  0.012297     0.004203   -0.004547   \n",
       "dti                      0.062436  0.110913     0.052038    0.045862   \n",
       "mths_since_last_delinq   0.015440 -0.054307     0.000268    0.052448   \n",
       "pub_rec_bankruptcies    -0.035141  0.084016    -0.033038    0.070850   \n",
       "month                    0.051902  0.025285     0.029439    0.021543   \n",
       "year                     0.109814  0.039417     0.053066    0.131121   \n",
       "\n",
       "                        annual_inc  loan_status  zip_code       dti  \\\n",
       "loan_amnt                 0.268999    -0.059463 -0.000281  0.062436   \n",
       "int_rate                  0.048899    -0.211390  0.012297  0.110913   \n",
       "installment               0.267842    -0.027153  0.004203  0.052038   \n",
       "emp_length                0.093863    -0.023377 -0.004547  0.045862   \n",
       "annual_inc                1.000000     0.040867 -0.004619 -0.121530   \n",
       "loan_status               0.040867     1.000000 -0.017514 -0.045078   \n",
       "zip_code                 -0.004619    -0.017514  1.000000  0.017947   \n",
       "dti                      -0.121530    -0.045078  0.017947  1.000000   \n",
       "mths_since_last_delinq   -0.007442    -0.005377  0.026431  0.068705   \n",
       "pub_rec_bankruptcies     -0.015955    -0.046989  0.032571  0.007315   \n",
       "month                     0.008980    -0.024762  0.006113  0.014197   \n",
       "year                      0.008558    -0.024451  0.013045  0.092857   \n",
       "\n",
       "                        mths_since_last_delinq  pub_rec_bankruptcies  \\\n",
       "loan_amnt                             0.015440             -0.035141   \n",
       "int_rate                             -0.054307              0.084016   \n",
       "installment                           0.000268             -0.033038   \n",
       "emp_length                            0.052448              0.070850   \n",
       "annual_inc                           -0.007442             -0.015955   \n",
       "loan_status                          -0.005377             -0.046989   \n",
       "zip_code                              0.026431              0.032571   \n",
       "dti                                   0.068705              0.007315   \n",
       "mths_since_last_delinq                1.000000              0.036445   \n",
       "pub_rec_bankruptcies                  0.036445              1.000000   \n",
       "month                                 0.053102             -0.018413   \n",
       "year                                  0.139112              0.011869   \n",
       "\n",
       "                           month      year  \n",
       "loan_amnt               0.051902  0.109814  \n",
       "int_rate                0.025285  0.039417  \n",
       "installment             0.029439  0.053066  \n",
       "emp_length              0.021543  0.131121  \n",
       "annual_inc              0.008980  0.008558  \n",
       "loan_status            -0.024762 -0.024451  \n",
       "zip_code                0.006113  0.013045  \n",
       "dti                     0.014197  0.092857  \n",
       "mths_since_last_delinq  0.053102  0.139112  \n",
       "pub_rec_bankruptcies   -0.018413  0.011869  \n",
       "month                   1.000000 -0.035536  \n",
       "year                   -0.035536  1.000000  "
      ]
     },
     "execution_count": 103,
     "metadata": {},
     "output_type": "execute_result"
    }
   ],
   "source": [
    "loan_df.corr()"
   ]
  },
  {
   "cell_type": "code",
   "execution_count": 104,
   "id": "ca20e0b0-4661-4a7a-85e8-c111e9f9faed",
   "metadata": {},
   "outputs": [
    {
     "data": {
      "image/png": "[encoded data removed]",
      "text/plain": [
       "<Figure size 720x576 with 2 Axes>"
      ]
     },
     "metadata": {
      "needs_background": "light"
     },
     "output_type": "display_data"
    }
   ],
   "source": [
    "plt.figure(figsize=(10,8))\n",
    "\n",
    "ax = sns.heatmap(\n",
    "    loan_df.corr(), \n",
    "    vmin=-1, vmax=1, center=0,\n",
    "    cmap=sns.diverging_palette(20, 220, n=200),\n",
    "    square=True\n",
    ")\n",
    "ax.set_xticklabels(\n",
    "    ax.get_xticklabels(),\n",
    "    rotation=45,\n",
    "    horizontalalignment='right'\n",
    ");"
   ]
  },
  {
   "cell_type": "markdown",
   "id": "41b3250a-03e4-4cf3-863b-cb979b13ad32",
   "metadata": {},
   "source": [
    "---"
   ]
  },
  {
   "cell_type": "markdown",
   "id": "55fbeb55-2e66-483e-b63a-8c690333b212",
   "metadata": {},
   "source": [
    "## Univariate Analysis\n",
    "- Perform univariate analysis on each of the columns"
   ]
  },
  {
   "cell_type": "code",
   "execution_count": 105,
   "id": "3c074cee-3c9d-402e-9b22-ce8c7544dd78",
   "metadata": {},
   "outputs": [
    {
     "name": "stdout",
     "output_type": "stream",
     "text": [
      "<class 'pandas.core.frame.DataFrame'>\n",
      "Int64Index: 38577 entries, 0 to 39716\n",
      "Data columns (total 20 columns):\n",
      " #   Column                  Non-Null Count  Dtype         \n",
      "---  ------                  --------------  -----         \n",
      " 0   loan_amnt               38577 non-null  int64         \n",
      " 1   term                    38577 non-null  object        \n",
      " 2   int_rate                38577 non-null  float64       \n",
      " 3   installment             38577 non-null  float64       \n",
      " 4   grade                   38577 non-null  object        \n",
      " 5   sub_grade               38577 non-null  object        \n",
      " 6   emp_length              38577 non-null  float64       \n",
      " 7   home_ownership          38577 non-null  object        \n",
      " 8   annual_inc              38577 non-null  float64       \n",
      " 9   verification_status     38577 non-null  object        \n",
      " 10  issue_d                 38577 non-null  datetime64[ns]\n",
      " 11  loan_status             38577 non-null  int64         \n",
      " 12  purpose                 38577 non-null  object        \n",
      " 13  zip_code                38577 non-null  int64         \n",
      " 14  addr_state              38577 non-null  object        \n",
      " 15  dti                     38577 non-null  float64       \n",
      " 16  mths_since_last_delinq  13672 non-null  float64       \n",
      " 17  pub_rec_bankruptcies    38577 non-null  float64       \n",
      " 18  month                   38577 non-null  int64         \n",
      " 19  year                    38577 non-null  int64         \n",
      "dtypes: datetime64[ns](1), float64(7), int64(5), object(7)\n",
      "memory usage: 6.2+ MB\n"
     ]
    }
   ],
   "source": [
    "loan_df.info()"
   ]
  },
  {
   "cell_type": "markdown",
   "id": "0daa0384-ac01-48a0-84fb-f92296980699",
   "metadata": {},
   "source": [
    "##### Loan Amount"
   ]
  },
  {
   "cell_type": "code",
   "execution_count": 106,
   "id": "0ef3176e-4973-4196-84ed-89adc2f246a3",
   "metadata": {},
   "outputs": [
    {
     "data": {
      "text/plain": [
       "count    38577.000000\n",
       "mean     11047.025430\n",
       "std       7348.441646\n",
       "min        500.000000\n",
       "25%       5300.000000\n",
       "50%       9600.000000\n",
       "75%      15000.000000\n",
       "max      35000.000000\n",
       "Name: loan_amnt, dtype: float64"
      ]
     },
     "execution_count": 106,
     "metadata": {},
     "output_type": "execute_result"
    }
   ],
   "source": [
    "loan_df.loan_amnt.describe()"
   ]
  },
  {
   "cell_type": "markdown",
   "id": "6d1da3fd-955b-4627-9614-923402ee8b74",
   "metadata": {},
   "source": [
    "##### Observation: The minimum loan applied is 500USD and maximum loan applied is 35000 USD"
   ]
  },
  {
   "cell_type": "code",
   "execution_count": 107,
   "id": "99f6472f-ba15-4d4b-abc1-205cf1d212ed",
   "metadata": {},
   "outputs": [
    {
     "data": {
      "image/png": "[encoded data removed]",
      "text/plain": [
       "<Figure size 1080x432 with 2 Axes>"
      ]
     },
     "metadata": {
      "needs_background": "light"
     },
     "output_type": "display_data"
    }
   ],
   "source": [
    "fig, (ax1, ax2) = plt.subplots(1, 2, figsize=(15,6))\n",
    "\n",
    "plt.suptitle('Loan Amount Distribution')\n",
    "sns.histplot(loan_df.loan_amnt, bins=7, ax=ax1)\n",
    "loan_df.loan_amnt.value_counts()[0:10].plot(kind='bar', ax=ax2)\n",
    "ax2.set_xticklabels(ax2.get_xticklabels(), rotation=0)\n",
    "ax2.set_xlabel('Loan Amount (Top 10)')\n",
    "ax2.set_ylabel('Number of Applicants')\n",
    "ax1.set_xlabel('Loan Amount (Range)')\n",
    "ax1.set_ylabel('Number of Applicants')\n",
    "plt.show()"
   ]
  },
  {
   "cell_type": "markdown",
   "id": "45554ad2-a5b6-4562-b6b9-300b7ba075fc",
   "metadata": {},
   "source": [
    "Observations:\n",
    "- Most people are applying for a loan within a range of 5000 - 10000 USD"
   ]
  },
  {
   "cell_type": "markdown",
   "id": "ccfaff20-a738-4930-a480-e388e977c81f",
   "metadata": {},
   "source": [
    "---\n"
   ]
  },
  {
   "cell_type": "markdown",
   "id": "e4baa5bd-5b3e-4335-9688-ff03080e3cdc",
   "metadata": {},
   "source": [
    "##### Term"
   ]
  },
  {
   "cell_type": "code",
   "execution_count": 108,
   "id": "a57a14b9-76e3-4a16-8509-90777fa7c6b8",
   "metadata": {},
   "outputs": [
    {
     "data": {
      "text/plain": [
       "count          38577\n",
       "unique             2\n",
       "top        36 months\n",
       "freq           29096\n",
       "Name: term, dtype: object"
      ]
     },
     "execution_count": 108,
     "metadata": {},
     "output_type": "execute_result"
    }
   ],
   "source": [
    "loan_df.term.describe()"
   ]
  },
  {
   "cell_type": "code",
   "execution_count": 109,
   "id": "8ca79a14-927c-465d-9db4-7bfa4ff5a4e3",
   "metadata": {},
   "outputs": [],
   "source": [
    "# loan_df.term = loan_df.term.apply(lambda x: float(str(x).replace('36', '0').replace('60', '1')))"
   ]
  },
  {
   "cell_type": "code",
   "execution_count": 110,
   "id": "71120415-fe57-43cc-98c4-c86a10f3a2d0",
   "metadata": {},
   "outputs": [
    {
     "data": {
      "text/plain": [
       " 36 months    29096\n",
       " 60 months     9481\n",
       "Name: term, dtype: int64"
      ]
     },
     "execution_count": 110,
     "metadata": {},
     "output_type": "execute_result"
    }
   ],
   "source": [
    "loan_df.term.value_counts()"
   ]
  },
  {
   "cell_type": "code",
   "execution_count": 115,
   "id": "8ed52ff3-de1e-4732-bb1f-4534c841effc",
   "metadata": {},
   "outputs": [
    {
     "data": {
      "image/png": "[encoded data removed]",
      "text/plain": [
       "<Figure size 360x360 with 1 Axes>"
      ]
     },
     "metadata": {
      "needs_background": "light"
     },
     "output_type": "display_data"
    }
   ],
   "source": [
    "fig, (ax1) = plt.subplots(1, 1, figsize=(5,5))\n",
    "\n",
    "loan_df.term.value_counts().plot(kind='bar', ax=ax1)\n",
    "ax1.set_xticklabels(ax2.get_xticklabels(), rotation=0)\n",
    "plt.show()\n"
   ]
  },
  {
   "cell_type": "markdown",
   "id": "e6612657-27e2-4d87-8344-fead421dc7df",
   "metadata": {},
   "source": [
    "##### Most people choose 36 months term loan"
   ]
  },
  {
   "cell_type": "markdown",
   "id": "85926a6c-b633-488f-bd8e-a65d788e4897",
   "metadata": {},
   "source": [
    "---"
   ]
  },
  {
   "cell_type": "code",
   "execution_count": 120,
   "id": "48eeddcf-7ab3-44dd-95ab-f644a1365665",
   "metadata": {},
   "outputs": [
    {
     "data": {
      "image/png": "[encoded data removed]",
      "text/plain": [
       "<Figure size 1080x432 with 2 Axes>"
      ]
     },
     "metadata": {
      "needs_background": "light"
     },
     "output_type": "display_data"
    }
   ],
   "source": [
    "fig, (ax1, ax2) = plt.subplots(1, 2, figsize=(15,6))\n",
    "\n",
    "plt.suptitle('Loan Amount Distribution')\n",
    "sns.histplot(loan_df.loan_amnt, bins=7, ax=ax1)\n",
    "loan_df.loan_amnt.value_counts()[0:10].plot(kind='bar', ax=ax2)\n",
    "ax2.set_xticklabels(ax2.get_xticklabels(), rotation=0)\n",
    "ax2.set_xlabel('Loan Amount (Top 10)')\n",
    "ax2.set_ylabel('Number of Applicants')\n",
    "ax1.set_xlabel('Loan Amount (Range)')\n",
    "ax1.set_ylabel('Number of Applicants')\n",
    "plt.show()"
   ]
  },
  {
   "cell_type": "code",
   "execution_count": 133,
   "id": "86f060fb-7885-4998-836a-e4ad42d76e99",
   "metadata": {},
   "outputs": [
    {
     "name": "stdout",
     "output_type": "stream",
     "text": [
      "loan_amnt : 870\n",
      "int_rate : 370\n",
      "installment : 15022\n",
      "sub_grade : 35\n",
      "emp_length : 11\n",
      "annual_inc : 5215\n",
      "issue_d : 55\n",
      "purpose : 14\n",
      "zip_code : 822\n",
      "addr_state : 50\n",
      "dti : 2853\n",
      "mths_since_last_delinq : 96\n",
      "month : 12\n",
      "['loan_amnt', 'int_rate', 'installment', 'sub_grade', 'emp_length', 'annual_inc', 'issue_d', 'purpose', 'zip_code', 'addr_state', 'dti', 'mths_since_last_delinq', 'month']\n"
     ]
    }
   ],
   "source": [
    "col_continous = []\n",
    "for col in loan_df:\n",
    "    if len(loan_df[col].unique()) > 10:\n",
    "        print(col, ':',len(loan_df[col].unique()))\n",
    "        col_continous.append(col)\n",
    "print(col_continous)"
   ]
  },
  {
   "cell_type": "code",
   "execution_count": 167,
   "id": "0c7afe7c-d03e-4bf0-b062-bf31d146e839",
   "metadata": {},
   "outputs": [],
   "source": [
    "def plot_continous(loan_df, column):\n",
    "    fig, (ax1, ax2, ax3) = plt.subplots(1, 3, figsize=(15,5))\n",
    "\n",
    "#     plt.suptitle('Loan Amount Distribution')\n",
    "    try:\n",
    "        sns.histplot(loan_df[column], bins=7, ax=ax1)\n",
    "    except:\n",
    "        pass\n",
    "    try:\n",
    "        loan_df[column].value_counts()[0:10].plot(kind='bar', ax=ax2)\n",
    "#         ax2.set_xticklabels(ax2.get_xticklabels(), rotation=0)\n",
    "    except:\n",
    "        pass\n",
    "    try:\n",
    "        sns.boxplot(x=column, data=loan_df, ax=ax3)\n",
    "    except:\n",
    "        pass\n",
    "#     ax2.set_xlabel('Loan Amount (Top 10)')\n",
    "#     ax2.set_ylabel('Number of Applicants')\n",
    "#     ax1.set_xlabel('Loan Amount (Range)')\n",
    "#     ax1.set_ylabel('Number of Applicants')\n",
    "    plt.show()"
   ]
  },
  {
   "cell_type": "code",
   "execution_count": 168,
   "id": "f568ee84-8110-4ca9-b82e-dacde79bc69f",
   "metadata": {},
   "outputs": [
    {
     "data": {
      "image/png": "[encoded data removed]",
      "text/plain": [
       "<Figure size 1080x360 with 3 Axes>"
      ]
     },
     "metadata": {
      "needs_background": "light"
     },
     "output_type": "display_data"
    },
    {
     "data": {
      "image/png": "[encoded data removed]",
      "text/plain": [
       "<Figure size 1080x360 with 3 Axes>"
      ]
     },
     "metadata": {
      "needs_background": "light"
     },
     "output_type": "display_data"
    },
    {
     "data": {
      "image/png": "[encoded data removed]",
      "text/plain": [
       "<Figure size 1080x360 with 3 Axes>"
      ]
     },
     "metadata": {
      "needs_background": "light"
     },
     "output_type": "display_data"
    },
    {
     "data": {
      "image/png": "[encoded data removed]",
      "text/plain": [
       "<Figure size 1080x360 with 3 Axes>"
      ]
     },
     "metadata": {
      "needs_background": "light"
     },
     "output_type": "display_data"
    },
    {
     "data": {
      "image/png": "[encoded data removed]",
      "text/plain": [
       "<Figure size 1080x360 with 3 Axes>"
      ]
     },
     "metadata": {
      "needs_background": "light"
     },
     "output_type": "display_data"
    },
    {
     "data": {
      "image/png": "[encoded data removed]",
      "text/plain": [
       "<Figure size 1080x360 with 3 Axes>"
      ]
     },
     "metadata": {
      "needs_background": "light"
     },
     "output_type": "display_data"
    },
    {
     "data": {
      "image/png": "[encoded data removed]",
      "text/plain": [
       "<Figure size 1080x360 with 3 Axes>"
      ]
     },
     "metadata": {
      "needs_background": "light"
     },
     "output_type": "display_data"
    },
    {
     "data": {
      "image/png": "[encoded data removed]",
      "text/plain": [
       "<Figure size 1080x360 with 3 Axes>"
      ]
     },
     "metadata": {
      "needs_background": "light"
     },
     "output_type": "display_data"
    },
    {
     "data": {
      "image/png": "[encoded data removed]",
      "text/plain": [
       "<Figure size 1080x360 with 3 Axes>"
      ]
     },
     "metadata": {
      "needs_background": "light"
     },
     "output_type": "display_data"
    },
    {
     "data": {
      "image/png": "[encoded data removed]",
      "text/plain": [
       "<Figure size 1080x360 with 3 Axes>"
      ]
     },
     "metadata": {
      "needs_background": "light"
     },
     "output_type": "display_data"
    },
    {
     "data": {
      "image/png": "[encoded data removed]",
      "text/plain": [
       "<Figure size 1080x360 with 3 Axes>"
      ]
     },
     "metadata": {
      "needs_background": "light"
     },
     "output_type": "display_data"
    },
    {
     "data": {
      "image/png": "[encoded data removed]",
      "text/plain": [
       "<Figure size 1080x360 with 3 Axes>"
      ]
     },
     "metadata": {
      "needs_background": "light"
     },
     "output_type": "display_data"
    },
    {
     "data": {
      "image/png": "[encoded data removed]",
      "text/plain": [
       "<Figure size 1080x360 with 3 Axes>"
      ]
     },
     "metadata": {
      "needs_background": "light"
     },
     "output_type": "display_data"
    }
   ],
   "source": [
    "import traceback\n",
    "\n",
    "for i in col_continous:\n",
    "    try:\n",
    "        plot_continous(loan_df, i)\n",
    "    except:\n",
    "        print('cannot plot for', i)\n",
    "#         print(traceback.format_exc())"
   ]
  },
  {
   "cell_type": "code",
   "execution_count": 153,
   "id": "46c49449-941d-4289-be87-2598d5a85da2",
   "metadata": {},
   "outputs": [
    {
     "data": {
      "image/png": "[encoded data removed]",
      "text/plain": [
       "<Figure size 432x288 with 1 Axes>"
      ]
     },
     "metadata": {
      "needs_background": "light"
     },
     "output_type": "display_data"
    },
    {
     "data": {
      "image/png": "[encoded data removed]",
      "text/plain": [
       "<Figure size 432x288 with 1 Axes>"
      ]
     },
     "metadata": {
      "needs_background": "light"
     },
     "output_type": "display_data"
    },
    {
     "data": {
      "image/png": "[encoded data removed]",
      "text/plain": [
       "<Figure size 432x288 with 1 Axes>"
      ]
     },
     "metadata": {
      "needs_background": "light"
     },
     "output_type": "display_data"
    },
    {
     "name": "stdout",
     "output_type": "stream",
     "text": [
      "issue in sub_grade\n"
     ]
    },
    {
     "data": {
      "image/png": "[encoded data removed]",
      "text/plain": [
       "<Figure size 432x288 with 1 Axes>"
      ]
     },
     "metadata": {
      "needs_background": "light"
     },
     "output_type": "display_data"
    },
    {
     "data": {
      "image/png": "[encoded data removed]",
      "text/plain": [
       "<Figure size 432x288 with 1 Axes>"
      ]
     },
     "metadata": {
      "needs_background": "light"
     },
     "output_type": "display_data"
    },
    {
     "name": "stdout",
     "output_type": "stream",
     "text": [
      "issue in issue_d\n",
      "issue in purpose\n"
     ]
    },
    {
     "data": {
      "image/png": "[encoded data removed]",
      "text/plain": [
       "<Figure size 432x288 with 1 Axes>"
      ]
     },
     "metadata": {
      "needs_background": "light"
     },
     "output_type": "display_data"
    },
    {
     "name": "stdout",
     "output_type": "stream",
     "text": [
      "issue in addr_state\n"
     ]
    },
    {
     "data": {
      "image/png": "[encoded data removed]",
      "text/plain": [
       "<Figure size 432x288 with 1 Axes>"
      ]
     },
     "metadata": {
      "needs_background": "light"
     },
     "output_type": "display_data"
    },
    {
     "data": {
      "image/png": "[encoded data removed]",
      "text/plain": [
       "<Figure size 432x288 with 1 Axes>"
      ]
     },
     "metadata": {
      "needs_background": "light"
     },
     "output_type": "display_data"
    },
    {
     "data": {
      "image/png": "[encoded data removed]",
      "text/plain": [
       "<Figure size 432x288 with 1 Axes>"
      ]
     },
     "metadata": {
      "needs_background": "light"
     },
     "output_type": "display_data"
    }
   ],
   "source": [
    "for i in col_continous:\n",
    "    try:\n",
    "        sns.boxplot(x=i, data=loan_df)\n",
    "        plt.show()\n",
    "    except:\n",
    "        print('issue in', i)"
   ]
  },
  {
   "cell_type": "markdown",
   "id": "ae6a0385-85a8-4f4e-b0c6-e36abe5f157c",
   "metadata": {},
   "source": [
    "# References\n",
    "- https://seaborn.pydata.org/generated/seaborn.kdeplot.html\n",
    "- https://www.geeksforgeeks.org/convert-the-column-type-from-string-to-datetime-format-in-pandas-dataframe/\n",
    "- https://www.w3schools.com/python/python_datetime.asp\n",
    "- https://www.codegrepper.com/code-examples/python/extract+month+from+datetime+pandas\n",
    "- https://pandas.pydata.org/docs/reference/api/pandas.DataFrame.select_dtypes.html"
   ]
  }
 ],
 "metadata": {
  "kernelspec": {
   "display_name": "Python 3",
   "language": "python",
   "name": "python3"
  },
  "language_info": {
   "codemirror_mode": {
    "name": "ipython",
    "version": 3
   },
   "file_extension": ".py",
   "mimetype": "text/x-python",
   "name": "python",
   "nbconvert_exporter": "python",
   "pygments_lexer": "ipython3",
   "version": "3.8.8"
  }
 },
 "nbformat": 4,
 "nbformat_minor": 5
}
